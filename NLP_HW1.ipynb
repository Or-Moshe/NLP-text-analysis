{
  "nbformat": 4,
  "nbformat_minor": 0,
  "metadata": {
    "colab": {
      "provenance": []
    },
    "kernelspec": {
      "name": "python3",
      "display_name": "Python 3"
    },
    "language_info": {
      "name": "python"
    }
  },
  "cells": [
    {
      "cell_type": "code",
      "execution_count": 83,
      "metadata": {
        "id": "s5CD_mOXDWWM"
      },
      "outputs": [],
      "source": [
        "import numpy as np\n",
        "import pandas as pd\n",
        "import nltk\n",
        "import spacy\n",
        "import requests\n",
        "from bs4 import BeautifulSoup\n",
        "import time\n",
        "import re\n",
        "from collections import Counter\n",
        "import matplotlib.pyplot as plt\n",
        "from nltk.corpus import stopwords\n",
        "import string"
      ]
    },
    {
      "cell_type": "code",
      "source": [
        "# Download necessary NLTK data\n",
        "nltk.download('punkt')\n",
        "\n",
        "# Load the spaCy model\n",
        "nlp = spacy.load('en_core_web_sm')\n",
        "\n",
        "nltk.download('stopwords')\n",
        "stop_words = set(stopwords.words('english'))"
      ],
      "metadata": {
        "colab": {
          "base_uri": "https://localhost:8080/"
        },
        "id": "xXfslZzBrkeU",
        "outputId": "5e8f2692-55a5-4089-81d7-8b09ed3f121a"
      },
      "execution_count": 84,
      "outputs": [
        {
          "output_type": "stream",
          "name": "stderr",
          "text": [
            "[nltk_data] Downloading package punkt to /root/nltk_data...\n",
            "[nltk_data]   Package punkt is already up-to-date!\n",
            "[nltk_data] Downloading package stopwords to /root/nltk_data...\n",
            "[nltk_data]   Package stopwords is already up-to-date!\n"
          ]
        }
      ]
    },
    {
      "cell_type": "code",
      "source": [
        "data=pd.read_csv('/content/spam.csv', encoding='latin-1')\n",
        "# Drop unnecessary columns and rename the necessary ones\n",
        "df = data.drop(columns=['Unnamed: 2', 'Unnamed: 3', 'Unnamed: 4'])\n",
        "df.columns = ['label', 'text']\n",
        "df"
      ],
      "metadata": {
        "id": "d82QH60YEbSB",
        "colab": {
          "base_uri": "https://localhost:8080/",
          "height": 423
        },
        "outputId": "9e01b7d3-86d3-4123-cf2f-3f77d8bda3d0"
      },
      "execution_count": 85,
      "outputs": [
        {
          "output_type": "execute_result",
          "data": {
            "text/plain": [
              "     label  \\\n",
              "0      ham   \n",
              "1      ham   \n",
              "2     spam   \n",
              "3      ham   \n",
              "4      ham   \n",
              "...    ...   \n",
              "5567  spam   \n",
              "5568   ham   \n",
              "5569   ham   \n",
              "5570   ham   \n",
              "5571   ham   \n",
              "\n",
              "                                                                                                                                                                   text  \n",
              "0                                                       Go until jurong point, crazy.. Available only in bugis n great world la e buffet... Cine there got amore wat...  \n",
              "1                                                                                                                                         Ok lar... Joking wif u oni...  \n",
              "2           Free entry in 2 a wkly comp to win FA Cup final tkts 21st May 2005. Text FA to 87121 to receive entry question(std txt rate)T&C's apply 08452810075over18's  \n",
              "3                                                                                                                     U dun say so early hor... U c already then say...  \n",
              "4                                                                                                         Nah I don't think he goes to usf, he lives around here though  \n",
              "...                                                                                                                                                                 ...  \n",
              "5567  This is the 2nd time we have tried 2 contact u. U have won the å£750 Pound prize. 2 claim is easy, call 087187272008 NOW1! Only 10p per minute. BT-national-rate.  \n",
              "5568                                                                                                                              Will Ì_ b going to esplanade fr home?  \n",
              "5569                                                                                                          Pity, * was in mood for that. So...any other suggestions?  \n",
              "5570                                      The guy did some bitching but I acted like i'd be interested in buying something else next week and he gave it to us for free  \n",
              "5571                                                                                                                                         Rofl. Its true to its name  \n",
              "\n",
              "[5572 rows x 2 columns]"
            ],
            "text/html": [
              "\n",
              "  <div id=\"df-53dc8ff1-d1ad-4706-8552-bdbb860f2195\" class=\"colab-df-container\">\n",
              "    <div>\n",
              "<style scoped>\n",
              "    .dataframe tbody tr th:only-of-type {\n",
              "        vertical-align: middle;\n",
              "    }\n",
              "\n",
              "    .dataframe tbody tr th {\n",
              "        vertical-align: top;\n",
              "    }\n",
              "\n",
              "    .dataframe thead th {\n",
              "        text-align: right;\n",
              "    }\n",
              "</style>\n",
              "<table border=\"1\" class=\"dataframe\">\n",
              "  <thead>\n",
              "    <tr style=\"text-align: right;\">\n",
              "      <th></th>\n",
              "      <th>label</th>\n",
              "      <th>text</th>\n",
              "    </tr>\n",
              "  </thead>\n",
              "  <tbody>\n",
              "    <tr>\n",
              "      <th>0</th>\n",
              "      <td>ham</td>\n",
              "      <td>Go until jurong point, crazy.. Available only in bugis n great world la e buffet... Cine there got amore wat...</td>\n",
              "    </tr>\n",
              "    <tr>\n",
              "      <th>1</th>\n",
              "      <td>ham</td>\n",
              "      <td>Ok lar... Joking wif u oni...</td>\n",
              "    </tr>\n",
              "    <tr>\n",
              "      <th>2</th>\n",
              "      <td>spam</td>\n",
              "      <td>Free entry in 2 a wkly comp to win FA Cup final tkts 21st May 2005. Text FA to 87121 to receive entry question(std txt rate)T&amp;C's apply 08452810075over18's</td>\n",
              "    </tr>\n",
              "    <tr>\n",
              "      <th>3</th>\n",
              "      <td>ham</td>\n",
              "      <td>U dun say so early hor... U c already then say...</td>\n",
              "    </tr>\n",
              "    <tr>\n",
              "      <th>4</th>\n",
              "      <td>ham</td>\n",
              "      <td>Nah I don't think he goes to usf, he lives around here though</td>\n",
              "    </tr>\n",
              "    <tr>\n",
              "      <th>...</th>\n",
              "      <td>...</td>\n",
              "      <td>...</td>\n",
              "    </tr>\n",
              "    <tr>\n",
              "      <th>5567</th>\n",
              "      <td>spam</td>\n",
              "      <td>This is the 2nd time we have tried 2 contact u. U have won the å£750 Pound prize. 2 claim is easy, call 087187272008 NOW1! Only 10p per minute. BT-national-rate.</td>\n",
              "    </tr>\n",
              "    <tr>\n",
              "      <th>5568</th>\n",
              "      <td>ham</td>\n",
              "      <td>Will Ì_ b going to esplanade fr home?</td>\n",
              "    </tr>\n",
              "    <tr>\n",
              "      <th>5569</th>\n",
              "      <td>ham</td>\n",
              "      <td>Pity, * was in mood for that. So...any other suggestions?</td>\n",
              "    </tr>\n",
              "    <tr>\n",
              "      <th>5570</th>\n",
              "      <td>ham</td>\n",
              "      <td>The guy did some bitching but I acted like i'd be interested in buying something else next week and he gave it to us for free</td>\n",
              "    </tr>\n",
              "    <tr>\n",
              "      <th>5571</th>\n",
              "      <td>ham</td>\n",
              "      <td>Rofl. Its true to its name</td>\n",
              "    </tr>\n",
              "  </tbody>\n",
              "</table>\n",
              "<p>5572 rows × 2 columns</p>\n",
              "</div>\n",
              "    <div class=\"colab-df-buttons\">\n",
              "\n",
              "  <div class=\"colab-df-container\">\n",
              "    <button class=\"colab-df-convert\" onclick=\"convertToInteractive('df-53dc8ff1-d1ad-4706-8552-bdbb860f2195')\"\n",
              "            title=\"Convert this dataframe to an interactive table.\"\n",
              "            style=\"display:none;\">\n",
              "\n",
              "  <svg xmlns=\"http://www.w3.org/2000/svg\" height=\"24px\" viewBox=\"0 -960 960 960\">\n",
              "    <path d=\"M120-120v-720h720v720H120Zm60-500h600v-160H180v160Zm220 220h160v-160H400v160Zm0 220h160v-160H400v160ZM180-400h160v-160H180v160Zm440 0h160v-160H620v160ZM180-180h160v-160H180v160Zm440 0h160v-160H620v160Z\"/>\n",
              "  </svg>\n",
              "    </button>\n",
              "\n",
              "  <style>\n",
              "    .colab-df-container {\n",
              "      display:flex;\n",
              "      gap: 12px;\n",
              "    }\n",
              "\n",
              "    .colab-df-convert {\n",
              "      background-color: #E8F0FE;\n",
              "      border: none;\n",
              "      border-radius: 50%;\n",
              "      cursor: pointer;\n",
              "      display: none;\n",
              "      fill: #1967D2;\n",
              "      height: 32px;\n",
              "      padding: 0 0 0 0;\n",
              "      width: 32px;\n",
              "    }\n",
              "\n",
              "    .colab-df-convert:hover {\n",
              "      background-color: #E2EBFA;\n",
              "      box-shadow: 0px 1px 2px rgba(60, 64, 67, 0.3), 0px 1px 3px 1px rgba(60, 64, 67, 0.15);\n",
              "      fill: #174EA6;\n",
              "    }\n",
              "\n",
              "    .colab-df-buttons div {\n",
              "      margin-bottom: 4px;\n",
              "    }\n",
              "\n",
              "    [theme=dark] .colab-df-convert {\n",
              "      background-color: #3B4455;\n",
              "      fill: #D2E3FC;\n",
              "    }\n",
              "\n",
              "    [theme=dark] .colab-df-convert:hover {\n",
              "      background-color: #434B5C;\n",
              "      box-shadow: 0px 1px 3px 1px rgba(0, 0, 0, 0.15);\n",
              "      filter: drop-shadow(0px 1px 2px rgba(0, 0, 0, 0.3));\n",
              "      fill: #FFFFFF;\n",
              "    }\n",
              "  </style>\n",
              "\n",
              "    <script>\n",
              "      const buttonEl =\n",
              "        document.querySelector('#df-53dc8ff1-d1ad-4706-8552-bdbb860f2195 button.colab-df-convert');\n",
              "      buttonEl.style.display =\n",
              "        google.colab.kernel.accessAllowed ? 'block' : 'none';\n",
              "\n",
              "      async function convertToInteractive(key) {\n",
              "        const element = document.querySelector('#df-53dc8ff1-d1ad-4706-8552-bdbb860f2195');\n",
              "        const dataTable =\n",
              "          await google.colab.kernel.invokeFunction('convertToInteractive',\n",
              "                                                    [key], {});\n",
              "        if (!dataTable) return;\n",
              "\n",
              "        const docLinkHtml = 'Like what you see? Visit the ' +\n",
              "          '<a target=\"_blank\" href=https://colab.research.google.com/notebooks/data_table.ipynb>data table notebook</a>'\n",
              "          + ' to learn more about interactive tables.';\n",
              "        element.innerHTML = '';\n",
              "        dataTable['output_type'] = 'display_data';\n",
              "        await google.colab.output.renderOutput(dataTable, element);\n",
              "        const docLink = document.createElement('div');\n",
              "        docLink.innerHTML = docLinkHtml;\n",
              "        element.appendChild(docLink);\n",
              "      }\n",
              "    </script>\n",
              "  </div>\n",
              "\n",
              "\n",
              "<div id=\"df-bfe4bcd7-fa8e-4b97-a189-0148f2636e8b\">\n",
              "  <button class=\"colab-df-quickchart\" onclick=\"quickchart('df-bfe4bcd7-fa8e-4b97-a189-0148f2636e8b')\"\n",
              "            title=\"Suggest charts\"\n",
              "            style=\"display:none;\">\n",
              "\n",
              "<svg xmlns=\"http://www.w3.org/2000/svg\" height=\"24px\"viewBox=\"0 0 24 24\"\n",
              "     width=\"24px\">\n",
              "    <g>\n",
              "        <path d=\"M19 3H5c-1.1 0-2 .9-2 2v14c0 1.1.9 2 2 2h14c1.1 0 2-.9 2-2V5c0-1.1-.9-2-2-2zM9 17H7v-7h2v7zm4 0h-2V7h2v10zm4 0h-2v-4h2v4z\"/>\n",
              "    </g>\n",
              "</svg>\n",
              "  </button>\n",
              "\n",
              "<style>\n",
              "  .colab-df-quickchart {\n",
              "      --bg-color: #E8F0FE;\n",
              "      --fill-color: #1967D2;\n",
              "      --hover-bg-color: #E2EBFA;\n",
              "      --hover-fill-color: #174EA6;\n",
              "      --disabled-fill-color: #AAA;\n",
              "      --disabled-bg-color: #DDD;\n",
              "  }\n",
              "\n",
              "  [theme=dark] .colab-df-quickchart {\n",
              "      --bg-color: #3B4455;\n",
              "      --fill-color: #D2E3FC;\n",
              "      --hover-bg-color: #434B5C;\n",
              "      --hover-fill-color: #FFFFFF;\n",
              "      --disabled-bg-color: #3B4455;\n",
              "      --disabled-fill-color: #666;\n",
              "  }\n",
              "\n",
              "  .colab-df-quickchart {\n",
              "    background-color: var(--bg-color);\n",
              "    border: none;\n",
              "    border-radius: 50%;\n",
              "    cursor: pointer;\n",
              "    display: none;\n",
              "    fill: var(--fill-color);\n",
              "    height: 32px;\n",
              "    padding: 0;\n",
              "    width: 32px;\n",
              "  }\n",
              "\n",
              "  .colab-df-quickchart:hover {\n",
              "    background-color: var(--hover-bg-color);\n",
              "    box-shadow: 0 1px 2px rgba(60, 64, 67, 0.3), 0 1px 3px 1px rgba(60, 64, 67, 0.15);\n",
              "    fill: var(--button-hover-fill-color);\n",
              "  }\n",
              "\n",
              "  .colab-df-quickchart-complete:disabled,\n",
              "  .colab-df-quickchart-complete:disabled:hover {\n",
              "    background-color: var(--disabled-bg-color);\n",
              "    fill: var(--disabled-fill-color);\n",
              "    box-shadow: none;\n",
              "  }\n",
              "\n",
              "  .colab-df-spinner {\n",
              "    border: 2px solid var(--fill-color);\n",
              "    border-color: transparent;\n",
              "    border-bottom-color: var(--fill-color);\n",
              "    animation:\n",
              "      spin 1s steps(1) infinite;\n",
              "  }\n",
              "\n",
              "  @keyframes spin {\n",
              "    0% {\n",
              "      border-color: transparent;\n",
              "      border-bottom-color: var(--fill-color);\n",
              "      border-left-color: var(--fill-color);\n",
              "    }\n",
              "    20% {\n",
              "      border-color: transparent;\n",
              "      border-left-color: var(--fill-color);\n",
              "      border-top-color: var(--fill-color);\n",
              "    }\n",
              "    30% {\n",
              "      border-color: transparent;\n",
              "      border-left-color: var(--fill-color);\n",
              "      border-top-color: var(--fill-color);\n",
              "      border-right-color: var(--fill-color);\n",
              "    }\n",
              "    40% {\n",
              "      border-color: transparent;\n",
              "      border-right-color: var(--fill-color);\n",
              "      border-top-color: var(--fill-color);\n",
              "    }\n",
              "    60% {\n",
              "      border-color: transparent;\n",
              "      border-right-color: var(--fill-color);\n",
              "    }\n",
              "    80% {\n",
              "      border-color: transparent;\n",
              "      border-right-color: var(--fill-color);\n",
              "      border-bottom-color: var(--fill-color);\n",
              "    }\n",
              "    90% {\n",
              "      border-color: transparent;\n",
              "      border-bottom-color: var(--fill-color);\n",
              "    }\n",
              "  }\n",
              "</style>\n",
              "\n",
              "  <script>\n",
              "    async function quickchart(key) {\n",
              "      const quickchartButtonEl =\n",
              "        document.querySelector('#' + key + ' button');\n",
              "      quickchartButtonEl.disabled = true;  // To prevent multiple clicks.\n",
              "      quickchartButtonEl.classList.add('colab-df-spinner');\n",
              "      try {\n",
              "        const charts = await google.colab.kernel.invokeFunction(\n",
              "            'suggestCharts', [key], {});\n",
              "      } catch (error) {\n",
              "        console.error('Error during call to suggestCharts:', error);\n",
              "      }\n",
              "      quickchartButtonEl.classList.remove('colab-df-spinner');\n",
              "      quickchartButtonEl.classList.add('colab-df-quickchart-complete');\n",
              "    }\n",
              "    (() => {\n",
              "      let quickchartButtonEl =\n",
              "        document.querySelector('#df-bfe4bcd7-fa8e-4b97-a189-0148f2636e8b button');\n",
              "      quickchartButtonEl.style.display =\n",
              "        google.colab.kernel.accessAllowed ? 'block' : 'none';\n",
              "    })();\n",
              "  </script>\n",
              "</div>\n",
              "\n",
              "  <div id=\"id_d57fd4b8-699c-4f8c-af36-61bc4e762e3b\">\n",
              "    <style>\n",
              "      .colab-df-generate {\n",
              "        background-color: #E8F0FE;\n",
              "        border: none;\n",
              "        border-radius: 50%;\n",
              "        cursor: pointer;\n",
              "        display: none;\n",
              "        fill: #1967D2;\n",
              "        height: 32px;\n",
              "        padding: 0 0 0 0;\n",
              "        width: 32px;\n",
              "      }\n",
              "\n",
              "      .colab-df-generate:hover {\n",
              "        background-color: #E2EBFA;\n",
              "        box-shadow: 0px 1px 2px rgba(60, 64, 67, 0.3), 0px 1px 3px 1px rgba(60, 64, 67, 0.15);\n",
              "        fill: #174EA6;\n",
              "      }\n",
              "\n",
              "      [theme=dark] .colab-df-generate {\n",
              "        background-color: #3B4455;\n",
              "        fill: #D2E3FC;\n",
              "      }\n",
              "\n",
              "      [theme=dark] .colab-df-generate:hover {\n",
              "        background-color: #434B5C;\n",
              "        box-shadow: 0px 1px 3px 1px rgba(0, 0, 0, 0.15);\n",
              "        filter: drop-shadow(0px 1px 2px rgba(0, 0, 0, 0.3));\n",
              "        fill: #FFFFFF;\n",
              "      }\n",
              "    </style>\n",
              "    <button class=\"colab-df-generate\" onclick=\"generateWithVariable('df')\"\n",
              "            title=\"Generate code using this dataframe.\"\n",
              "            style=\"display:none;\">\n",
              "\n",
              "  <svg xmlns=\"http://www.w3.org/2000/svg\" height=\"24px\"viewBox=\"0 0 24 24\"\n",
              "       width=\"24px\">\n",
              "    <path d=\"M7,19H8.4L18.45,9,17,7.55,7,17.6ZM5,21V16.75L18.45,3.32a2,2,0,0,1,2.83,0l1.4,1.43a1.91,1.91,0,0,1,.58,1.4,1.91,1.91,0,0,1-.58,1.4L9.25,21ZM18.45,9,17,7.55Zm-12,3A5.31,5.31,0,0,0,4.9,8.1,5.31,5.31,0,0,0,1,6.5,5.31,5.31,0,0,0,4.9,4.9,5.31,5.31,0,0,0,6.5,1,5.31,5.31,0,0,0,8.1,4.9,5.31,5.31,0,0,0,12,6.5,5.46,5.46,0,0,0,6.5,12Z\"/>\n",
              "  </svg>\n",
              "    </button>\n",
              "    <script>\n",
              "      (() => {\n",
              "      const buttonEl =\n",
              "        document.querySelector('#id_d57fd4b8-699c-4f8c-af36-61bc4e762e3b button.colab-df-generate');\n",
              "      buttonEl.style.display =\n",
              "        google.colab.kernel.accessAllowed ? 'block' : 'none';\n",
              "\n",
              "      buttonEl.onclick = () => {\n",
              "        google.colab.notebook.generateWithVariable('df');\n",
              "      }\n",
              "      })();\n",
              "    </script>\n",
              "  </div>\n",
              "\n",
              "    </div>\n",
              "  </div>\n"
            ],
            "application/vnd.google.colaboratory.intrinsic+json": {
              "type": "dataframe",
              "variable_name": "df",
              "summary": "{\n  \"name\": \"df\",\n  \"rows\": 5572,\n  \"fields\": [\n    {\n      \"column\": \"label\",\n      \"properties\": {\n        \"dtype\": \"category\",\n        \"num_unique_values\": 2,\n        \"samples\": [\n          \"spam\",\n          \"ham\"\n        ],\n        \"semantic_type\": \"\",\n        \"description\": \"\"\n      }\n    },\n    {\n      \"column\": \"text\",\n      \"properties\": {\n        \"dtype\": \"string\",\n        \"num_unique_values\": 5169,\n        \"samples\": [\n          \"Did u download the fring app?\",\n          \"Pass dis to all ur contacts n see wat u get! Red;i'm in luv wid u. Blue;u put a smile on my face. Purple;u r realy hot. Pink;u r so swt. Orange;i thnk i lyk u. Green;i realy wana go out wid u. Yelow;i wnt u bck. Black;i'm jealous of u. Brown;i miss you Nw plz giv me one color\"\n        ],\n        \"semantic_type\": \"\",\n        \"description\": \"\"\n      }\n    }\n  ]\n}"
            }
          },
          "metadata": {},
          "execution_count": 85
        }
      ]
    },
    {
      "cell_type": "code",
      "source": [
        "\n",
        "def most_frequent_words(df, column, amount):\n",
        "  # Combine all text into a single string\n",
        "  all_words = ' '.join(df[column]).lower()\n",
        "\n",
        "  # Remove punctuation and split into words\n",
        "  words = re.findall(r'\\b\\w+\\b', all_words)\n",
        "\n",
        "  # Get the 5 most common words\n",
        "  most_common_words = Counter(words).most_common(5)\n",
        "  print(\"5 most frequent words:\")\n",
        "  for word, freq in most_common_words:\n",
        "      print(f\"{word}: {freq}\")\n",
        "\n",
        "def count_of_words_apear_once(df):\n",
        "  # Count word frequencies\n",
        "  word_freq = Counter(words)\n",
        "\n",
        "  # Count words that appear only once\n",
        "  unique_words = sum(1 for word, freq in word_freq.items() if freq == 1)\n",
        "  print(f\"Number of words that only appear once: {unique_words}\")\n",
        "\n",
        "def avg_words_per_message(df, column):\n",
        "  df['word_count'] = df[column].apply(lambda x: len(x.split()))\n",
        "  print(df['word_count'])\n",
        "  average_words = df['word_count'].mean()\n",
        "  print(f\"Average number of words per message: {average_words:.2f}\")\n",
        "\n",
        "def total_num_of_data(df):\n",
        "  total_messages = len(df)\n",
        "  print(f\"Total number of messages: {total_messages}\")"
      ],
      "metadata": {
        "id": "8UrdsG0fpAcH"
      },
      "execution_count": 86,
      "outputs": []
    },
    {
      "cell_type": "markdown",
      "source": [
        "# **Basic Analysis - Before Proccessing**"
      ],
      "metadata": {
        "id": "Dov1qlOKgrjB"
      }
    },
    {
      "cell_type": "code",
      "source": [
        "num_spam = len(df[df['label'] == 'spam'])\n",
        "num_ham = len(df[df['label'] == 'ham'])\n",
        "print(f\"Number of spam messages: {num_spam}\")\n",
        "print(f\"Number of ham messages: {num_ham}\")"
      ],
      "metadata": {
        "colab": {
          "base_uri": "https://localhost:8080/"
        },
        "id": "pO7DNBqAq9hB",
        "outputId": "b205176b-8314-4492-c978-0b4db90531a0"
      },
      "execution_count": 87,
      "outputs": [
        {
          "output_type": "stream",
          "name": "stdout",
          "text": [
            "Number of spam messages: 747\n",
            "Number of ham messages: 4825\n"
          ]
        }
      ]
    },
    {
      "cell_type": "code",
      "source": [
        "df.label.value_counts().plot(kind='pie', figsize=(3, 3))\n",
        "plt.title('Distribution of Labels')\n",
        "plt.ylabel('')  # This removes the y-label which is not meaningful in a pie chart\n",
        "plt.show()"
      ],
      "metadata": {
        "id": "XzkVDXtM0q0h",
        "colab": {
          "base_uri": "https://localhost:8080/",
          "height": 290
        },
        "outputId": "c20e7d89-4463-456a-d4e4-4ca6bcd842a7"
      },
      "execution_count": 88,
      "outputs": [
        {
          "output_type": "display_data",
          "data": {
            "text/plain": [
              "<Figure size 300x300 with 1 Axes>"
            ],
            "image/png": "[encoded data removed]"
          },
          "metadata": {}
        }
      ]
    },
    {
      "cell_type": "code",
      "source": [
        "# Total number of messages\n",
        "total_num_of_data(df)\n",
        "# Average number of words per message\n",
        "avg_words_per_message(df, 'text')\n",
        "# 5 most frequent words\n",
        "most_frequent_words(df, 'text', 5)\n",
        "# Number of words that only appear once\n",
        "count_of_words_apear_once(df)"
      ],
      "metadata": {
        "colab": {
          "base_uri": "https://localhost:8080/"
        },
        "id": "pbscuT5IrZLb",
        "outputId": "940443e7-c644-4c93-b7c3-2b0d0ca023e2"
      },
      "execution_count": 89,
      "outputs": [
        {
          "output_type": "stream",
          "name": "stdout",
          "text": [
            "Total number of messages: 5572\n",
            "0       20\n",
            "1        6\n",
            "2       28\n",
            "3       11\n",
            "4       13\n",
            "        ..\n",
            "5567    30\n",
            "5568     8\n",
            "5569    10\n",
            "5570    26\n",
            "5571     6\n",
            "Name: word_count, Length: 5572, dtype: int64\n",
            "Average number of words per message: 15.49\n",
            "5 most frequent words:\n",
            "i: 3001\n",
            "to: 2242\n",
            "you: 2240\n",
            "a: 1433\n",
            "the: 1328\n",
            "Number of words that only appear once: 72\n"
          ]
        }
      ]
    },
    {
      "cell_type": "markdown",
      "source": [
        "# **Text Processing**"
      ],
      "metadata": {
        "id": "l4Y1ZbNTxsc7"
      }
    },
    {
      "cell_type": "markdown",
      "source": [
        "# Cleaning The Data"
      ],
      "metadata": {
        "id": "k_rYDIKI8WVN"
      }
    },
    {
      "cell_type": "code",
      "source": [
        "def data_cleaning(df, column):\n",
        "  # Handle missing values\n",
        "  df = df.dropna()  # Drop rows with any missing values\n",
        "\n",
        "  # Convert text to lowercase\n",
        "  df[column] = df[column].str.lower()\n",
        "\n",
        "  # Remove punctuation\n",
        "  df[column] = df[column].apply(lambda x: x.translate(str.maketrans('', '', string.punctuation)))\n",
        "\n",
        "  # Remove special characters\n",
        "  df[column] = df[column].apply(lambda x: re.sub(r'[^a-zA-Z0-9\\s]', '', x))\n",
        "\n",
        "  # Step 6: Remove stop words\n",
        "  df[column] = df[column].apply(lambda x: ' '.join(word for word in x.split() if word not in stop_words))\n",
        "\n",
        "  # Use the sub() method to replace URLs with the specified replacement text\n",
        "  df[column] =df[column].apply(lambda x : re.sub(r'https\\S*', '', x))\n",
        "\n",
        "  # Replace empty strings with NaN\n",
        "  df[column] = df[column].replace('', pd.NA)\n",
        "\n",
        "  # Drop rows with NaN values in the specified column\n",
        "  df = df.dropna(subset=[column])\n",
        "  # Display the first few rows of the cleaned DataFrame\n",
        "  print(\"Cleaned data preview:\")\n",
        "  print(df)\n",
        "  return df"
      ],
      "metadata": {
        "id": "WyyOzwaG8rT0"
      },
      "execution_count": 90,
      "outputs": []
    },
    {
      "cell_type": "code",
      "source": [
        "df = data_cleaning(df , 'text')"
      ],
      "metadata": {
        "colab": {
          "base_uri": "https://localhost:8080/"
        },
        "id": "k78Z4F0qvT21",
        "outputId": "ea7841b0-d345-4a64-e956-107051c9adf9"
      },
      "execution_count": 91,
      "outputs": [
        {
          "output_type": "stream",
          "name": "stdout",
          "text": [
            "Cleaned data preview:\n",
            "     label  \\\n",
            "0      ham   \n",
            "1      ham   \n",
            "2     spam   \n",
            "3      ham   \n",
            "4      ham   \n",
            "...    ...   \n",
            "5567  spam   \n",
            "5568   ham   \n",
            "5569   ham   \n",
            "5570   ham   \n",
            "5571   ham   \n",
            "\n",
            "                                                                                                                                         text  \\\n",
            "0                                                          go jurong point crazy available bugis n great world la e buffet cine got amore wat   \n",
            "1                                                                                                                     ok lar joking wif u oni   \n",
            "2     free entry 2 wkly comp win fa cup final tkts 21st may 2005 text fa 87121 receive entry questionstd txt ratetcs apply 08452810075over18s   \n",
            "3                                                                                                         u dun say early hor u c already say   \n",
            "4                                                                                                 nah dont think goes usf lives around though   \n",
            "...                                                                                                                                       ...   \n",
            "5567                           2nd time tried 2 contact u u 750 pound prize 2 claim easy call 087187272008 now1 10p per minute btnationalrate   \n",
            "5568                                                                                                                b going esplanade fr home   \n",
            "5569                                                                                                              pity mood soany suggestions   \n",
            "5570                                                       guy bitching acted like id interested buying something else next week gave us free   \n",
            "5571                                                                                                                           rofl true name   \n",
            "\n",
            "      word_count  \n",
            "0             20  \n",
            "1              6  \n",
            "2             28  \n",
            "3             11  \n",
            "4             13  \n",
            "...          ...  \n",
            "5567          30  \n",
            "5568           8  \n",
            "5569          10  \n",
            "5570          26  \n",
            "5571           6  \n",
            "\n",
            "[5567 rows x 3 columns]\n"
          ]
        }
      ]
    },
    {
      "cell_type": "markdown",
      "source": [
        "# **Basic Analysis - After Proccessing**"
      ],
      "metadata": {
        "id": "8u-c4vFTrrhg"
      }
    },
    {
      "cell_type": "code",
      "source": [
        "# Total number of messages\n",
        "total_num_of_data(df)\n",
        "# Average number of words per message\n",
        "avg_words_per_message(df, 'text')\n",
        "# 5 most frequent words\n",
        "most_frequent_words(df, 'text', 5)\n",
        "# Number of words that only appear once\n",
        "count_of_words_apear_once(df)"
      ],
      "metadata": {
        "colab": {
          "base_uri": "https://localhost:8080/"
        },
        "id": "aA6tX-5zroS-",
        "outputId": "878ff3db-ff0f-452c-ca99-09b5f93e74c9"
      },
      "execution_count": 92,
      "outputs": [
        {
          "output_type": "stream",
          "name": "stdout",
          "text": [
            "Total number of messages: 5567\n",
            "0       16\n",
            "1        6\n",
            "2       23\n",
            "3        9\n",
            "4        8\n",
            "        ..\n",
            "5567    20\n",
            "5568     5\n",
            "5569     4\n",
            "5570    14\n",
            "5571     3\n",
            "Name: word_count, Length: 5567, dtype: int64\n",
            "Average number of words per message: 9.36\n",
            "5 most frequent words:\n",
            "u: 1119\n",
            "call: 576\n",
            "2: 478\n",
            "im: 471\n",
            "get: 386\n",
            "Number of words that only appear once: 72\n"
          ]
        }
      ]
    },
    {
      "cell_type": "markdown",
      "source": [
        "# Nltk Tokenizer"
      ],
      "metadata": {
        "id": "qC9boLDd9YMy"
      }
    },
    {
      "cell_type": "code",
      "source": [
        "from nltk.tokenize import word_tokenize\n",
        "\n",
        "start_time = time.time()\n",
        "\n",
        "# Tokenize using NLTK\n",
        "df['nltk_tokens'] = df['text'].apply(word_tokenize)\n",
        "\n",
        "nltk_time = time.time() - start_time\n",
        "print(f\"NLTK tokenization time: {nltk_time} seconds\")\n",
        "print(df['nltk_tokens'].head(10))"
      ],
      "metadata": {
        "id": "xeY2Lt992au7",
        "colab": {
          "base_uri": "https://localhost:8080/"
        },
        "outputId": "37847cc3-de24-4848-bccc-f9e14dc2928a"
      },
      "execution_count": 93,
      "outputs": [
        {
          "output_type": "stream",
          "name": "stdout",
          "text": [
            "NLTK tokenization time: 0.59018874168396 seconds\n",
            "0                                                                [go, jurong, point, crazy, available, bugis, n, great, world, la, e, buffet, cine, got, amore, wat]\n",
            "1                                                                                                                                     [ok, lar, joking, wif, u, oni]\n",
            "2    [free, entry, 2, wkly, comp, win, fa, cup, final, tkts, 21st, may, 2005, text, fa, 87121, receive, entry, questionstd, txt, ratetcs, apply, 08452810075over18s]\n",
            "3                                                                                                                      [u, dun, say, early, hor, u, c, already, say]\n",
            "4                                                                                                               [nah, dont, think, goes, usf, lives, around, though]\n",
            "5                                                        [freemsg, hey, darling, 3, weeks, word, back, id, like, fun, still, tb, ok, xxx, std, chgs, send, 150, rcv]\n",
            "6                                                                                                            [even, brother, like, speak, treat, like, aids, patent]\n",
            "7                                 [per, request, melle, melle, oru, minnaminunginte, nurungu, vettam, set, callertune, callers, press, 9, copy, friends, callertune]\n",
            "8                        [winner, valued, network, customer, selected, receivea, 900, prize, reward, claim, call, 09061701461, claim, code, kl341, valid, 12, hours]\n",
            "9                                   [mobile, 11, months, u, r, entitled, update, latest, colour, mobiles, camera, free, call, mobile, update, co, free, 08002986030]\n",
            "Name: nltk_tokens, dtype: object\n"
          ]
        }
      ]
    },
    {
      "cell_type": "markdown",
      "source": [
        "# SpaCy Tokenizer\n"
      ],
      "metadata": {
        "id": "p5Bh2viW9i4R"
      }
    },
    {
      "cell_type": "code",
      "source": [
        "from spacy.tokenizer import Tokenizer\n",
        "from spacy.lang.en import English\n",
        "\n",
        "nlp = English()\n",
        "tokenizer = Tokenizer(nlp.vocab)\n",
        "start_time = time.time()\n",
        "tokens = tokenizer(all_words)\n",
        "print(list(tokens)[:30])\n",
        "\n",
        "spacy_time = time.time() - start_time\n",
        "print(f\"spaCy tokenization time: {spacy_time} seconds\")"
      ],
      "metadata": {
        "id": "ib0F1yAP2j2Z",
        "colab": {
          "base_uri": "https://localhost:8080/"
        },
        "outputId": "03a3e3ac-372b-4f12-97b5-5332a8c25631"
      },
      "execution_count": 94,
      "outputs": [
        {
          "output_type": "stream",
          "name": "stdout",
          "text": [
            "[bar, moshe, linux, mac, m1, 17, 972525757622, vlab, 811, 1417, 16, c, cpp, 4, 20, 3, 40, 40, 20, 20, 1, 10, 16, attendance, 90, pipe, c, 1400, 1, 3]\n",
            "spaCy tokenization time: 0.002462148666381836 seconds\n"
          ]
        }
      ]
    },
    {
      "cell_type": "markdown",
      "source": [
        "# **NLTK and SpaCy Tokenization comparison**\n",
        "\n",
        " NLTK returns a list of strings, which represents a tokenized word, while spaCy returns a list of spaCy token objects.  spaCy's tokenization takes approximately half of the time of NLTK.      \n",
        " Language Support:\n",
        "\n",
        "NLTK:  offers support for tokenization in various languages, although it may require additional configurations or resources for some languages.\n",
        "\n",
        "spaCy: designed to support multiple languages out of the box, and its tokenization capabilities are optimized for efficiency."
      ],
      "metadata": {
        "id": "HmqBfsDSkjXL"
      }
    },
    {
      "cell_type": "markdown",
      "source": [
        "# Lemmatization with Nltk"
      ],
      "metadata": {
        "id": "TCCe1auVAAHM"
      }
    },
    {
      "cell_type": "code",
      "source": [
        "from nltk.stem import WordNetLemmatizer\n",
        "nltk.download('wordnet')\n",
        "lemmatizer = WordNetLemmatizer()\n",
        "x = all_words.split()\n",
        "start_time = time.time()\n",
        "\n",
        "for w in x:\n",
        "   (w, \" : \", lemmatizer.lemmatize(w, pos='n'))\n",
        "time = time.time() - start_time\n",
        "time"
      ],
      "metadata": {
        "id": "1YRLDqy7__cw",
        "colab": {
          "base_uri": "https://localhost:8080/"
        },
        "outputId": "84deb346-616c-426f-8d24-0725b3b39146"
      },
      "execution_count": 95,
      "outputs": [
        {
          "output_type": "stream",
          "name": "stderr",
          "text": [
            "[nltk_data] Downloading package wordnet to /root/nltk_data...\n",
            "[nltk_data]   Package wordnet is already up-to-date!\n"
          ]
        },
        {
          "output_type": "execute_result",
          "data": {
            "text/plain": [
              "0.0012454986572265625"
            ]
          },
          "metadata": {},
          "execution_count": 95
        }
      ]
    },
    {
      "cell_type": "code",
      "source": [
        "print('15 examples of tokens where the token text differs from its lemma')\n",
        "count = 0\n",
        "for w in x:\n",
        "    if w != lemmatizer.lemmatize(w, pos='n'):\n",
        "        print(w +':' + lemmatizer.lemmatize(w, pos='n'))\n",
        "        count += 1\n",
        "        if count >= 15:\n",
        "            break"
      ],
      "metadata": {
        "colab": {
          "base_uri": "https://localhost:8080/"
        },
        "id": "jxqW4__pV58l",
        "outputId": "10a24e19-14a9-46de-eb43-99127451b587"
      },
      "execution_count": 96,
      "outputs": [
        {
          "output_type": "stream",
          "name": "stdout",
          "text": [
            "15 examples of tokens where the token text differs from its lemma\n",
            "vs:v\n",
            "windows:window\n",
            "vs:v\n"
          ]
        }
      ]
    },
    {
      "cell_type": "markdown",
      "source": [
        "# Lemmatization with SpaCy"
      ],
      "metadata": {
        "id": "JJqu60iUEF08"
      }
    },
    {
      "cell_type": "code",
      "source": [
        "import spacy\n",
        "import time\n",
        "# Load spaCy model\n",
        "nlp = spacy.load('en_core_web_sm')\n",
        "\n",
        "\n",
        "def lemmatize_with_spacy(text):\n",
        "    doc = nlp(text)\n",
        "    lemmatized_text = ' '.join([token.lemma_ for token in doc])\n",
        "    return lemmatized_text\n",
        "\n",
        "start_time = time.time()\n",
        "df['lemmatized_spacy'] = df['text'].apply(lemmatize_with_spacy)\n",
        "spacy_time = time.time() - start_time\n",
        "\n",
        "print(f\"Lemmatization time using spaCy: {spacy_time:.6f} seconds\")\n"
      ],
      "metadata": {
        "id": "6QaZPNnIG0mI",
        "colab": {
          "base_uri": "https://localhost:8080/"
        },
        "outputId": "ccb60cb8-009b-4920-de32-3bcf4e121cf4"
      },
      "execution_count": 97,
      "outputs": [
        {
          "output_type": "stream",
          "name": "stdout",
          "text": [
            "Lemmatization time using spaCy: 57.220295 seconds\n"
          ]
        }
      ]
    },
    {
      "cell_type": "code",
      "source": [
        "# Initialize counter\n",
        "count = 0\n",
        "print('15 examples of tokens where the token text differs from its lemma')\n",
        "\n",
        "# Print 15 examples of tokens where the token text differs from its lemma\n",
        "for token in nlp(all_words):\n",
        "    if token.text != token.lemma_:\n",
        "        print(f\"{token.text:>20} : {token.lemma_}\")\n",
        "        count += 1\n",
        "        if count >= 15:\n",
        "            break"
      ],
      "metadata": {
        "colab": {
          "base_uri": "https://localhost:8080/"
        },
        "id": "0g6bwA_jR4F6",
        "outputId": "e4b70e21-fd93-4d7c-fd41-1eac72aeacd5"
      },
      "execution_count": 98,
      "outputs": [
        {
          "output_type": "stream",
          "name": "stdout",
          "text": [
            "15 examples of tokens where the token text differs from its lemma\n",
            "         serverbased : serverbase\n",
            "             windows : window\n"
          ]
        }
      ]
    },
    {
      "cell_type": "markdown",
      "source": [
        "# **NLTK and SpaCy Lemmatization comparison**\n",
        "\n",
        "The lemmatization process using spaCy took approximately 51.12 seconds, which is significantly slower compared to NLTK. This indicates that while spaCy offers robust NLP capabilities, it may require more processing time for lemmatization.\n",
        "\n",
        "**Output Format:** Both NLTK and spaCy produce lists of lemmatized words.\n",
        "However, the actual lemmas produced can differ slightly due to the\n",
        "underlying algorithms and linguistic models.\n",
        "\n",
        "**Processing Speed:** NLTK is significantly faster in lemmatization compared to spaCy for the given dataset."
      ],
      "metadata": {
        "id": "e6a7e-1XZAUP"
      }
    },
    {
      "cell_type": "markdown",
      "source": [
        "# Stemming with Nltk"
      ],
      "metadata": {
        "id": "EFqzsgA6KuSl"
      }
    },
    {
      "cell_type": "code",
      "source": [
        "import time\n",
        "from nltk.stem import PorterStemmer\n",
        "# NLTK Stemming\n",
        "def stem_with_nltk(text):\n",
        "    stemmer = PorterStemmer()\n",
        "    words = word_tokenize(text)\n",
        "    stemmed_words = [stemmer.stem(w) for w in words]\n",
        "    return ' '.join(stemmed_words)\n",
        "\n",
        "start_time = time.time()\n",
        "df['stemmed_nltk'] = df['text'].apply(stem_with_nltk)\n",
        "nltk_time = time.time() - start_time\n",
        "\n",
        "print(f\"Stemming time using NLTK: {nltk_time:.6f} seconds\")"
      ],
      "metadata": {
        "id": "qjxHaX_EK27K",
        "colab": {
          "base_uri": "https://localhost:8080/"
        },
        "outputId": "6311fba8-c6da-42ad-b3bc-344f4217a8e9"
      },
      "execution_count": 99,
      "outputs": [
        {
          "output_type": "stream",
          "name": "stdout",
          "text": [
            "Stemming time using NLTK: 1.707835 seconds\n"
          ]
        }
      ]
    },
    {
      "cell_type": "markdown",
      "source": [
        "# Stemming with spaCy - SpaCy itself does not include a stemming function"
      ],
      "metadata": {
        "id": "W1gGOOz0M5_1"
      }
    },
    {
      "cell_type": "markdown",
      "source": [
        "\n",
        "10. Print updated statistics on word count and frequent words after applying each\n",
        "technique. **"
      ],
      "metadata": {
        "id": "bZKiVC3kyxGo"
      }
    },
    {
      "cell_type": "code",
      "source": [
        "\"\"\"def calculate_statistics(column):\n",
        "    all_words = ' '.join(df[column]).split()\n",
        "    word_count = len(all_words)\n",
        "    frequent_words = Counter(all_words).most_common(5)\n",
        "    return word_count, frequent_words\n",
        "# Calculate statistics\n",
        "original_word_count, original_frequent_words = calculate_statistics('text')\n",
        "nltk_lemmatized_word_count, nltk_lemmatized_frequent_words = calculate_statistics('lemmatized_nltk')\n",
        "spacy_lemmatized_word_count, spacy_lemmatized_frequent_words = calculate_statistics('lemmatized_spacy')\n",
        "nltk_stemmed_word_count, nltk_stemmed_frequent_words = calculate_statistics('stemmed_nltk')\n",
        "spacy_stemmed_word_count, spacy_stemmed_frequent_words = calculate_statistics('stemmed_spacy')\n",
        "\n",
        "# Print statistics\n",
        "print(f\"Original Text: Word Count = {original_word_count}, Frequent Words = {original_frequent_words}\")\n",
        "print(f\"NLTK Lemmatized: Word Count = {nltk_lemmatized_word_count}, Frequent Words = {nltk_lemmatized_frequent_words}\")\n",
        "print(f\"spaCy Lemmatized: Word Count = {spacy_lemmatized_word_count}, Frequent Words = {spacy_lemmatized_frequent_words}\")\n",
        "print(f\"NLTK Stemmed: Word Count = {nltk_stemmed_word_count}, Frequent Words = {nltk_stemmed_frequent_words}\")\n",
        "print(f\"spaCy Stemmed: Word Count = {spacy_stemmed_word_count}, Frequent Words = {spacy_stemmed_frequent_words}\") \"\"\""
      ],
      "metadata": {
        "id": "SPxa2FJkOin9",
        "colab": {
          "base_uri": "https://localhost:8080/",
          "height": 145
        },
        "outputId": "5a1b8e66-2471-4862-c15e-2a0ec72c44fd"
      },
      "execution_count": 100,
      "outputs": [
        {
          "output_type": "execute_result",
          "data": {
            "text/plain": [
              "'def calculate_statistics(column):\\n    all_words = \\' \\'.join(df[column]).split()\\n    word_count = len(all_words)\\n    frequent_words = Counter(all_words).most_common(5)\\n    return word_count, frequent_words\\n# Calculate statistics\\noriginal_word_count, original_frequent_words = calculate_statistics(\\'text\\')\\nnltk_lemmatized_word_count, nltk_lemmatized_frequent_words = calculate_statistics(\\'lemmatized_nltk\\')\\nspacy_lemmatized_word_count, spacy_lemmatized_frequent_words = calculate_statistics(\\'lemmatized_spacy\\')\\nnltk_stemmed_word_count, nltk_stemmed_frequent_words = calculate_statistics(\\'stemmed_nltk\\')\\nspacy_stemmed_word_count, spacy_stemmed_frequent_words = calculate_statistics(\\'stemmed_spacy\\')\\n\\n# Print statistics\\nprint(f\"Original Text: Word Count = {original_word_count}, Frequent Words = {original_frequent_words}\")\\nprint(f\"NLTK Lemmatized: Word Count = {nltk_lemmatized_word_count}, Frequent Words = {nltk_lemmatized_frequent_words}\")\\nprint(f\"spaCy Lemmatized: Word Count = {spacy_lemmatized_word_count}, Frequent Words = {spacy_lemmatized_frequent_words}\")\\nprint(f\"NLTK Stemmed: Word Count = {nltk_stemmed_word_count}, Frequent Words = {nltk_stemmed_frequent_words}\")\\nprint(f\"spaCy Stemmed: Word Count = {spacy_stemmed_word_count}, Frequent Words = {spacy_stemmed_frequent_words}\") '"
            ],
            "application/vnd.google.colaboratory.intrinsic+json": {
              "type": "string"
            }
          },
          "metadata": {},
          "execution_count": 100
        }
      ]
    },
    {
      "cell_type": "markdown",
      "source": [
        "# **Web Scraping**\n"
      ],
      "metadata": {
        "id": "BZsePLvzy0uQ"
      }
    },
    {
      "cell_type": "code",
      "source": [
        "\n",
        "url = \"https://finance.yahoo.com/?guccounter=1&guce_referrer=aHR0cHM6Ly93d3cuZ29vZ2xlLmNvbS8&guce_referrer_sig=AQAAACHRzA667AARXS__2v5de8mNTKOyFF7jW-cvNi0GO_xT-fg69PydO0Xa5iRXetlJA6ZBGR8ToumsedNBLhkHE7kaWLicN4ilmYfg8EShk1l-Suxct2famqmVFYAZhpPEHLJQLWiwAb9eATIGeIh_NniR12bb44fwIwKtuw-o1c1i\"  # Replace with the actual URL\n",
        "response = requests.get(url)\n",
        "\n",
        "if response.status_code == 200:\n",
        "    html_content = response.text\n",
        "    soup = BeautifulSoup(html_content, 'html.parser')\n",
        "\n",
        "    # Extracting post texts from a hypothetical social media profile\n",
        "    posts = soup.find_all('p')  # This will vary based on the actual HTML structure\n",
        "    for post in posts:\n",
        "        post.get_text()\n",
        "else:\n",
        "    print(f\"Failed to retrieve the page. Status code: {response.status_code}\")\n"
      ],
      "metadata": {
        "id": "Ot22e9e8H8R3"
      },
      "execution_count": 101,
      "outputs": []
    },
    {
      "cell_type": "code",
      "source": [
        "len(posts)\n",
        "df = pd.DataFrame(posts, columns=['posts'])\n",
        "print(df)"
      ],
      "metadata": {
        "colab": {
          "base_uri": "https://localhost:8080/"
        },
        "id": "cqW_DO9DuFTN",
        "outputId": "f7dfee05-557e-4688-ecf9-bfb9c04767b7"
      },
      "execution_count": 102,
      "outputs": [
        {
          "output_type": "stream",
          "name": "stdout",
          "text": [
            "                                                                                                                                                                                                                                                                                                                                                                                                                                                                                                                                                                                                                                                                                                                                                                                                                                                                                                                                                         posts\n",
            "0                                                                                                                                                                                                                                                                                                                                                                                                                                                                                                                                                                                                                                                                                                                                                                                    We are experiencing some temporary issues. The market data on this page is currently delayed. Please bear with us as we address this and restore your personalized lists.\n",
            "1                                                                                                                                                                                                                                                                                                                                                                                                                                                                                                                                                                                                                                                                                                                                                                                                                                                                                 Job openings fell sharply in April as the US labor market continues to cool.\n",
            "2   Stocks (^DJI, ^IXIC, ^GSPC) are under pressure after weak JOLTS data pointed to signs of economic cracks, with job openings falling to their lowest level since February 2021. The GameStop (GME) rally is retreating, as meme trade influencer 'Roaring Kitty' reportedly faces a potential ban from E-Trade due to market manipulation concerns. Investors will also be watching for the latest quarterly earnings from Hewlett Packard Enterprises (HPE) and CrowdStrike (CRWD) to see how AI is impacting those businesses. Yahoo Finance trending tickers include Core Scientific Inc. (CORZ), Viking Therapeutics (VKTX) , and Carnival Corporation (CCL).\\nKey guests include:3:10 p.m. ET Michael Kantrowitz, Piper Sandler Chief Investment Strategist3:25 p.m. ET Rebecca Babin, CIBC Private Wealth US Senior Energy Trader3:45 p.m. ET Daron Acemoglu, MIT Economics Professor4:40 p.m. ET Mickey Drexler, Alex Mill Chairman & Former Gap CEO\n",
            "3                                                                                                                                                                                                                                                                                                                                                                                                                                                                                                                                                                                                                                                                                                                                                                                                                                                                             How the Fed rate decision might influence your savings and CD interest earnings.\n",
            "4                                                                                                                                                                                                                                                                                                                                                                                                                                                                                                                                                                                                                                                                                                                                                                                                                                                          Nvidia is suddenly nipping on Apple's heels, looking to become the second-most valuable US company.\n",
            "5                                                                                                                                                                                                                                                                                                                                                                                                                                                                                                                                                                                                                                                                                                                                                                                                                                                Microsoft maintained its position as the leading global company by market cap, rising 6.6% to $3.08 trillion.\n",
            "6                                                                                                                                                                                                                                                                                                                                                                                                                                                                                                                                                                                                                                                                                                                                                                                                                                     The benchmark reverted back to its 2023 ways in May with six large tech stocks accounting for the majority of its gains.\n",
            "7                                                                                                                                                                                                                                                                                                                                                                                                                                                                                                                                                                                                                                                                                                                                                                                                                                               Drama surrounding CEO Elon Musk's pay package is among the issues helping Tesla lag its 'Magnificent 7' peers.\n",
            "8                                                                                                                                                                                                                                                                                                                                                                                                                                                                                                                                                                                                                                                                                                                                                                                                   In an update posted at 9 p.m. last night NYSE said it would \"bust\" all the \"erroneous\" trades of Berkshire Hathaway stock at or below $603,718.30 a share.\n",
            "9                                                                                                                                                                                                                                                                                                                                                                                                                                          While the ultrawealthy 1% often dominates financial headlines, the real question for most Americans is whether their net worth is comparable to that of their peers. Understanding what it takes to be in the top 10% at your age can provide valuable insight into your financial standing and reveal the milestones for success at different stages of life. Don't Miss: The average American couple has saved this much money for retirement — How do you compare? Are you rich? Here’s what Americans think you\n",
            "10                                                                                                                                                                                                                                                                                                                                                                                                                                                                                                                                                                                                                                                                                                                                                                                                                                                                                                                   “He has promised to put me through hell.”\n",
            "11                                                                                                                                                                                                                                                                                                                                                                                                                                         Purchasing a home comes with significant costs beyond just the mortgage. Property taxes stand out as a perpetual expense, varying widely depending on location. For some homeowners, this can mean an annual bill ranging from $1,000 to $9,000. Here are the 10 states with the highest median property tax bills, using data from the U.S. Census Bureau and reported by Kiplinger. They are the most expensive places to live in the U.S. Washington State Median Property Tax: $4,158 Washington State ranks as\n",
            "12                                                                                                                                                                                                                                                                                                                                                                                                                                                                                                                                                                                                                                                                                                                                           Two household-name stocks could soon become more affordable for everyday investors. One is pretty much guaranteed to split its stock very soon, and the move would also fit the other company's management style.\n",
            "13                                                                                                                                                                                                                                                                                                                                                                                                                                                                                                                                                                                                                                                                                                                                                                                                                                 CAVA Group, Inc., founded in 2006, owns and operates a chain of Mediterranean restaurants. The company has 8,100 employees.\n",
            "14                                                                                                                                                                                                                                                                                                                                                                                                                                        For decades, the $1 million retirement savings goal has been considered the gold standard for a secure and comfortable post-work life. However, the reality for most Americans is quite different. According to the Federal Reserve’s latest Survey of Consumer Finances, only about 10% of American retirees have managed to save $1 million or more. This leaves a significant 90% who fall short of this milestone. Don't Miss: The average American couple has saved this much money for retirement — How do you\n",
            "15                                                                                                                                                                                                                                                                                                                                                                                                                                                                                                                                                                                                                                                                                                                                                                                                                                                                                                                    Here's what could happen next at Costco.\n",
            "16                                                                                                                                                                                                                                                                                                                                                                                                                                                                                                                                                                                                                                                                                                                                                                                                                                                             As the broader stock market continues rising, finding bargain growth stocks is becoming harder.\n",
            "17                                                                                                                                                                                                                                                                                                                                                                                                                                                                                                                                                                                                                                                                                                                                                                              Mexican stocks sank and the peso slid on concern that the president-elect could seek to make changes to the constitution or pursue other policies that could rattle investors.\n",
            "18                                                                                                                                                                                                                                                                                                                                                                                                                                                                                                                                                                                                                                                                                                                                                                                                                                                                                                                            Sign in to access your portfolio\n"
          ]
        }
      ]
    },
    {
      "cell_type": "markdown",
      "source": [
        "# **Basic Analysis - Before Proccessing**"
      ],
      "metadata": {
        "id": "5l37OtuDr7F8"
      }
    },
    {
      "cell_type": "code",
      "source": [
        "# Total number of messages\n",
        "total_num_of_data(df)\n",
        "# Average number of words per message\n",
        "avg_words_per_message(df, 'posts')\n",
        "# 5 most frequent words\n",
        "most_frequent_words(df, 'posts', 5)\n",
        "# Number of words that only appear once\n",
        "count_of_words_apear_once(df)"
      ],
      "metadata": {
        "colab": {
          "base_uri": "https://localhost:8080/"
        },
        "id": "aQAAI99Gr4yP",
        "outputId": "56142c41-9c4f-4e22-9bc4-75f2820f156e"
      },
      "execution_count": 104,
      "outputs": [
        {
          "output_type": "stream",
          "name": "stdout",
          "text": [
            "Total number of messages: 19\n",
            "0      28\n",
            "1      14\n",
            "2     136\n",
            "3      13\n",
            "4      15\n",
            "5      17\n",
            "6      22\n",
            "7      18\n",
            "8      28\n",
            "9      84\n",
            "10      8\n",
            "11     82\n",
            "12     33\n",
            "13     19\n",
            "14     82\n",
            "15      7\n",
            "16     14\n",
            "17     28\n",
            "18      6\n",
            "Name: word_count, dtype: int64\n",
            "Average number of words per message: 34.42\n",
            "5 most frequent words:\n",
            "the: 34\n",
            "to: 19\n",
            "for: 11\n",
            "is: 10\n",
            "and: 10\n",
            "Number of words that only appear once: 72\n"
          ]
        }
      ]
    },
    {
      "cell_type": "code",
      "source": [
        "# Function to print word statistics\n",
        "def print_word_statistics(text, description):\n",
        "    str = \" \".join(text)\n",
        "    print(str)\n",
        "    words = word_tokenize(str)\n",
        "    total_words = len(words)\n",
        "    unique_words = len(set(words))\n",
        "    word_freq = Counter(words)\n",
        "    most_common_words = word_freq.most_common(10)\n",
        "\n",
        "    print(f\"--- {description} ---\")\n",
        "    print(f\"Total words: {total_words}\")\n",
        "    print(f\"Unique words: {unique_words}\")\n",
        "    print(\"Most common words:\")\n",
        "    for word, freq in most_common_words:\n",
        "        print(f\"{word}: {freq}\")\n",
        "    print(\"\\n\")\n",
        "\n",
        "# Initial word statistics (before text processing)\n",
        "#print_word_statistics(df['posts'], \"Before Text Processing\")"
      ],
      "metadata": {
        "id": "m8nnhSu-sKYF"
      },
      "execution_count": 106,
      "outputs": []
    },
    {
      "cell_type": "markdown",
      "source": [
        "# Data cleaning"
      ],
      "metadata": {
        "id": "yVn-ZEADsSXI"
      }
    },
    {
      "cell_type": "code",
      "source": [
        "column = 'posts'\n",
        "data_cleaning(df, column)"
      ],
      "metadata": {
        "colab": {
          "base_uri": "https://localhost:8080/",
          "height": 1000
        },
        "id": "lsXBX6yOsRhf",
        "outputId": "fa553105-d299-4661-9292-4977c0df907b"
      },
      "execution_count": 107,
      "outputs": [
        {
          "output_type": "stream",
          "name": "stdout",
          "text": [
            "Cleaned data preview:\n",
            "                                                                                                                                                                                                                                                                                                                                                                                                                                                                                                                                                                                                                                                                                                                                                                                                posts  \\\n",
            "0                                                                                                                                                                                                                                                                                                                                                                                                                                                                                                                                                                                                                                                                                  experiencing temporary issues market data page currently delayed please bear us address restore personalized lists   \n",
            "1                                                                                                                                                                                                                                                                                                                                                                                                                                                                                                                                                                                                                                                                                                                                      job openings fell sharply april us labor market continues cool   \n",
            "2   stocks dji ixic gspc pressure weak jolts data pointed signs economic cracks job openings falling lowest level since february 2021 gamestop gme rally retreating meme trade influencer roaring kitty reportedly faces potential ban etrade due market manipulation concerns investors also watching latest quarterly earnings hewlett packard enterprises hpe crowdstrike crwd see ai impacting businesses yahoo finance trending tickers include core scientific inc corz viking therapeutics vktx carnival corporation ccl key guests include310 pm et michael kantrowitz piper sandler chief investment strategist325 pm et rebecca babin cibc private wealth us senior energy trader345 pm et daron acemoglu mit economics professor440 pm et mickey drexler alex mill chairman former gap ceo   \n",
            "3                                                                                                                                                                                                                                                                                                                                                                                                                                                                                                                                                                                                                                                                                                                                      fed rate decision might influence savings cd interest earnings   \n",
            "4                                                                                                                                                                                                                                                                                                                                                                                                                                                                                                                                                                                                                                                                                                                  nvidia suddenly nipping apples heels looking become secondmost valuable us company   \n",
            "5                                                                                                                                                                                                                                                                                                                                                                                                                                                                                                                                                                                                                                                                                                              microsoft maintained position leading global company market cap rising 66 308 trillion   \n",
            "6                                                                                                                                                                                                                                                                                                                                                                                                                                                                                                                                                                                                                                                                                                               benchmark reverted back 2023 ways may six large tech stocks accounting majority gains   \n",
            "7                                                                                                                                                                                                                                                                                                                                                                                                                                                                                                                                                                                                                                                                                                     drama surrounding ceo elon musks pay package among issues helping tesla lag magnificent 7 peers   \n",
            "8                                                                                                                                                                                                                                                                                                                                                                                                                                                                                                                                                                                                                                                                                         update posted 9 pm last night nyse said would bust erroneous trades berkshire hathaway stock 60371830 share   \n",
            "9                                                                                                                                                                                                                                                                                                                                                                                                                                                           ultrawealthy 1 often dominates financial headlines real question americans whether net worth comparable peers understanding takes top 10 age provide valuable insight financial standing reveal milestones success different stages life dont miss average american couple saved much money retirement compare rich heres americans think   \n",
            "10                                                                                                                                                                                                                                                                                                                                                                                                                                                                                                                                                                                                                                                                                                                                                                                  promised put hell   \n",
            "11                                                                                                                                                                                                                                                                                                                                                                                                                                purchasing home comes significant costs beyond mortgage property taxes stand perpetual expense varying widely depending location homeowners mean annual bill ranging 1000 9000 10 states highest median property tax bills using data us census bureau reported kiplinger expensive places live us washington state median property tax 4158 washington state ranks   \n",
            "12                                                                                                                                                                                                                                                                                                                                                                                                                                                                                                                                                                                                                                 two householdname stocks could soon become affordable everyday investors one pretty much guaranteed split stock soon move would also fit companys management style   \n",
            "13                                                                                                                                                                                                                                                                                                                                                                                                                                                                                                                                                                                                                                                                                                   cava group inc founded 2006 owns operates chain mediterranean restaurants company 8100 employees   \n",
            "14                                                                                                                                                                                                                                                                                                                                                                                                                                      decades 1 million retirement savings goal considered gold standard secure comfortable postwork life however reality americans quite different according federal reserves latest survey consumer finances 10 american retirees managed save 1 million leaves significant 90 fall short milestone dont miss average american couple saved much money retirement   \n",
            "15                                                                                                                                                                                                                                                                                                                                                                                                                                                                                                                                                                                                                                                                                                                                                                     heres could happen next costco   \n",
            "16                                                                                                                                                                                                                                                                                                                                                                                                                                                                                                                                                                                                                                                                                                                broader stock market continues rising finding bargain growth stocks becoming harder   \n",
            "17                                                                                                                                                                                                                                                                                                                                                                                                                                                                                                                                                                                                                                                                   mexican stocks sank peso slid concern presidentelect could seek make changes constitution pursue policies could rattle investors   \n",
            "18                                                                                                                                                                                                                                                                                                                                                                                                                                                                                                                                                                                                                                                                                                                                                                              sign access portfolio   \n",
            "\n",
            "    word_count  \n",
            "0           28  \n",
            "1           14  \n",
            "2          136  \n",
            "3           13  \n",
            "4           15  \n",
            "5           17  \n",
            "6           22  \n",
            "7           18  \n",
            "8           28  \n",
            "9           84  \n",
            "10           8  \n",
            "11          82  \n",
            "12          33  \n",
            "13          19  \n",
            "14          82  \n",
            "15           7  \n",
            "16          14  \n",
            "17          28  \n",
            "18           6  \n"
          ]
        },
        {
          "output_type": "execute_result",
          "data": {
            "text/plain": [
              "                                                                                                                                                                                                                                                                                                                                                                                                                                                                                                                                                                                                                                                                                                                                                                                                posts  \\\n",
              "0                                                                                                                                                                                                                                                                                                                                                                                                                                                                                                                                                                                                                                                                                  experiencing temporary issues market data page currently delayed please bear us address restore personalized lists   \n",
              "1                                                                                                                                                                                                                                                                                                                                                                                                                                                                                                                                                                                                                                                                                                                                      job openings fell sharply april us labor market continues cool   \n",
              "2   stocks dji ixic gspc pressure weak jolts data pointed signs economic cracks job openings falling lowest level since february 2021 gamestop gme rally retreating meme trade influencer roaring kitty reportedly faces potential ban etrade due market manipulation concerns investors also watching latest quarterly earnings hewlett packard enterprises hpe crowdstrike crwd see ai impacting businesses yahoo finance trending tickers include core scientific inc corz viking therapeutics vktx carnival corporation ccl key guests include310 pm et michael kantrowitz piper sandler chief investment strategist325 pm et rebecca babin cibc private wealth us senior energy trader345 pm et daron acemoglu mit economics professor440 pm et mickey drexler alex mill chairman former gap ceo   \n",
              "3                                                                                                                                                                                                                                                                                                                                                                                                                                                                                                                                                                                                                                                                                                                                      fed rate decision might influence savings cd interest earnings   \n",
              "4                                                                                                                                                                                                                                                                                                                                                                                                                                                                                                                                                                                                                                                                                                                  nvidia suddenly nipping apples heels looking become secondmost valuable us company   \n",
              "5                                                                                                                                                                                                                                                                                                                                                                                                                                                                                                                                                                                                                                                                                                              microsoft maintained position leading global company market cap rising 66 308 trillion   \n",
              "6                                                                                                                                                                                                                                                                                                                                                                                                                                                                                                                                                                                                                                                                                                               benchmark reverted back 2023 ways may six large tech stocks accounting majority gains   \n",
              "7                                                                                                                                                                                                                                                                                                                                                                                                                                                                                                                                                                                                                                                                                                     drama surrounding ceo elon musks pay package among issues helping tesla lag magnificent 7 peers   \n",
              "8                                                                                                                                                                                                                                                                                                                                                                                                                                                                                                                                                                                                                                                                                         update posted 9 pm last night nyse said would bust erroneous trades berkshire hathaway stock 60371830 share   \n",
              "9                                                                                                                                                                                                                                                                                                                                                                                                                                                           ultrawealthy 1 often dominates financial headlines real question americans whether net worth comparable peers understanding takes top 10 age provide valuable insight financial standing reveal milestones success different stages life dont miss average american couple saved much money retirement compare rich heres americans think   \n",
              "10                                                                                                                                                                                                                                                                                                                                                                                                                                                                                                                                                                                                                                                                                                                                                                                  promised put hell   \n",
              "11                                                                                                                                                                                                                                                                                                                                                                                                                                purchasing home comes significant costs beyond mortgage property taxes stand perpetual expense varying widely depending location homeowners mean annual bill ranging 1000 9000 10 states highest median property tax bills using data us census bureau reported kiplinger expensive places live us washington state median property tax 4158 washington state ranks   \n",
              "12                                                                                                                                                                                                                                                                                                                                                                                                                                                                                                                                                                                                                                 two householdname stocks could soon become affordable everyday investors one pretty much guaranteed split stock soon move would also fit companys management style   \n",
              "13                                                                                                                                                                                                                                                                                                                                                                                                                                                                                                                                                                                                                                                                                                   cava group inc founded 2006 owns operates chain mediterranean restaurants company 8100 employees   \n",
              "14                                                                                                                                                                                                                                                                                                                                                                                                                                      decades 1 million retirement savings goal considered gold standard secure comfortable postwork life however reality americans quite different according federal reserves latest survey consumer finances 10 american retirees managed save 1 million leaves significant 90 fall short milestone dont miss average american couple saved much money retirement   \n",
              "15                                                                                                                                                                                                                                                                                                                                                                                                                                                                                                                                                                                                                                                                                                                                                                     heres could happen next costco   \n",
              "16                                                                                                                                                                                                                                                                                                                                                                                                                                                                                                                                                                                                                                                                                                                broader stock market continues rising finding bargain growth stocks becoming harder   \n",
              "17                                                                                                                                                                                                                                                                                                                                                                                                                                                                                                                                                                                                                                                                   mexican stocks sank peso slid concern presidentelect could seek make changes constitution pursue policies could rattle investors   \n",
              "18                                                                                                                                                                                                                                                                                                                                                                                                                                                                                                                                                                                                                                                                                                                                                                              sign access portfolio   \n",
              "\n",
              "    word_count  \n",
              "0           28  \n",
              "1           14  \n",
              "2          136  \n",
              "3           13  \n",
              "4           15  \n",
              "5           17  \n",
              "6           22  \n",
              "7           18  \n",
              "8           28  \n",
              "9           84  \n",
              "10           8  \n",
              "11          82  \n",
              "12          33  \n",
              "13          19  \n",
              "14          82  \n",
              "15           7  \n",
              "16          14  \n",
              "17          28  \n",
              "18           6  "
            ],
            "text/html": [
              "\n",
              "  <div id=\"df-f2022388-c527-43bf-b01d-7dca2e2fa4a5\" class=\"colab-df-container\">\n",
              "    <div>\n",
              "<style scoped>\n",
              "    .dataframe tbody tr th:only-of-type {\n",
              "        vertical-align: middle;\n",
              "    }\n",
              "\n",
              "    .dataframe tbody tr th {\n",
              "        vertical-align: top;\n",
              "    }\n",
              "\n",
              "    .dataframe thead th {\n",
              "        text-align: right;\n",
              "    }\n",
              "</style>\n",
              "<table border=\"1\" class=\"dataframe\">\n",
              "  <thead>\n",
              "    <tr style=\"text-align: right;\">\n",
              "      <th></th>\n",
              "      <th>posts</th>\n",
              "      <th>word_count</th>\n",
              "    </tr>\n",
              "  </thead>\n",
              "  <tbody>\n",
              "    <tr>\n",
              "      <th>0</th>\n",
              "      <td>experiencing temporary issues market data page currently delayed please bear us address restore personalized lists</td>\n",
              "      <td>28</td>\n",
              "    </tr>\n",
              "    <tr>\n",
              "      <th>1</th>\n",
              "      <td>job openings fell sharply april us labor market continues cool</td>\n",
              "      <td>14</td>\n",
              "    </tr>\n",
              "    <tr>\n",
              "      <th>2</th>\n",
              "      <td>stocks dji ixic gspc pressure weak jolts data pointed signs economic cracks job openings falling lowest level since february 2021 gamestop gme rally retreating meme trade influencer roaring kitty reportedly faces potential ban etrade due market manipulation concerns investors also watching latest quarterly earnings hewlett packard enterprises hpe crowdstrike crwd see ai impacting businesses yahoo finance trending tickers include core scientific inc corz viking therapeutics vktx carnival corporation ccl key guests include310 pm et michael kantrowitz piper sandler chief investment strategist325 pm et rebecca babin cibc private wealth us senior energy trader345 pm et daron acemoglu mit economics professor440 pm et mickey drexler alex mill chairman former gap ceo</td>\n",
              "      <td>136</td>\n",
              "    </tr>\n",
              "    <tr>\n",
              "      <th>3</th>\n",
              "      <td>fed rate decision might influence savings cd interest earnings</td>\n",
              "      <td>13</td>\n",
              "    </tr>\n",
              "    <tr>\n",
              "      <th>4</th>\n",
              "      <td>nvidia suddenly nipping apples heels looking become secondmost valuable us company</td>\n",
              "      <td>15</td>\n",
              "    </tr>\n",
              "    <tr>\n",
              "      <th>5</th>\n",
              "      <td>microsoft maintained position leading global company market cap rising 66 308 trillion</td>\n",
              "      <td>17</td>\n",
              "    </tr>\n",
              "    <tr>\n",
              "      <th>6</th>\n",
              "      <td>benchmark reverted back 2023 ways may six large tech stocks accounting majority gains</td>\n",
              "      <td>22</td>\n",
              "    </tr>\n",
              "    <tr>\n",
              "      <th>7</th>\n",
              "      <td>drama surrounding ceo elon musks pay package among issues helping tesla lag magnificent 7 peers</td>\n",
              "      <td>18</td>\n",
              "    </tr>\n",
              "    <tr>\n",
              "      <th>8</th>\n",
              "      <td>update posted 9 pm last night nyse said would bust erroneous trades berkshire hathaway stock 60371830 share</td>\n",
              "      <td>28</td>\n",
              "    </tr>\n",
              "    <tr>\n",
              "      <th>9</th>\n",
              "      <td>ultrawealthy 1 often dominates financial headlines real question americans whether net worth comparable peers understanding takes top 10 age provide valuable insight financial standing reveal milestones success different stages life dont miss average american couple saved much money retirement compare rich heres americans think</td>\n",
              "      <td>84</td>\n",
              "    </tr>\n",
              "    <tr>\n",
              "      <th>10</th>\n",
              "      <td>promised put hell</td>\n",
              "      <td>8</td>\n",
              "    </tr>\n",
              "    <tr>\n",
              "      <th>11</th>\n",
              "      <td>purchasing home comes significant costs beyond mortgage property taxes stand perpetual expense varying widely depending location homeowners mean annual bill ranging 1000 9000 10 states highest median property tax bills using data us census bureau reported kiplinger expensive places live us washington state median property tax 4158 washington state ranks</td>\n",
              "      <td>82</td>\n",
              "    </tr>\n",
              "    <tr>\n",
              "      <th>12</th>\n",
              "      <td>two householdname stocks could soon become affordable everyday investors one pretty much guaranteed split stock soon move would also fit companys management style</td>\n",
              "      <td>33</td>\n",
              "    </tr>\n",
              "    <tr>\n",
              "      <th>13</th>\n",
              "      <td>cava group inc founded 2006 owns operates chain mediterranean restaurants company 8100 employees</td>\n",
              "      <td>19</td>\n",
              "    </tr>\n",
              "    <tr>\n",
              "      <th>14</th>\n",
              "      <td>decades 1 million retirement savings goal considered gold standard secure comfortable postwork life however reality americans quite different according federal reserves latest survey consumer finances 10 american retirees managed save 1 million leaves significant 90 fall short milestone dont miss average american couple saved much money retirement</td>\n",
              "      <td>82</td>\n",
              "    </tr>\n",
              "    <tr>\n",
              "      <th>15</th>\n",
              "      <td>heres could happen next costco</td>\n",
              "      <td>7</td>\n",
              "    </tr>\n",
              "    <tr>\n",
              "      <th>16</th>\n",
              "      <td>broader stock market continues rising finding bargain growth stocks becoming harder</td>\n",
              "      <td>14</td>\n",
              "    </tr>\n",
              "    <tr>\n",
              "      <th>17</th>\n",
              "      <td>mexican stocks sank peso slid concern presidentelect could seek make changes constitution pursue policies could rattle investors</td>\n",
              "      <td>28</td>\n",
              "    </tr>\n",
              "    <tr>\n",
              "      <th>18</th>\n",
              "      <td>sign access portfolio</td>\n",
              "      <td>6</td>\n",
              "    </tr>\n",
              "  </tbody>\n",
              "</table>\n",
              "</div>\n",
              "    <div class=\"colab-df-buttons\">\n",
              "\n",
              "  <div class=\"colab-df-container\">\n",
              "    <button class=\"colab-df-convert\" onclick=\"convertToInteractive('df-f2022388-c527-43bf-b01d-7dca2e2fa4a5')\"\n",
              "            title=\"Convert this dataframe to an interactive table.\"\n",
              "            style=\"display:none;\">\n",
              "\n",
              "  <svg xmlns=\"http://www.w3.org/2000/svg\" height=\"24px\" viewBox=\"0 -960 960 960\">\n",
              "    <path d=\"M120-120v-720h720v720H120Zm60-500h600v-160H180v160Zm220 220h160v-160H400v160Zm0 220h160v-160H400v160ZM180-400h160v-160H180v160Zm440 0h160v-160H620v160ZM180-180h160v-160H180v160Zm440 0h160v-160H620v160Z\"/>\n",
              "  </svg>\n",
              "    </button>\n",
              "\n",
              "  <style>\n",
              "    .colab-df-container {\n",
              "      display:flex;\n",
              "      gap: 12px;\n",
              "    }\n",
              "\n",
              "    .colab-df-convert {\n",
              "      background-color: #E8F0FE;\n",
              "      border: none;\n",
              "      border-radius: 50%;\n",
              "      cursor: pointer;\n",
              "      display: none;\n",
              "      fill: #1967D2;\n",
              "      height: 32px;\n",
              "      padding: 0 0 0 0;\n",
              "      width: 32px;\n",
              "    }\n",
              "\n",
              "    .colab-df-convert:hover {\n",
              "      background-color: #E2EBFA;\n",
              "      box-shadow: 0px 1px 2px rgba(60, 64, 67, 0.3), 0px 1px 3px 1px rgba(60, 64, 67, 0.15);\n",
              "      fill: #174EA6;\n",
              "    }\n",
              "\n",
              "    .colab-df-buttons div {\n",
              "      margin-bottom: 4px;\n",
              "    }\n",
              "\n",
              "    [theme=dark] .colab-df-convert {\n",
              "      background-color: #3B4455;\n",
              "      fill: #D2E3FC;\n",
              "    }\n",
              "\n",
              "    [theme=dark] .colab-df-convert:hover {\n",
              "      background-color: #434B5C;\n",
              "      box-shadow: 0px 1px 3px 1px rgba(0, 0, 0, 0.15);\n",
              "      filter: drop-shadow(0px 1px 2px rgba(0, 0, 0, 0.3));\n",
              "      fill: #FFFFFF;\n",
              "    }\n",
              "  </style>\n",
              "\n",
              "    <script>\n",
              "      const buttonEl =\n",
              "        document.querySelector('#df-f2022388-c527-43bf-b01d-7dca2e2fa4a5 button.colab-df-convert');\n",
              "      buttonEl.style.display =\n",
              "        google.colab.kernel.accessAllowed ? 'block' : 'none';\n",
              "\n",
              "      async function convertToInteractive(key) {\n",
              "        const element = document.querySelector('#df-f2022388-c527-43bf-b01d-7dca2e2fa4a5');\n",
              "        const dataTable =\n",
              "          await google.colab.kernel.invokeFunction('convertToInteractive',\n",
              "                                                    [key], {});\n",
              "        if (!dataTable) return;\n",
              "\n",
              "        const docLinkHtml = 'Like what you see? Visit the ' +\n",
              "          '<a target=\"_blank\" href=https://colab.research.google.com/notebooks/data_table.ipynb>data table notebook</a>'\n",
              "          + ' to learn more about interactive tables.';\n",
              "        element.innerHTML = '';\n",
              "        dataTable['output_type'] = 'display_data';\n",
              "        await google.colab.output.renderOutput(dataTable, element);\n",
              "        const docLink = document.createElement('div');\n",
              "        docLink.innerHTML = docLinkHtml;\n",
              "        element.appendChild(docLink);\n",
              "      }\n",
              "    </script>\n",
              "  </div>\n",
              "\n",
              "\n",
              "<div id=\"df-a0341e07-f6dc-4396-9d8e-f0405f1c7384\">\n",
              "  <button class=\"colab-df-quickchart\" onclick=\"quickchart('df-a0341e07-f6dc-4396-9d8e-f0405f1c7384')\"\n",
              "            title=\"Suggest charts\"\n",
              "            style=\"display:none;\">\n",
              "\n",
              "<svg xmlns=\"http://www.w3.org/2000/svg\" height=\"24px\"viewBox=\"0 0 24 24\"\n",
              "     width=\"24px\">\n",
              "    <g>\n",
              "        <path d=\"M19 3H5c-1.1 0-2 .9-2 2v14c0 1.1.9 2 2 2h14c1.1 0 2-.9 2-2V5c0-1.1-.9-2-2-2zM9 17H7v-7h2v7zm4 0h-2V7h2v10zm4 0h-2v-4h2v4z\"/>\n",
              "    </g>\n",
              "</svg>\n",
              "  </button>\n",
              "\n",
              "<style>\n",
              "  .colab-df-quickchart {\n",
              "      --bg-color: #E8F0FE;\n",
              "      --fill-color: #1967D2;\n",
              "      --hover-bg-color: #E2EBFA;\n",
              "      --hover-fill-color: #174EA6;\n",
              "      --disabled-fill-color: #AAA;\n",
              "      --disabled-bg-color: #DDD;\n",
              "  }\n",
              "\n",
              "  [theme=dark] .colab-df-quickchart {\n",
              "      --bg-color: #3B4455;\n",
              "      --fill-color: #D2E3FC;\n",
              "      --hover-bg-color: #434B5C;\n",
              "      --hover-fill-color: #FFFFFF;\n",
              "      --disabled-bg-color: #3B4455;\n",
              "      --disabled-fill-color: #666;\n",
              "  }\n",
              "\n",
              "  .colab-df-quickchart {\n",
              "    background-color: var(--bg-color);\n",
              "    border: none;\n",
              "    border-radius: 50%;\n",
              "    cursor: pointer;\n",
              "    display: none;\n",
              "    fill: var(--fill-color);\n",
              "    height: 32px;\n",
              "    padding: 0;\n",
              "    width: 32px;\n",
              "  }\n",
              "\n",
              "  .colab-df-quickchart:hover {\n",
              "    background-color: var(--hover-bg-color);\n",
              "    box-shadow: 0 1px 2px rgba(60, 64, 67, 0.3), 0 1px 3px 1px rgba(60, 64, 67, 0.15);\n",
              "    fill: var(--button-hover-fill-color);\n",
              "  }\n",
              "\n",
              "  .colab-df-quickchart-complete:disabled,\n",
              "  .colab-df-quickchart-complete:disabled:hover {\n",
              "    background-color: var(--disabled-bg-color);\n",
              "    fill: var(--disabled-fill-color);\n",
              "    box-shadow: none;\n",
              "  }\n",
              "\n",
              "  .colab-df-spinner {\n",
              "    border: 2px solid var(--fill-color);\n",
              "    border-color: transparent;\n",
              "    border-bottom-color: var(--fill-color);\n",
              "    animation:\n",
              "      spin 1s steps(1) infinite;\n",
              "  }\n",
              "\n",
              "  @keyframes spin {\n",
              "    0% {\n",
              "      border-color: transparent;\n",
              "      border-bottom-color: var(--fill-color);\n",
              "      border-left-color: var(--fill-color);\n",
              "    }\n",
              "    20% {\n",
              "      border-color: transparent;\n",
              "      border-left-color: var(--fill-color);\n",
              "      border-top-color: var(--fill-color);\n",
              "    }\n",
              "    30% {\n",
              "      border-color: transparent;\n",
              "      border-left-color: var(--fill-color);\n",
              "      border-top-color: var(--fill-color);\n",
              "      border-right-color: var(--fill-color);\n",
              "    }\n",
              "    40% {\n",
              "      border-color: transparent;\n",
              "      border-right-color: var(--fill-color);\n",
              "      border-top-color: var(--fill-color);\n",
              "    }\n",
              "    60% {\n",
              "      border-color: transparent;\n",
              "      border-right-color: var(--fill-color);\n",
              "    }\n",
              "    80% {\n",
              "      border-color: transparent;\n",
              "      border-right-color: var(--fill-color);\n",
              "      border-bottom-color: var(--fill-color);\n",
              "    }\n",
              "    90% {\n",
              "      border-color: transparent;\n",
              "      border-bottom-color: var(--fill-color);\n",
              "    }\n",
              "  }\n",
              "</style>\n",
              "\n",
              "  <script>\n",
              "    async function quickchart(key) {\n",
              "      const quickchartButtonEl =\n",
              "        document.querySelector('#' + key + ' button');\n",
              "      quickchartButtonEl.disabled = true;  // To prevent multiple clicks.\n",
              "      quickchartButtonEl.classList.add('colab-df-spinner');\n",
              "      try {\n",
              "        const charts = await google.colab.kernel.invokeFunction(\n",
              "            'suggestCharts', [key], {});\n",
              "      } catch (error) {\n",
              "        console.error('Error during call to suggestCharts:', error);\n",
              "      }\n",
              "      quickchartButtonEl.classList.remove('colab-df-spinner');\n",
              "      quickchartButtonEl.classList.add('colab-df-quickchart-complete');\n",
              "    }\n",
              "    (() => {\n",
              "      let quickchartButtonEl =\n",
              "        document.querySelector('#df-a0341e07-f6dc-4396-9d8e-f0405f1c7384 button');\n",
              "      quickchartButtonEl.style.display =\n",
              "        google.colab.kernel.accessAllowed ? 'block' : 'none';\n",
              "    })();\n",
              "  </script>\n",
              "</div>\n",
              "\n",
              "    </div>\n",
              "  </div>\n"
            ],
            "application/vnd.google.colaboratory.intrinsic+json": {
              "type": "dataframe",
              "summary": "{\n  \"name\": \"data_cleaning(df, column)\",\n  \"rows\": 19,\n  \"fields\": [\n    {\n      \"column\": \"posts\",\n      \"properties\": {\n        \"dtype\": \"string\",\n        \"num_unique_values\": 19,\n        \"samples\": [\n          \"experiencing temporary issues market data page currently delayed please bear us address restore personalized lists\",\n          \"microsoft maintained position leading global company market cap rising 66 308 trillion\",\n          \"purchasing home comes significant costs beyond mortgage property taxes stand perpetual expense varying widely depending location homeowners mean annual bill ranging 1000 9000 10 states highest median property tax bills using data us census bureau reported kiplinger expensive places live us washington state median property tax 4158 washington state ranks\"\n        ],\n        \"semantic_type\": \"\",\n        \"description\": \"\"\n      }\n    },\n    {\n      \"column\": \"word_count\",\n      \"properties\": {\n        \"dtype\": \"number\",\n        \"std\": 35,\n        \"min\": 6,\n        \"max\": 136,\n        \"num_unique_values\": 15,\n        \"samples\": [\n          8,\n          33,\n          28\n        ],\n        \"semantic_type\": \"\",\n        \"description\": \"\"\n      }\n    }\n  ]\n}"
            }
          },
          "metadata": {},
          "execution_count": 107
        }
      ]
    },
    {
      "cell_type": "markdown",
      "source": [
        "# **Basic Analysis - After Proccessing**"
      ],
      "metadata": {
        "id": "q95jKtoGsArl"
      }
    },
    {
      "cell_type": "code",
      "source": [
        "# Total number of messages\n",
        "total_num_of_data(df)\n",
        "# Average number of words per message\n",
        "avg_words_per_message(df, 'posts')\n",
        "# 5 most frequent words\n",
        "most_frequent_words(df, 'posts', 5)\n",
        "# Number of words that only appear once\n",
        "count_of_words_apear_once(df)"
      ],
      "metadata": {
        "colab": {
          "base_uri": "https://localhost:8080/"
        },
        "id": "TZyC0stqsDIK",
        "outputId": "25718b7c-be2f-47d0-bdf6-15cf396cfe1f"
      },
      "execution_count": 109,
      "outputs": [
        {
          "output_type": "stream",
          "name": "stdout",
          "text": [
            "Total number of messages: 19\n",
            "0      28\n",
            "1      14\n",
            "2     136\n",
            "3      13\n",
            "4      15\n",
            "5      17\n",
            "6      22\n",
            "7      18\n",
            "8      28\n",
            "9      84\n",
            "10      8\n",
            "11     82\n",
            "12     33\n",
            "13     19\n",
            "14     82\n",
            "15      7\n",
            "16     14\n",
            "17     28\n",
            "18      6\n",
            "Name: word_count, dtype: int64\n",
            "Average number of words per message: 34.42\n",
            "5 most frequent words:\n",
            "the: 34\n",
            "to: 19\n",
            "for: 11\n",
            "is: 10\n",
            "and: 10\n",
            "Number of words that only appear once: 72\n"
          ]
        }
      ]
    },
    {
      "cell_type": "markdown",
      "source": [
        "# **NLTK Tokenization**"
      ],
      "metadata": {
        "id": "ItY8O8Esrw4K"
      }
    },
    {
      "cell_type": "code",
      "source": [
        "\n",
        "start_time = time.time()\n",
        "\n",
        "# Tokenize using NLTK\n",
        "df['nltk_tokens'] = df['posts'].apply(word_tokenize)\n",
        "\n",
        "nltk_time = time.time() - start_time\n",
        "print(f\"NLTK tokenization time: {nltk_time} seconds\")\n",
        "print(df['nltk_tokens'].head(10))"
      ],
      "metadata": {
        "colab": {
          "base_uri": "https://localhost:8080/"
        },
        "id": "t1wrH9-yrHx_",
        "outputId": "1defc701-48ff-4702-b25c-8ab0b1348549"
      },
      "execution_count": 110,
      "outputs": [
        {
          "output_type": "stream",
          "name": "stdout",
          "text": [
            "NLTK tokenization time: 0.014487743377685547 seconds\n",
            "0                                                                                                                                                                                                                                                                                                                                                                                                                                                                                             [We, are, experiencing, some, temporary, issues, ., The, market, data, on, this, page, is, currently, delayed, ., Please, bear, with, us, as, we, address, this, and, restore, your, personalized, lists, .]\n",
            "1                                                                                                                                                                                                                                                                                                                                                                                                                                                                                                                                                                                                            [Job, openings, fell, sharply, in, April, as, the, US, labor, market, continues, to, cool, .]\n",
            "2    [Stocks, (, ^DJI, ,, ^IXIC, ,, ^GSPC, ), are, under, pressure, after, weak, JOLTS, data, pointed, to, signs, of, economic, cracks, ,, with, job, openings, falling, to, their, lowest, level, since, February, 2021, ., The, GameStop, (, GME, ), rally, is, retreating, ,, as, meme, trade, influencer, 'Roaring, Kitty, ', reportedly, faces, a, potential, ban, from, E-Trade, due, to, market, manipulation, concerns, ., Investors, will, also, be, watching, for, the, latest, quarterly, earnings, from, Hewlett, Packard, Enterprises, (, HPE, ), and, CrowdStrike, (, CRWD, ), to, see, how, AI, is, impacting, those, businesses, ., Yahoo, Finance, trending, tickers, include, Core, ...]\n",
            "3                                                                                                                                                                                                                                                                                                                                                                                                                                                                                                                                                                                                         [How, the, Fed, rate, decision, might, influence, your, savings, and, CD, interest, earnings, .]\n",
            "4                                                                                                                                                                                                                                                                                                                                                                                                                                                                                                                                                                                [Nvidia, is, suddenly, nipping, on, Apple, 's, heels, ,, looking, to, become, the, second-most, valuable, US, company, .]\n",
            "5                                                                                                                                                                                                                                                                                                                                                                                                                                                                                                                                                                  [Microsoft, maintained, its, position, as, the, leading, global, company, by, market, cap, ,, rising, 6.6, %, to, $, 3.08, trillion, .]\n",
            "6                                                                                                                                                                                                                                                                                                                                                                                                                                                                                                                                                        [The, benchmark, reverted, back, to, its, 2023, ways, in, May, with, six, large, tech, stocks, accounting, for, the, majority, of, its, gains, .]\n",
            "7                                                                                                                                                                                                                                                                                                                                                                                                                                                                                                                                                                  [Drama, surrounding, CEO, Elon, Musk, 's, pay, package, is, among, the, issues, helping, Tesla, lag, its, 'Magnificent, 7, ', peers, .]\n",
            "8                                                                                                                                                                                                                                                                                                                                                                                                                                                                                                  [In, an, update, posted, at, 9, p.m., last, night, NYSE, said, it, would, ``, bust, '', all, the, ``, erroneous, '', trades, of, Berkshire, Hathaway, stock, at, or, below, $, 603,718.30, a, share, .]\n",
            "9                                                                           [While, the, ultrawealthy, 1, %, often, dominates, financial, headlines, ,, the, real, question, for, most, Americans, is, whether, their, net, worth, is, comparable, to, that, of, their, peers, ., Understanding, what, it, takes, to, be, in, the, top, 10, %, at, your, age, can, provide, valuable, insight, into, your, financial, standing, and, reveal, the, milestones, for, success, at, different, stages, of, life, ., Do, n't, Miss, :, The, average, American, couple, has, saved, this, much, money, for, retirement, —, How, do, you, compare, ?, Are, you, rich, ?, Here, ’, s, what, Americans, think, you]\n",
            "Name: nltk_tokens, dtype: object\n"
          ]
        }
      ]
    },
    {
      "cell_type": "markdown",
      "source": [
        "# **NLTK Lemmatization**"
      ],
      "metadata": {
        "id": "JkqTsLZkr4iH"
      }
    },
    {
      "cell_type": "code",
      "source": [
        "\n",
        "# Using list comprehension to flatten the lists in the 'nltk_tokens' column\n",
        "all_tokens = [token for sublist in df['nltk_tokens'] for token in sublist]\n",
        "\n",
        "print(all_tokens)\n",
        "\n",
        "start_time = time.time()\n",
        "\n",
        "for w in all_tokens:\n",
        "   (w, \" : \", lemmatizer.lemmatize(w, pos='n'))\n",
        "time = time.time() - start_time\n",
        "time"
      ],
      "metadata": {
        "colab": {
          "base_uri": "https://localhost:8080/"
        },
        "id": "do5jZpE2rqhr",
        "outputId": "872899f1-4593-4cf0-fd7d-67a272676884"
      },
      "execution_count": 111,
      "outputs": [
        {
          "output_type": "stream",
          "name": "stdout",
          "text": [
            "['We', 'are', 'experiencing', 'some', 'temporary', 'issues', '.', 'The', 'market', 'data', 'on', 'this', 'page', 'is', 'currently', 'delayed', '.', 'Please', 'bear', 'with', 'us', 'as', 'we', 'address', 'this', 'and', 'restore', 'your', 'personalized', 'lists', '.', 'Job', 'openings', 'fell', 'sharply', 'in', 'April', 'as', 'the', 'US', 'labor', 'market', 'continues', 'to', 'cool', '.', 'Stocks', '(', '^DJI', ',', '^IXIC', ',', '^GSPC', ')', 'are', 'under', 'pressure', 'after', 'weak', 'JOLTS', 'data', 'pointed', 'to', 'signs', 'of', 'economic', 'cracks', ',', 'with', 'job', 'openings', 'falling', 'to', 'their', 'lowest', 'level', 'since', 'February', '2021', '.', 'The', 'GameStop', '(', 'GME', ')', 'rally', 'is', 'retreating', ',', 'as', 'meme', 'trade', 'influencer', \"'Roaring\", 'Kitty', \"'\", 'reportedly', 'faces', 'a', 'potential', 'ban', 'from', 'E-Trade', 'due', 'to', 'market', 'manipulation', 'concerns', '.', 'Investors', 'will', 'also', 'be', 'watching', 'for', 'the', 'latest', 'quarterly', 'earnings', 'from', 'Hewlett', 'Packard', 'Enterprises', '(', 'HPE', ')', 'and', 'CrowdStrike', '(', 'CRWD', ')', 'to', 'see', 'how', 'AI', 'is', 'impacting', 'those', 'businesses', '.', 'Yahoo', 'Finance', 'trending', 'tickers', 'include', 'Core', 'Scientific', 'Inc.', '(', 'CORZ', ')', ',', 'Viking', 'Therapeutics', '(', 'VKTX', ')', ',', 'and', 'Carnival', 'Corporation', '(', 'CCL', ')', '.', 'Key', 'guests', 'include:3:10', 'p.m', '.', 'ET', 'Michael', 'Kantrowitz', ',', 'Piper', 'Sandler', 'Chief', 'Investment', 'Strategist3:25', 'p.m', '.', 'ET', 'Rebecca', 'Babin', ',', 'CIBC', 'Private', 'Wealth', 'US', 'Senior', 'Energy', 'Trader3:45', 'p.m', '.', 'ET', 'Daron', 'Acemoglu', ',', 'MIT', 'Economics', 'Professor4:40', 'p.m', '.', 'ET', 'Mickey', 'Drexler', ',', 'Alex', 'Mill', 'Chairman', '&', 'Former', 'Gap', 'CEO', 'How', 'the', 'Fed', 'rate', 'decision', 'might', 'influence', 'your', 'savings', 'and', 'CD', 'interest', 'earnings', '.', 'Nvidia', 'is', 'suddenly', 'nipping', 'on', 'Apple', \"'s\", 'heels', ',', 'looking', 'to', 'become', 'the', 'second-most', 'valuable', 'US', 'company', '.', 'Microsoft', 'maintained', 'its', 'position', 'as', 'the', 'leading', 'global', 'company', 'by', 'market', 'cap', ',', 'rising', '6.6', '%', 'to', '$', '3.08', 'trillion', '.', 'The', 'benchmark', 'reverted', 'back', 'to', 'its', '2023', 'ways', 'in', 'May', 'with', 'six', 'large', 'tech', 'stocks', 'accounting', 'for', 'the', 'majority', 'of', 'its', 'gains', '.', 'Drama', 'surrounding', 'CEO', 'Elon', 'Musk', \"'s\", 'pay', 'package', 'is', 'among', 'the', 'issues', 'helping', 'Tesla', 'lag', 'its', \"'Magnificent\", '7', \"'\", 'peers', '.', 'In', 'an', 'update', 'posted', 'at', '9', 'p.m.', 'last', 'night', 'NYSE', 'said', 'it', 'would', '``', 'bust', \"''\", 'all', 'the', '``', 'erroneous', \"''\", 'trades', 'of', 'Berkshire', 'Hathaway', 'stock', 'at', 'or', 'below', '$', '603,718.30', 'a', 'share', '.', 'While', 'the', 'ultrawealthy', '1', '%', 'often', 'dominates', 'financial', 'headlines', ',', 'the', 'real', 'question', 'for', 'most', 'Americans', 'is', 'whether', 'their', 'net', 'worth', 'is', 'comparable', 'to', 'that', 'of', 'their', 'peers', '.', 'Understanding', 'what', 'it', 'takes', 'to', 'be', 'in', 'the', 'top', '10', '%', 'at', 'your', 'age', 'can', 'provide', 'valuable', 'insight', 'into', 'your', 'financial', 'standing', 'and', 'reveal', 'the', 'milestones', 'for', 'success', 'at', 'different', 'stages', 'of', 'life', '.', 'Do', \"n't\", 'Miss', ':', 'The', 'average', 'American', 'couple', 'has', 'saved', 'this', 'much', 'money', 'for', 'retirement', '—', 'How', 'do', 'you', 'compare', '?', 'Are', 'you', 'rich', '?', 'Here', '’', 's', 'what', 'Americans', 'think', 'you', '“', 'He', 'has', 'promised', 'to', 'put', 'me', 'through', 'hell', '.', '”', 'Purchasing', 'a', 'home', 'comes', 'with', 'significant', 'costs', 'beyond', 'just', 'the', 'mortgage', '.', 'Property', 'taxes', 'stand', 'out', 'as', 'a', 'perpetual', 'expense', ',', 'varying', 'widely', 'depending', 'on', 'location', '.', 'For', 'some', 'homeowners', ',', 'this', 'can', 'mean', 'an', 'annual', 'bill', 'ranging', 'from', '$', '1,000', 'to', '$', '9,000', '.', 'Here', 'are', 'the', '10', 'states', 'with', 'the', 'highest', 'median', 'property', 'tax', 'bills', ',', 'using', 'data', 'from', 'the', 'U.S.', 'Census', 'Bureau', 'and', 'reported', 'by', 'Kiplinger', '.', 'They', 'are', 'the', 'most', 'expensive', 'places', 'to', 'live', 'in', 'the', 'U.S.', 'Washington', 'State', 'Median', 'Property', 'Tax', ':', '$', '4,158', 'Washington', 'State', 'ranks', 'as', 'Two', 'household-name', 'stocks', 'could', 'soon', 'become', 'more', 'affordable', 'for', 'everyday', 'investors', '.', 'One', 'is', 'pretty', 'much', 'guaranteed', 'to', 'split', 'its', 'stock', 'very', 'soon', ',', 'and', 'the', 'move', 'would', 'also', 'fit', 'the', 'other', 'company', \"'s\", 'management', 'style', '.', 'CAVA', 'Group', ',', 'Inc.', ',', 'founded', 'in', '2006', ',', 'owns', 'and', 'operates', 'a', 'chain', 'of', 'Mediterranean', 'restaurants', '.', 'The', 'company', 'has', '8,100', 'employees', '.', 'For', 'decades', ',', 'the', '$', '1', 'million', 'retirement', 'savings', 'goal', 'has', 'been', 'considered', 'the', 'gold', 'standard', 'for', 'a', 'secure', 'and', 'comfortable', 'post-work', 'life', '.', 'However', ',', 'the', 'reality', 'for', 'most', 'Americans', 'is', 'quite', 'different', '.', 'According', 'to', 'the', 'Federal', 'Reserve', '’', 's', 'latest', 'Survey', 'of', 'Consumer', 'Finances', ',', 'only', 'about', '10', '%', 'of', 'American', 'retirees', 'have', 'managed', 'to', 'save', '$', '1', 'million', 'or', 'more', '.', 'This', 'leaves', 'a', 'significant', '90', '%', 'who', 'fall', 'short', 'of', 'this', 'milestone', '.', 'Do', \"n't\", 'Miss', ':', 'The', 'average', 'American', 'couple', 'has', 'saved', 'this', 'much', 'money', 'for', 'retirement', '—', 'How', 'do', 'you', 'Here', \"'s\", 'what', 'could', 'happen', 'next', 'at', 'Costco', '.', 'As', 'the', 'broader', 'stock', 'market', 'continues', 'rising', ',', 'finding', 'bargain', 'growth', 'stocks', 'is', 'becoming', 'harder', '.', 'Mexican', 'stocks', 'sank', 'and', 'the', 'peso', 'slid', 'on', 'concern', 'that', 'the', 'president-elect', 'could', 'seek', 'to', 'make', 'changes', 'to', 'the', 'constitution', 'or', 'pursue', 'other', 'policies', 'that', 'could', 'rattle', 'investors', '.', 'Sign', 'in', 'to', 'access', 'your', 'portfolio']\n"
          ]
        },
        {
          "output_type": "execute_result",
          "data": {
            "text/plain": [
              "0.0067920684814453125"
            ]
          },
          "metadata": {},
          "execution_count": 111
        }
      ]
    },
    {
      "cell_type": "markdown",
      "source": [
        "# **NLTK Stemming**"
      ],
      "metadata": {
        "id": "W-Wcms6RsHvv"
      }
    },
    {
      "cell_type": "code",
      "source": [
        "from nltk.stem import PorterStemmer\n",
        "import time\n",
        "# NLTK Stemming\n",
        "def stem_with_nltk(text):\n",
        "    stemmer = PorterStemmer()\n",
        "    stemmed_words = [stemmer.stem(w) for w in all_tokens]\n",
        "    return ' '.join(stemmed_words)\n",
        "\n",
        "start_time = time.time()\n",
        "stemmed_words = stem_with_nltk(all_tokens)\n",
        "nltk_time = time.time() - start_time\n",
        "\n",
        "print(\"Stemmed dataframe using NLTK:\")\n",
        "print(stemmed_words)\n",
        "print(f\"Stemming time using NLTK: {nltk_time:.6f} seconds\")"
      ],
      "metadata": {
        "colab": {
          "base_uri": "https://localhost:8080/"
        },
        "id": "VsLiGGjfsMlL",
        "outputId": "5fb1095d-1354-4b9d-ac83-40b3b4d157a7"
      },
      "execution_count": 112,
      "outputs": [
        {
          "output_type": "stream",
          "name": "stdout",
          "text": [
            "Stemmed dataframe using NLTK:\n",
            "we are experienc some temporari issu . the market data on thi page is current delay . pleas bear with us as we address thi and restor your person list . job open fell sharpli in april as the us labor market continu to cool . stock ( ^dji , ^ixic , ^gspc ) are under pressur after weak jolt data point to sign of econom crack , with job open fall to their lowest level sinc februari 2021 . the gamestop ( gme ) ralli is retreat , as meme trade influenc 'roar kitti ' reportedli face a potenti ban from e-trad due to market manipul concern . investor will also be watch for the latest quarterli earn from hewlett packard enterpris ( hpe ) and crowdstrik ( crwd ) to see how ai is impact those busi . yahoo financ trend ticker includ core scientif inc. ( corz ) , vike therapeut ( vktx ) , and carniv corpor ( ccl ) . key guest include:3:10 p.m . et michael kantrowitz , piper sandler chief invest strategist3:25 p.m . et rebecca babin , cibc privat wealth us senior energi trader3:45 p.m . et daron acemoglu , mit econom professor4:40 p.m . et mickey drexler , alex mill chairman & former gap ceo how the fed rate decis might influenc your save and cd interest earn . nvidia is suddenli nip on appl 's heel , look to becom the second-most valuabl us compani . microsoft maintain it posit as the lead global compani by market cap , rise 6.6 % to $ 3.08 trillion . the benchmark revert back to it 2023 way in may with six larg tech stock account for the major of it gain . drama surround ceo elon musk 's pay packag is among the issu help tesla lag it 'magnific 7 ' peer . in an updat post at 9 p.m. last night nyse said it would `` bust '' all the `` erron '' trade of berkshir hathaway stock at or below $ 603,718.30 a share . while the ultrawealthi 1 % often domin financi headlin , the real question for most american is whether their net worth is compar to that of their peer . understand what it take to be in the top 10 % at your age can provid valuabl insight into your financi stand and reveal the mileston for success at differ stage of life . do n't miss : the averag american coupl ha save thi much money for retir — how do you compar ? are you rich ? here ’ s what american think you “ he ha promis to put me through hell . ” purchas a home come with signific cost beyond just the mortgag . properti tax stand out as a perpetu expens , vari wide depend on locat . for some homeown , thi can mean an annual bill rang from $ 1,000 to $ 9,000 . here are the 10 state with the highest median properti tax bill , use data from the u.s. censu bureau and report by kipling . they are the most expens place to live in the u.s. washington state median properti tax : $ 4,158 washington state rank as two household-nam stock could soon becom more afford for everyday investor . one is pretti much guarante to split it stock veri soon , and the move would also fit the other compani 's manag style . cava group , inc. , found in 2006 , own and oper a chain of mediterranean restaur . the compani ha 8,100 employe . for decad , the $ 1 million retir save goal ha been consid the gold standard for a secur and comfort post-work life . howev , the realiti for most american is quit differ . accord to the feder reserv ’ s latest survey of consum financ , onli about 10 % of american retire have manag to save $ 1 million or more . thi leav a signific 90 % who fall short of thi mileston . do n't miss : the averag american coupl ha save thi much money for retir — how do you here 's what could happen next at costco . as the broader stock market continu rise , find bargain growth stock is becom harder . mexican stock sank and the peso slid on concern that the president-elect could seek to make chang to the constitut or pursu other polici that could rattl investor . sign in to access your portfolio\n",
            "Stemming time using NLTK: 0.036994 seconds\n"
          ]
        }
      ]
    },
    {
      "cell_type": "markdown",
      "source": [
        "# **WhatsApp Analysis**"
      ],
      "metadata": {
        "id": "L1e9jaiEy8ue"
      }
    },
    {
      "cell_type": "code",
      "source": [
        "with open('whatsapp.txt', 'r', encoding='utf-8') as file:\n",
        "    whatsapp_data = file.read()"
      ],
      "metadata": {
        "id": "gTlAncpj8bT_"
      },
      "execution_count": 113,
      "outputs": []
    },
    {
      "cell_type": "code",
      "source": [
        "\n",
        "import pandas as pd\n",
        "import re\n",
        "\n",
        "# Split raw data by newline\n",
        "lines = whatsapp_data.strip().split('\\n')\n",
        "\n",
        "# Function to extract name and message, and remove name from message\n",
        "def process_line(line):\n",
        "    pattern = r'~\\s*(.*?):\\s*(.*)'\n",
        "    match = re.search(pattern, line)\n",
        "    if match:\n",
        "        name = match.group(1).strip()\n",
        "        message = match.group(2).strip()\n",
        "        return name, message\n",
        "    else:\n",
        "        return None, line.strip()\n",
        "\n",
        "# Process each line\n",
        "data = []\n",
        "for line in lines:\n",
        "    name, message = process_line(line)\n",
        "    if name:\n",
        "        data.append({'name': name, 'message': message})\n",
        "\n"
      ],
      "metadata": {
        "id": "7wylX4xDMqyC"
      },
      "execution_count": 114,
      "outputs": []
    },
    {
      "cell_type": "code",
      "source": [
        "# Create DataFrame\n",
        "df = pd.DataFrame(data)\n",
        "\n",
        "# Display the DataFrame\n",
        "print(df)\n",
        "df.to_csv(\"/content/whatsapp_data.csv\")"
      ],
      "metadata": {
        "colab": {
          "base_uri": "https://localhost:8080/"
        },
        "id": "LC7FQNvjolDa",
        "outputId": "922c198d-5147-404d-c5e4-f0cd7e8572c2"
      },
      "execution_count": 115,
      "outputs": [
        {
          "output_type": "stream",
          "name": "stdout",
          "text": [
            "              name                                                message\n",
            "0        Bar moshe                     ‫‏הקבוצה נוצרה על ידי ~ Bar moshe‬\n",
            "1       Lil Jo’H 🎧  מישהו מכיר מורה פרטי למערכות הפעלה וגם ללמידת מכונה ?\n",
            "2       Lil Jo’H 🎧                  מישהו יודע איך להוריד Linux בMac M1 ?\n",
            "3            GabiL                                                לא צריך\n",
            "4            GabiL                    הטרמינל של מאק הוא שווה ערך ללינוקס\n",
            "..             ...                                                    ...\n",
            "742       Or Cohen           מישהו עשה את הקורס למידה חישובית ( לא סמינר)\n",
            "743  ליטל חוטיאקוב                          יש קבוצת ווצאפ של שפות תכנות?\n",
            "744      Bar Yaron                      יש בתיאור קישור מרוכז לכל הקבוצות\n",
            "745  ליטל חוטיאקוב                                                  תודה!\n",
            "746      Tom Cohen                                         ‏התמונה הושמטה\n",
            "\n",
            "[747 rows x 2 columns]\n"
          ]
        }
      ]
    },
    {
      "cell_type": "markdown",
      "source": [
        "# Basic Analysis - Before Processing"
      ],
      "metadata": {
        "id": "NRzu-YiEmrV4"
      }
    },
    {
      "cell_type": "code",
      "source": [
        "# Total number of messages\n",
        "total_num_of_data(df)\n",
        "# Average number of words per message\n",
        "avg_words_per_message(df, 'message')\n",
        "# 5 most frequent words\n",
        "most_frequent_words(df, 'message', 5)\n",
        "# Number of words that only appear once\n",
        "count_of_words_apear_once(df)"
      ],
      "metadata": {
        "colab": {
          "base_uri": "https://localhost:8080/"
        },
        "id": "_tJHh_NNnBeU",
        "outputId": "cf5acd99-3d7f-4bf2-d13f-467d44412169"
      },
      "execution_count": 116,
      "outputs": [
        {
          "output_type": "stream",
          "name": "stdout",
          "text": [
            "Total number of messages: 747\n",
            "0       7\n",
            "1      10\n",
            "2       8\n",
            "3       2\n",
            "4       7\n",
            "       ..\n",
            "742     9\n",
            "743     6\n",
            "744     6\n",
            "745     1\n",
            "746     2\n",
            "Name: word_count, Length: 747, dtype: int64\n",
            "Average number of words per message: 6.00\n",
            "5 most frequent words:\n",
            "לא: 83\n",
            "התמונה: 81\n",
            "הושמטה: 80\n",
            "זה: 74\n",
            "יש: 72\n",
            "Number of words that only appear once: 72\n"
          ]
        }
      ]
    },
    {
      "cell_type": "markdown",
      "source": [
        "# Cleaning Data"
      ],
      "metadata": {
        "id": "dd_7m1iwn-RR"
      }
    },
    {
      "cell_type": "code",
      "source": [
        "df = data_cleaning(df, 'message')\n",
        "df\n"
      ],
      "metadata": {
        "colab": {
          "base_uri": "https://localhost:8080/",
          "height": 697
        },
        "id": "aD_LQZ2LGPIb",
        "outputId": "eb121255-0bca-47b5-989e-9a9848a4c7ad"
      },
      "execution_count": 117,
      "outputs": [
        {
          "output_type": "stream",
          "name": "stdout",
          "text": [
            "Cleaned data preview:\n",
            "                    name                message  word_count\n",
            "0              Bar moshe              bar moshe           7\n",
            "2             Lil Jo’H 🎧           linux mac m1           8\n",
            "9                 Daniel                     17           1\n",
            "21                   Ido           972525757622           1\n",
            "30         Morgan Vazana                   vlab           9\n",
            "..                   ...                    ...         ...\n",
            "710                  Ido  django rest framework          12\n",
            "713             Or Cohen              c vs code           9\n",
            "728            Tom Cohen              2015 2020          17\n",
            "732             Stav H.N               onedrive           5\n",
            "735  דגנית ציטרין בר-און              tom cohen           9\n",
            "\n",
            "[114 rows x 3 columns]\n"
          ]
        },
        {
          "output_type": "execute_result",
          "data": {
            "text/plain": [
              "                    name                message  word_count\n",
              "0              Bar moshe              bar moshe           7\n",
              "2             Lil Jo’H 🎧           linux mac m1           8\n",
              "9                 Daniel                     17           1\n",
              "21                   Ido           972525757622           1\n",
              "30         Morgan Vazana                   vlab           9\n",
              "..                   ...                    ...         ...\n",
              "710                  Ido  django rest framework          12\n",
              "713             Or Cohen              c vs code           9\n",
              "728            Tom Cohen              2015 2020          17\n",
              "732             Stav H.N               onedrive           5\n",
              "735  דגנית ציטרין בר-און              tom cohen           9\n",
              "\n",
              "[114 rows x 3 columns]"
            ],
            "text/html": [
              "\n",
              "  <div id=\"df-869df6d0-3f8b-4dff-8b2a-a649d310d956\" class=\"colab-df-container\">\n",
              "    <div>\n",
              "<style scoped>\n",
              "    .dataframe tbody tr th:only-of-type {\n",
              "        vertical-align: middle;\n",
              "    }\n",
              "\n",
              "    .dataframe tbody tr th {\n",
              "        vertical-align: top;\n",
              "    }\n",
              "\n",
              "    .dataframe thead th {\n",
              "        text-align: right;\n",
              "    }\n",
              "</style>\n",
              "<table border=\"1\" class=\"dataframe\">\n",
              "  <thead>\n",
              "    <tr style=\"text-align: right;\">\n",
              "      <th></th>\n",
              "      <th>name</th>\n",
              "      <th>message</th>\n",
              "      <th>word_count</th>\n",
              "    </tr>\n",
              "  </thead>\n",
              "  <tbody>\n",
              "    <tr>\n",
              "      <th>0</th>\n",
              "      <td>Bar moshe</td>\n",
              "      <td>bar moshe</td>\n",
              "      <td>7</td>\n",
              "    </tr>\n",
              "    <tr>\n",
              "      <th>2</th>\n",
              "      <td>Lil Jo’H 🎧</td>\n",
              "      <td>linux mac m1</td>\n",
              "      <td>8</td>\n",
              "    </tr>\n",
              "    <tr>\n",
              "      <th>9</th>\n",
              "      <td>Daniel</td>\n",
              "      <td>17</td>\n",
              "      <td>1</td>\n",
              "    </tr>\n",
              "    <tr>\n",
              "      <th>21</th>\n",
              "      <td>Ido</td>\n",
              "      <td>972525757622</td>\n",
              "      <td>1</td>\n",
              "    </tr>\n",
              "    <tr>\n",
              "      <th>30</th>\n",
              "      <td>Morgan Vazana</td>\n",
              "      <td>vlab</td>\n",
              "      <td>9</td>\n",
              "    </tr>\n",
              "    <tr>\n",
              "      <th>...</th>\n",
              "      <td>...</td>\n",
              "      <td>...</td>\n",
              "      <td>...</td>\n",
              "    </tr>\n",
              "    <tr>\n",
              "      <th>710</th>\n",
              "      <td>Ido</td>\n",
              "      <td>django rest framework</td>\n",
              "      <td>12</td>\n",
              "    </tr>\n",
              "    <tr>\n",
              "      <th>713</th>\n",
              "      <td>Or Cohen</td>\n",
              "      <td>c vs code</td>\n",
              "      <td>9</td>\n",
              "    </tr>\n",
              "    <tr>\n",
              "      <th>728</th>\n",
              "      <td>Tom Cohen</td>\n",
              "      <td>2015 2020</td>\n",
              "      <td>17</td>\n",
              "    </tr>\n",
              "    <tr>\n",
              "      <th>732</th>\n",
              "      <td>Stav H.N</td>\n",
              "      <td>onedrive</td>\n",
              "      <td>5</td>\n",
              "    </tr>\n",
              "    <tr>\n",
              "      <th>735</th>\n",
              "      <td>דגנית ציטרין בר-און</td>\n",
              "      <td>tom cohen</td>\n",
              "      <td>9</td>\n",
              "    </tr>\n",
              "  </tbody>\n",
              "</table>\n",
              "<p>114 rows × 3 columns</p>\n",
              "</div>\n",
              "    <div class=\"colab-df-buttons\">\n",
              "\n",
              "  <div class=\"colab-df-container\">\n",
              "    <button class=\"colab-df-convert\" onclick=\"convertToInteractive('df-869df6d0-3f8b-4dff-8b2a-a649d310d956')\"\n",
              "            title=\"Convert this dataframe to an interactive table.\"\n",
              "            style=\"display:none;\">\n",
              "\n",
              "  <svg xmlns=\"http://www.w3.org/2000/svg\" height=\"24px\" viewBox=\"0 -960 960 960\">\n",
              "    <path d=\"M120-120v-720h720v720H120Zm60-500h600v-160H180v160Zm220 220h160v-160H400v160Zm0 220h160v-160H400v160ZM180-400h160v-160H180v160Zm440 0h160v-160H620v160ZM180-180h160v-160H180v160Zm440 0h160v-160H620v160Z\"/>\n",
              "  </svg>\n",
              "    </button>\n",
              "\n",
              "  <style>\n",
              "    .colab-df-container {\n",
              "      display:flex;\n",
              "      gap: 12px;\n",
              "    }\n",
              "\n",
              "    .colab-df-convert {\n",
              "      background-color: #E8F0FE;\n",
              "      border: none;\n",
              "      border-radius: 50%;\n",
              "      cursor: pointer;\n",
              "      display: none;\n",
              "      fill: #1967D2;\n",
              "      height: 32px;\n",
              "      padding: 0 0 0 0;\n",
              "      width: 32px;\n",
              "    }\n",
              "\n",
              "    .colab-df-convert:hover {\n",
              "      background-color: #E2EBFA;\n",
              "      box-shadow: 0px 1px 2px rgba(60, 64, 67, 0.3), 0px 1px 3px 1px rgba(60, 64, 67, 0.15);\n",
              "      fill: #174EA6;\n",
              "    }\n",
              "\n",
              "    .colab-df-buttons div {\n",
              "      margin-bottom: 4px;\n",
              "    }\n",
              "\n",
              "    [theme=dark] .colab-df-convert {\n",
              "      background-color: #3B4455;\n",
              "      fill: #D2E3FC;\n",
              "    }\n",
              "\n",
              "    [theme=dark] .colab-df-convert:hover {\n",
              "      background-color: #434B5C;\n",
              "      box-shadow: 0px 1px 3px 1px rgba(0, 0, 0, 0.15);\n",
              "      filter: drop-shadow(0px 1px 2px rgba(0, 0, 0, 0.3));\n",
              "      fill: #FFFFFF;\n",
              "    }\n",
              "  </style>\n",
              "\n",
              "    <script>\n",
              "      const buttonEl =\n",
              "        document.querySelector('#df-869df6d0-3f8b-4dff-8b2a-a649d310d956 button.colab-df-convert');\n",
              "      buttonEl.style.display =\n",
              "        google.colab.kernel.accessAllowed ? 'block' : 'none';\n",
              "\n",
              "      async function convertToInteractive(key) {\n",
              "        const element = document.querySelector('#df-869df6d0-3f8b-4dff-8b2a-a649d310d956');\n",
              "        const dataTable =\n",
              "          await google.colab.kernel.invokeFunction('convertToInteractive',\n",
              "                                                    [key], {});\n",
              "        if (!dataTable) return;\n",
              "\n",
              "        const docLinkHtml = 'Like what you see? Visit the ' +\n",
              "          '<a target=\"_blank\" href=https://colab.research.google.com/notebooks/data_table.ipynb>data table notebook</a>'\n",
              "          + ' to learn more about interactive tables.';\n",
              "        element.innerHTML = '';\n",
              "        dataTable['output_type'] = 'display_data';\n",
              "        await google.colab.output.renderOutput(dataTable, element);\n",
              "        const docLink = document.createElement('div');\n",
              "        docLink.innerHTML = docLinkHtml;\n",
              "        element.appendChild(docLink);\n",
              "      }\n",
              "    </script>\n",
              "  </div>\n",
              "\n",
              "\n",
              "<div id=\"df-ef4eaa5d-c74f-485b-bf39-e920062acc1b\">\n",
              "  <button class=\"colab-df-quickchart\" onclick=\"quickchart('df-ef4eaa5d-c74f-485b-bf39-e920062acc1b')\"\n",
              "            title=\"Suggest charts\"\n",
              "            style=\"display:none;\">\n",
              "\n",
              "<svg xmlns=\"http://www.w3.org/2000/svg\" height=\"24px\"viewBox=\"0 0 24 24\"\n",
              "     width=\"24px\">\n",
              "    <g>\n",
              "        <path d=\"M19 3H5c-1.1 0-2 .9-2 2v14c0 1.1.9 2 2 2h14c1.1 0 2-.9 2-2V5c0-1.1-.9-2-2-2zM9 17H7v-7h2v7zm4 0h-2V7h2v10zm4 0h-2v-4h2v4z\"/>\n",
              "    </g>\n",
              "</svg>\n",
              "  </button>\n",
              "\n",
              "<style>\n",
              "  .colab-df-quickchart {\n",
              "      --bg-color: #E8F0FE;\n",
              "      --fill-color: #1967D2;\n",
              "      --hover-bg-color: #E2EBFA;\n",
              "      --hover-fill-color: #174EA6;\n",
              "      --disabled-fill-color: #AAA;\n",
              "      --disabled-bg-color: #DDD;\n",
              "  }\n",
              "\n",
              "  [theme=dark] .colab-df-quickchart {\n",
              "      --bg-color: #3B4455;\n",
              "      --fill-color: #D2E3FC;\n",
              "      --hover-bg-color: #434B5C;\n",
              "      --hover-fill-color: #FFFFFF;\n",
              "      --disabled-bg-color: #3B4455;\n",
              "      --disabled-fill-color: #666;\n",
              "  }\n",
              "\n",
              "  .colab-df-quickchart {\n",
              "    background-color: var(--bg-color);\n",
              "    border: none;\n",
              "    border-radius: 50%;\n",
              "    cursor: pointer;\n",
              "    display: none;\n",
              "    fill: var(--fill-color);\n",
              "    height: 32px;\n",
              "    padding: 0;\n",
              "    width: 32px;\n",
              "  }\n",
              "\n",
              "  .colab-df-quickchart:hover {\n",
              "    background-color: var(--hover-bg-color);\n",
              "    box-shadow: 0 1px 2px rgba(60, 64, 67, 0.3), 0 1px 3px 1px rgba(60, 64, 67, 0.15);\n",
              "    fill: var(--button-hover-fill-color);\n",
              "  }\n",
              "\n",
              "  .colab-df-quickchart-complete:disabled,\n",
              "  .colab-df-quickchart-complete:disabled:hover {\n",
              "    background-color: var(--disabled-bg-color);\n",
              "    fill: var(--disabled-fill-color);\n",
              "    box-shadow: none;\n",
              "  }\n",
              "\n",
              "  .colab-df-spinner {\n",
              "    border: 2px solid var(--fill-color);\n",
              "    border-color: transparent;\n",
              "    border-bottom-color: var(--fill-color);\n",
              "    animation:\n",
              "      spin 1s steps(1) infinite;\n",
              "  }\n",
              "\n",
              "  @keyframes spin {\n",
              "    0% {\n",
              "      border-color: transparent;\n",
              "      border-bottom-color: var(--fill-color);\n",
              "      border-left-color: var(--fill-color);\n",
              "    }\n",
              "    20% {\n",
              "      border-color: transparent;\n",
              "      border-left-color: var(--fill-color);\n",
              "      border-top-color: var(--fill-color);\n",
              "    }\n",
              "    30% {\n",
              "      border-color: transparent;\n",
              "      border-left-color: var(--fill-color);\n",
              "      border-top-color: var(--fill-color);\n",
              "      border-right-color: var(--fill-color);\n",
              "    }\n",
              "    40% {\n",
              "      border-color: transparent;\n",
              "      border-right-color: var(--fill-color);\n",
              "      border-top-color: var(--fill-color);\n",
              "    }\n",
              "    60% {\n",
              "      border-color: transparent;\n",
              "      border-right-color: var(--fill-color);\n",
              "    }\n",
              "    80% {\n",
              "      border-color: transparent;\n",
              "      border-right-color: var(--fill-color);\n",
              "      border-bottom-color: var(--fill-color);\n",
              "    }\n",
              "    90% {\n",
              "      border-color: transparent;\n",
              "      border-bottom-color: var(--fill-color);\n",
              "    }\n",
              "  }\n",
              "</style>\n",
              "\n",
              "  <script>\n",
              "    async function quickchart(key) {\n",
              "      const quickchartButtonEl =\n",
              "        document.querySelector('#' + key + ' button');\n",
              "      quickchartButtonEl.disabled = true;  // To prevent multiple clicks.\n",
              "      quickchartButtonEl.classList.add('colab-df-spinner');\n",
              "      try {\n",
              "        const charts = await google.colab.kernel.invokeFunction(\n",
              "            'suggestCharts', [key], {});\n",
              "      } catch (error) {\n",
              "        console.error('Error during call to suggestCharts:', error);\n",
              "      }\n",
              "      quickchartButtonEl.classList.remove('colab-df-spinner');\n",
              "      quickchartButtonEl.classList.add('colab-df-quickchart-complete');\n",
              "    }\n",
              "    (() => {\n",
              "      let quickchartButtonEl =\n",
              "        document.querySelector('#df-ef4eaa5d-c74f-485b-bf39-e920062acc1b button');\n",
              "      quickchartButtonEl.style.display =\n",
              "        google.colab.kernel.accessAllowed ? 'block' : 'none';\n",
              "    })();\n",
              "  </script>\n",
              "</div>\n",
              "\n",
              "  <div id=\"id_80206b1e-0262-4f9c-bea8-b32b01668d5f\">\n",
              "    <style>\n",
              "      .colab-df-generate {\n",
              "        background-color: #E8F0FE;\n",
              "        border: none;\n",
              "        border-radius: 50%;\n",
              "        cursor: pointer;\n",
              "        display: none;\n",
              "        fill: #1967D2;\n",
              "        height: 32px;\n",
              "        padding: 0 0 0 0;\n",
              "        width: 32px;\n",
              "      }\n",
              "\n",
              "      .colab-df-generate:hover {\n",
              "        background-color: #E2EBFA;\n",
              "        box-shadow: 0px 1px 2px rgba(60, 64, 67, 0.3), 0px 1px 3px 1px rgba(60, 64, 67, 0.15);\n",
              "        fill: #174EA6;\n",
              "      }\n",
              "\n",
              "      [theme=dark] .colab-df-generate {\n",
              "        background-color: #3B4455;\n",
              "        fill: #D2E3FC;\n",
              "      }\n",
              "\n",
              "      [theme=dark] .colab-df-generate:hover {\n",
              "        background-color: #434B5C;\n",
              "        box-shadow: 0px 1px 3px 1px rgba(0, 0, 0, 0.15);\n",
              "        filter: drop-shadow(0px 1px 2px rgba(0, 0, 0, 0.3));\n",
              "        fill: #FFFFFF;\n",
              "      }\n",
              "    </style>\n",
              "    <button class=\"colab-df-generate\" onclick=\"generateWithVariable('df')\"\n",
              "            title=\"Generate code using this dataframe.\"\n",
              "            style=\"display:none;\">\n",
              "\n",
              "  <svg xmlns=\"http://www.w3.org/2000/svg\" height=\"24px\"viewBox=\"0 0 24 24\"\n",
              "       width=\"24px\">\n",
              "    <path d=\"M7,19H8.4L18.45,9,17,7.55,7,17.6ZM5,21V16.75L18.45,3.32a2,2,0,0,1,2.83,0l1.4,1.43a1.91,1.91,0,0,1,.58,1.4,1.91,1.91,0,0,1-.58,1.4L9.25,21ZM18.45,9,17,7.55Zm-12,3A5.31,5.31,0,0,0,4.9,8.1,5.31,5.31,0,0,0,1,6.5,5.31,5.31,0,0,0,4.9,4.9,5.31,5.31,0,0,0,6.5,1,5.31,5.31,0,0,0,8.1,4.9,5.31,5.31,0,0,0,12,6.5,5.46,5.46,0,0,0,6.5,12Z\"/>\n",
              "  </svg>\n",
              "    </button>\n",
              "    <script>\n",
              "      (() => {\n",
              "      const buttonEl =\n",
              "        document.querySelector('#id_80206b1e-0262-4f9c-bea8-b32b01668d5f button.colab-df-generate');\n",
              "      buttonEl.style.display =\n",
              "        google.colab.kernel.accessAllowed ? 'block' : 'none';\n",
              "\n",
              "      buttonEl.onclick = () => {\n",
              "        google.colab.notebook.generateWithVariable('df');\n",
              "      }\n",
              "      })();\n",
              "    </script>\n",
              "  </div>\n",
              "\n",
              "    </div>\n",
              "  </div>\n"
            ],
            "application/vnd.google.colaboratory.intrinsic+json": {
              "type": "dataframe",
              "variable_name": "df",
              "summary": "{\n  \"name\": \"df\",\n  \"rows\": 114,\n  \"fields\": [\n    {\n      \"column\": \"name\",\n      \"properties\": {\n        \"dtype\": \"category\",\n        \"num_unique_values\": 40,\n        \"samples\": [\n          \"Shani Korshov\",\n          \"Or Cohen\",\n          \"Ori Nissim\"\n        ],\n        \"semantic_type\": \"\",\n        \"description\": \"\"\n      }\n    },\n    {\n      \"column\": \"message\",\n      \"properties\": {\n        \"dtype\": \"string\",\n        \"num_unique_values\": 79,\n        \"samples\": [\n          \"t9 1600\",\n          \"bar moshe\",\n          \"dianagafekaacil\"\n        ],\n        \"semantic_type\": \"\",\n        \"description\": \"\"\n      }\n    },\n    {\n      \"column\": \"word_count\",\n      \"properties\": {\n        \"dtype\": \"number\",\n        \"std\": 5,\n        \"min\": 1,\n        \"max\": 28,\n        \"num_unique_values\": 22,\n        \"samples\": [\n          7,\n          13,\n          16\n        ],\n        \"semantic_type\": \"\",\n        \"description\": \"\"\n      }\n    }\n  ]\n}"
            }
          },
          "metadata": {},
          "execution_count": 117
        }
      ]
    },
    {
      "cell_type": "code",
      "source": [
        "len(df)"
      ],
      "metadata": {
        "colab": {
          "base_uri": "https://localhost:8080/"
        },
        "id": "4BsQytNrmUU2",
        "outputId": "ca39f0a5-2d55-48f2-a933-8ce4199cab70"
      },
      "execution_count": 118,
      "outputs": [
        {
          "output_type": "execute_result",
          "data": {
            "text/plain": [
              "114"
            ]
          },
          "metadata": {},
          "execution_count": 118
        }
      ]
    },
    {
      "cell_type": "code",
      "source": [
        "pd.set_option('display.max_colwidth', None)\n",
        "df\n",
        "df.to_csv(\"/content/whatsapp_data.csv\", index=False)"
      ],
      "metadata": {
        "id": "pQwW5WXwNLnc"
      },
      "execution_count": 119,
      "outputs": []
    },
    {
      "cell_type": "markdown",
      "source": [
        "# Basic Analysis - After Processing"
      ],
      "metadata": {
        "id": "Tt3UXu1QoHyv"
      }
    },
    {
      "cell_type": "code",
      "source": [
        "# Total number of messages\n",
        "total_num_of_data(df)\n",
        "# Average number of words per message\n",
        "avg_words_per_message(df, 'message')\n",
        "# 5 most frequent words\n",
        "most_frequent_words(df, 'message', 5)\n",
        "# Number of words that only appear once\n",
        "count_of_words_apear_once(df)"
      ],
      "metadata": {
        "colab": {
          "base_uri": "https://localhost:8080/"
        },
        "id": "HFym7kV1qzbZ",
        "outputId": "f238a35d-1e16-4e6b-ea1d-189aceb93a2d"
      },
      "execution_count": 120,
      "outputs": [
        {
          "output_type": "stream",
          "name": "stdout",
          "text": [
            "Total number of messages: 114\n",
            "0      2\n",
            "2      3\n",
            "9      1\n",
            "21     1\n",
            "30     1\n",
            "      ..\n",
            "710    3\n",
            "713    3\n",
            "728    2\n",
            "732    1\n",
            "735    2\n",
            "Name: word_count, Length: 114, dtype: int64\n",
            "Average number of words per message: 1.29\n",
            "5 most frequent words:\n",
            "c: 9\n",
            "3: 9\n",
            "2: 6\n",
            "pdf: 5\n",
            "20: 4\n",
            "Number of words that only appear once: 72\n"
          ]
        }
      ]
    },
    {
      "cell_type": "markdown",
      "source": [
        "# **whatapp tokenazition**"
      ],
      "metadata": {
        "id": "JpJRiD6MQhTM"
      }
    },
    {
      "cell_type": "code",
      "source": [
        "start_time = time.time()\n",
        "\n",
        "# Tokenize using NLTK\n",
        "df['nltk_tokens'] = df['message'].apply(word_tokenize)\n",
        "\n",
        "nltk_time = time.time() - start_time\n",
        "print(f\"NLTK tokenization time: {nltk_time} seconds\")\n",
        "print(df['nltk_tokens'].head(10))"
      ],
      "metadata": {
        "id": "bj3QqcvG-I7v",
        "outputId": "e0412606-19a8-4145-bcb1-c9ce622a6dd5",
        "colab": {
          "base_uri": "https://localhost:8080/"
        }
      },
      "execution_count": 121,
      "outputs": [
        {
          "output_type": "stream",
          "name": "stdout",
          "text": [
            "NLTK tokenization time: 0.036115407943725586 seconds\n",
            "0         [bar, moshe]\n",
            "2     [linux, mac, m1]\n",
            "9                 [17]\n",
            "21      [972525757622]\n",
            "30              [vlab]\n",
            "36         [811, 1417]\n",
            "38                [16]\n",
            "43                 [c]\n",
            "47               [cpp]\n",
            "64             [4, 20]\n",
            "Name: nltk_tokens, dtype: object\n"
          ]
        }
      ]
    },
    {
      "cell_type": "code",
      "source": [
        "import time\n",
        "# Using list comprehension to flatten the lists in the 'nltk_tokens' column\n",
        "all_tokens = [token for sublist in df['nltk_tokens'] for token in sublist]\n",
        "\n",
        "print(all_tokens)\n",
        "\n",
        "start_time = time.time()\n",
        "\n",
        "for w in all_tokens:\n",
        "   (w, \" : \", lemmatizer.lemmatize(w, pos='v'))\n",
        "time = time.time() - start_time\n",
        "time"
      ],
      "metadata": {
        "id": "VpB14_r7-s8C",
        "colab": {
          "base_uri": "https://localhost:8080/"
        },
        "outputId": "315839cf-b61c-4b58-8969-7af54b93be72"
      },
      "execution_count": 122,
      "outputs": [
        {
          "output_type": "stream",
          "name": "stdout",
          "text": [
            "['bar', 'moshe', 'linux', 'mac', 'm1', '17', '972525757622', 'vlab', '811', '1417', '16', 'c', 'cpp', '4', '20', '3', '40', '40', '20', '20', '1', '10', '16', 'attendance', '90', 'pipe', 'c', '1400', '1', '3', '2', 'stattergmailcom', '16', 'gif', 'dianagafekaacil', 'gif', '3', '3', '3', '90', '0502131926', '3', 'docx', 'queenb', '972546561465', 'gif', 'matplotlib', 'matplotlib', 'inline', '40', 't9', '1600', '307', '3', '40', '972549732210', '97237688699', 'submission', 'local', 'serverbased', 'database', 'vs', '2022', 'net', 'windows', 'form', '27', '27', 'entity', '27', '3', '7', '13', '2', 'mendelafekaacil', 'pdf', '58', '2022', '4', '3', '9', '2021', '10334', '2zip', '17', '17', '19', '20', '5', '3233', 'c', 'c', '2', '1', '972549732210', '8', '0', 'gadipafekaacil', 'c', 'c', '2', 'pdf', '4', 'yedionzipfile0168701357zip', '972549732210', '972528691500', '972526345354', 'mpiopenmp', 'heelee', 'yardenkaafekaacil', 'php', 'uipath', 'studio', '972526294832', '50', 'c', 'c', 'description', '037688688', 'helpdeskafekaacil', 'tom', 'cohen', 'heelee', 'heelee', '8200', '81', 'pdf', 'pdf', '2', 'paybox', '311223', 'pdf', '11', 'cpp', '2', '972546208698', 'django', 'rest', 'framework', 'c', 'vs', 'code', '2015', '2020', 'onedrive', 'tom', 'cohen']\n"
          ]
        },
        {
          "output_type": "execute_result",
          "data": {
            "text/plain": [
              "0.0013113021850585938"
            ]
          },
          "metadata": {},
          "execution_count": 122
        }
      ]
    },
    {
      "cell_type": "code",
      "source": [
        "from nltk.stem import PorterStemmer\n",
        "import time\n",
        "# NLTK Stemming\n",
        "def stem_with_nltk(text):\n",
        "    stemmer = PorterStemmer()\n",
        "    stemmed_words = [stemmer.stem(w) for w in all_tokens]\n",
        "    return ' '.join(stemmed_words)\n",
        "\n",
        "start_time = time.time()\n",
        "stemmed_words = stem_with_nltk(all_tokens)\n",
        "nltk_time = time.time() - start_time\n",
        "\n",
        "print(\"Stemmed dataframe using NLTK:\")\n",
        "print(stemmed_words)\n",
        "print(f\"Stemming time using NLTK: {nltk_time:.6f} seconds\")"
      ],
      "metadata": {
        "id": "KGZBeMA_-yp_",
        "colab": {
          "base_uri": "https://localhost:8080/"
        },
        "outputId": "aa5d5987-18bd-4045-ffad-b849595c6b9d"
      },
      "execution_count": 123,
      "outputs": [
        {
          "output_type": "stream",
          "name": "stdout",
          "text": [
            "Stemmed dataframe using NLTK:\n",
            "bar mosh linux mac m1 17 972525757622 vlab 811 1417 16 c cpp 4 20 3 40 40 20 20 1 10 16 attend 90 pipe c 1400 1 3 2 stattergmailcom 16 gif dianagafekaacil gif 3 3 3 90 0502131926 3 docx queenb 972546561465 gif matplotlib matplotlib inlin 40 t9 1600 307 3 40 972549732210 97237688699 submiss local serverbas databas vs 2022 net window form 27 27 entiti 27 3 7 13 2 mendelafekaacil pdf 58 2022 4 3 9 2021 10334 2zip 17 17 19 20 5 3233 c c 2 1 972549732210 8 0 gadipafekaacil c c 2 pdf 4 yedionzipfile0168701357zip 972549732210 972528691500 972526345354 mpiopenmp heele yardenkaafekaacil php uipath studio 972526294832 50 c c descript 037688688 helpdeskafekaacil tom cohen heele heele 8200 81 pdf pdf 2 paybox 311223 pdf 11 cpp 2 972546208698 django rest framework c vs code 2015 2020 onedr tom cohen\n",
            "Stemming time using NLTK: 0.003181 seconds\n"
          ]
        }
      ]
    }
  ]
}