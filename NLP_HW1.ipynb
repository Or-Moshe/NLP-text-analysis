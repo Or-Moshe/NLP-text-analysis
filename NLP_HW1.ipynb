{
  "nbformat": 4,
  "nbformat_minor": 0,
  "metadata": {
    "colab": {
      "provenance": []
    },
    "kernelspec": {
      "name": "python3",
      "display_name": "Python 3"
    },
    "language_info": {
      "name": "python"
    }
  },
  "cells": [
    {
      "cell_type": "code",
      "execution_count": 137,
      "metadata": {
        "id": "s5CD_mOXDWWM"
      },
      "outputs": [],
      "source": [
        "import numpy as np\n",
        "import pandas as pd\n",
        "import nltk\n",
        "import spacy\n",
        "import requests\n",
        "from bs4 import BeautifulSoup\n",
        "import time\n",
        "import re\n",
        "from collections import Counter\n",
        "import matplotlib.pyplot as plt\n",
        "from nltk.corpus import stopwords\n",
        "import string"
      ]
    },
    {
      "cell_type": "code",
      "source": [
        "# Download necessary NLTK data\n",
        "nltk.download('punkt')\n",
        "\n",
        "# Load the spaCy model\n",
        "nlp = spacy.load('en_core_web_sm')\n",
        "\n",
        "nltk.download('stopwords')\n",
        "stop_words = set(stopwords.words('english'))"
      ],
      "metadata": {
        "colab": {
          "base_uri": "https://localhost:8080/"
        },
        "id": "xXfslZzBrkeU",
        "outputId": "6b8ca6b2-35d4-4f94-cd88-55831dcd11b3"
      },
      "execution_count": 138,
      "outputs": [
        {
          "output_type": "stream",
          "name": "stderr",
          "text": [
            "[nltk_data] Downloading package punkt to /root/nltk_data...\n",
            "[nltk_data]   Package punkt is already up-to-date!\n",
            "[nltk_data] Downloading package stopwords to /root/nltk_data...\n",
            "[nltk_data]   Package stopwords is already up-to-date!\n"
          ]
        }
      ]
    },
    {
      "cell_type": "code",
      "source": [
        "data=pd.read_csv('/content/spam.csv', encoding='latin-1')\n",
        "# Drop unnecessary columns and rename the necessary ones\n",
        "df = data.drop(columns=['Unnamed: 2', 'Unnamed: 3', 'Unnamed: 4'])\n",
        "df.columns = ['label', 'text']\n",
        "df"
      ],
      "metadata": {
        "id": "d82QH60YEbSB",
        "colab": {
          "base_uri": "https://localhost:8080/",
          "height": 423
        },
        "outputId": "254ddc50-5024-479b-f049-2e6ecc0e0817"
      },
      "execution_count": 139,
      "outputs": [
        {
          "output_type": "execute_result",
          "data": {
            "text/plain": [
              "     label  \\\n",
              "0      ham   \n",
              "1      ham   \n",
              "2     spam   \n",
              "3      ham   \n",
              "4      ham   \n",
              "...    ...   \n",
              "5567  spam   \n",
              "5568   ham   \n",
              "5569   ham   \n",
              "5570   ham   \n",
              "5571   ham   \n",
              "\n",
              "                                                                                                                                                                   text  \n",
              "0                                                       Go until jurong point, crazy.. Available only in bugis n great world la e buffet... Cine there got amore wat...  \n",
              "1                                                                                                                                         Ok lar... Joking wif u oni...  \n",
              "2           Free entry in 2 a wkly comp to win FA Cup final tkts 21st May 2005. Text FA to 87121 to receive entry question(std txt rate)T&C's apply 08452810075over18's  \n",
              "3                                                                                                                     U dun say so early hor... U c already then say...  \n",
              "4                                                                                                         Nah I don't think he goes to usf, he lives around here though  \n",
              "...                                                                                                                                                                 ...  \n",
              "5567  This is the 2nd time we have tried 2 contact u. U have won the å£750 Pound prize. 2 claim is easy, call 087187272008 NOW1! Only 10p per minute. BT-national-rate.  \n",
              "5568                                                                                                                              Will Ì_ b going to esplanade fr home?  \n",
              "5569                                                                                                          Pity, * was in mood for that. So...any other suggestions?  \n",
              "5570                                      The guy did some bitching but I acted like i'd be interested in buying something else next week and he gave it to us for free  \n",
              "5571                                                                                                                                         Rofl. Its true to its name  \n",
              "\n",
              "[5572 rows x 2 columns]"
            ],
            "text/html": [
              "\n",
              "  <div id=\"df-15e1f32d-9260-40bb-9653-c77556880682\" class=\"colab-df-container\">\n",
              "    <div>\n",
              "<style scoped>\n",
              "    .dataframe tbody tr th:only-of-type {\n",
              "        vertical-align: middle;\n",
              "    }\n",
              "\n",
              "    .dataframe tbody tr th {\n",
              "        vertical-align: top;\n",
              "    }\n",
              "\n",
              "    .dataframe thead th {\n",
              "        text-align: right;\n",
              "    }\n",
              "</style>\n",
              "<table border=\"1\" class=\"dataframe\">\n",
              "  <thead>\n",
              "    <tr style=\"text-align: right;\">\n",
              "      <th></th>\n",
              "      <th>label</th>\n",
              "      <th>text</th>\n",
              "    </tr>\n",
              "  </thead>\n",
              "  <tbody>\n",
              "    <tr>\n",
              "      <th>0</th>\n",
              "      <td>ham</td>\n",
              "      <td>Go until jurong point, crazy.. Available only in bugis n great world la e buffet... Cine there got amore wat...</td>\n",
              "    </tr>\n",
              "    <tr>\n",
              "      <th>1</th>\n",
              "      <td>ham</td>\n",
              "      <td>Ok lar... Joking wif u oni...</td>\n",
              "    </tr>\n",
              "    <tr>\n",
              "      <th>2</th>\n",
              "      <td>spam</td>\n",
              "      <td>Free entry in 2 a wkly comp to win FA Cup final tkts 21st May 2005. Text FA to 87121 to receive entry question(std txt rate)T&amp;C's apply 08452810075over18's</td>\n",
              "    </tr>\n",
              "    <tr>\n",
              "      <th>3</th>\n",
              "      <td>ham</td>\n",
              "      <td>U dun say so early hor... U c already then say...</td>\n",
              "    </tr>\n",
              "    <tr>\n",
              "      <th>4</th>\n",
              "      <td>ham</td>\n",
              "      <td>Nah I don't think he goes to usf, he lives around here though</td>\n",
              "    </tr>\n",
              "    <tr>\n",
              "      <th>...</th>\n",
              "      <td>...</td>\n",
              "      <td>...</td>\n",
              "    </tr>\n",
              "    <tr>\n",
              "      <th>5567</th>\n",
              "      <td>spam</td>\n",
              "      <td>This is the 2nd time we have tried 2 contact u. U have won the å£750 Pound prize. 2 claim is easy, call 087187272008 NOW1! Only 10p per minute. BT-national-rate.</td>\n",
              "    </tr>\n",
              "    <tr>\n",
              "      <th>5568</th>\n",
              "      <td>ham</td>\n",
              "      <td>Will Ì_ b going to esplanade fr home?</td>\n",
              "    </tr>\n",
              "    <tr>\n",
              "      <th>5569</th>\n",
              "      <td>ham</td>\n",
              "      <td>Pity, * was in mood for that. So...any other suggestions?</td>\n",
              "    </tr>\n",
              "    <tr>\n",
              "      <th>5570</th>\n",
              "      <td>ham</td>\n",
              "      <td>The guy did some bitching but I acted like i'd be interested in buying something else next week and he gave it to us for free</td>\n",
              "    </tr>\n",
              "    <tr>\n",
              "      <th>5571</th>\n",
              "      <td>ham</td>\n",
              "      <td>Rofl. Its true to its name</td>\n",
              "    </tr>\n",
              "  </tbody>\n",
              "</table>\n",
              "<p>5572 rows × 2 columns</p>\n",
              "</div>\n",
              "    <div class=\"colab-df-buttons\">\n",
              "\n",
              "  <div class=\"colab-df-container\">\n",
              "    <button class=\"colab-df-convert\" onclick=\"convertToInteractive('df-15e1f32d-9260-40bb-9653-c77556880682')\"\n",
              "            title=\"Convert this dataframe to an interactive table.\"\n",
              "            style=\"display:none;\">\n",
              "\n",
              "  <svg xmlns=\"http://www.w3.org/2000/svg\" height=\"24px\" viewBox=\"0 -960 960 960\">\n",
              "    <path d=\"M120-120v-720h720v720H120Zm60-500h600v-160H180v160Zm220 220h160v-160H400v160Zm0 220h160v-160H400v160ZM180-400h160v-160H180v160Zm440 0h160v-160H620v160ZM180-180h160v-160H180v160Zm440 0h160v-160H620v160Z\"/>\n",
              "  </svg>\n",
              "    </button>\n",
              "\n",
              "  <style>\n",
              "    .colab-df-container {\n",
              "      display:flex;\n",
              "      gap: 12px;\n",
              "    }\n",
              "\n",
              "    .colab-df-convert {\n",
              "      background-color: #E8F0FE;\n",
              "      border: none;\n",
              "      border-radius: 50%;\n",
              "      cursor: pointer;\n",
              "      display: none;\n",
              "      fill: #1967D2;\n",
              "      height: 32px;\n",
              "      padding: 0 0 0 0;\n",
              "      width: 32px;\n",
              "    }\n",
              "\n",
              "    .colab-df-convert:hover {\n",
              "      background-color: #E2EBFA;\n",
              "      box-shadow: 0px 1px 2px rgba(60, 64, 67, 0.3), 0px 1px 3px 1px rgba(60, 64, 67, 0.15);\n",
              "      fill: #174EA6;\n",
              "    }\n",
              "\n",
              "    .colab-df-buttons div {\n",
              "      margin-bottom: 4px;\n",
              "    }\n",
              "\n",
              "    [theme=dark] .colab-df-convert {\n",
              "      background-color: #3B4455;\n",
              "      fill: #D2E3FC;\n",
              "    }\n",
              "\n",
              "    [theme=dark] .colab-df-convert:hover {\n",
              "      background-color: #434B5C;\n",
              "      box-shadow: 0px 1px 3px 1px rgba(0, 0, 0, 0.15);\n",
              "      filter: drop-shadow(0px 1px 2px rgba(0, 0, 0, 0.3));\n",
              "      fill: #FFFFFF;\n",
              "    }\n",
              "  </style>\n",
              "\n",
              "    <script>\n",
              "      const buttonEl =\n",
              "        document.querySelector('#df-15e1f32d-9260-40bb-9653-c77556880682 button.colab-df-convert');\n",
              "      buttonEl.style.display =\n",
              "        google.colab.kernel.accessAllowed ? 'block' : 'none';\n",
              "\n",
              "      async function convertToInteractive(key) {\n",
              "        const element = document.querySelector('#df-15e1f32d-9260-40bb-9653-c77556880682');\n",
              "        const dataTable =\n",
              "          await google.colab.kernel.invokeFunction('convertToInteractive',\n",
              "                                                    [key], {});\n",
              "        if (!dataTable) return;\n",
              "\n",
              "        const docLinkHtml = 'Like what you see? Visit the ' +\n",
              "          '<a target=\"_blank\" href=https://colab.research.google.com/notebooks/data_table.ipynb>data table notebook</a>'\n",
              "          + ' to learn more about interactive tables.';\n",
              "        element.innerHTML = '';\n",
              "        dataTable['output_type'] = 'display_data';\n",
              "        await google.colab.output.renderOutput(dataTable, element);\n",
              "        const docLink = document.createElement('div');\n",
              "        docLink.innerHTML = docLinkHtml;\n",
              "        element.appendChild(docLink);\n",
              "      }\n",
              "    </script>\n",
              "  </div>\n",
              "\n",
              "\n",
              "<div id=\"df-7fd87162-a71b-420f-8c83-3d4e43af74b7\">\n",
              "  <button class=\"colab-df-quickchart\" onclick=\"quickchart('df-7fd87162-a71b-420f-8c83-3d4e43af74b7')\"\n",
              "            title=\"Suggest charts\"\n",
              "            style=\"display:none;\">\n",
              "\n",
              "<svg xmlns=\"http://www.w3.org/2000/svg\" height=\"24px\"viewBox=\"0 0 24 24\"\n",
              "     width=\"24px\">\n",
              "    <g>\n",
              "        <path d=\"M19 3H5c-1.1 0-2 .9-2 2v14c0 1.1.9 2 2 2h14c1.1 0 2-.9 2-2V5c0-1.1-.9-2-2-2zM9 17H7v-7h2v7zm4 0h-2V7h2v10zm4 0h-2v-4h2v4z\"/>\n",
              "    </g>\n",
              "</svg>\n",
              "  </button>\n",
              "\n",
              "<style>\n",
              "  .colab-df-quickchart {\n",
              "      --bg-color: #E8F0FE;\n",
              "      --fill-color: #1967D2;\n",
              "      --hover-bg-color: #E2EBFA;\n",
              "      --hover-fill-color: #174EA6;\n",
              "      --disabled-fill-color: #AAA;\n",
              "      --disabled-bg-color: #DDD;\n",
              "  }\n",
              "\n",
              "  [theme=dark] .colab-df-quickchart {\n",
              "      --bg-color: #3B4455;\n",
              "      --fill-color: #D2E3FC;\n",
              "      --hover-bg-color: #434B5C;\n",
              "      --hover-fill-color: #FFFFFF;\n",
              "      --disabled-bg-color: #3B4455;\n",
              "      --disabled-fill-color: #666;\n",
              "  }\n",
              "\n",
              "  .colab-df-quickchart {\n",
              "    background-color: var(--bg-color);\n",
              "    border: none;\n",
              "    border-radius: 50%;\n",
              "    cursor: pointer;\n",
              "    display: none;\n",
              "    fill: var(--fill-color);\n",
              "    height: 32px;\n",
              "    padding: 0;\n",
              "    width: 32px;\n",
              "  }\n",
              "\n",
              "  .colab-df-quickchart:hover {\n",
              "    background-color: var(--hover-bg-color);\n",
              "    box-shadow: 0 1px 2px rgba(60, 64, 67, 0.3), 0 1px 3px 1px rgba(60, 64, 67, 0.15);\n",
              "    fill: var(--button-hover-fill-color);\n",
              "  }\n",
              "\n",
              "  .colab-df-quickchart-complete:disabled,\n",
              "  .colab-df-quickchart-complete:disabled:hover {\n",
              "    background-color: var(--disabled-bg-color);\n",
              "    fill: var(--disabled-fill-color);\n",
              "    box-shadow: none;\n",
              "  }\n",
              "\n",
              "  .colab-df-spinner {\n",
              "    border: 2px solid var(--fill-color);\n",
              "    border-color: transparent;\n",
              "    border-bottom-color: var(--fill-color);\n",
              "    animation:\n",
              "      spin 1s steps(1) infinite;\n",
              "  }\n",
              "\n",
              "  @keyframes spin {\n",
              "    0% {\n",
              "      border-color: transparent;\n",
              "      border-bottom-color: var(--fill-color);\n",
              "      border-left-color: var(--fill-color);\n",
              "    }\n",
              "    20% {\n",
              "      border-color: transparent;\n",
              "      border-left-color: var(--fill-color);\n",
              "      border-top-color: var(--fill-color);\n",
              "    }\n",
              "    30% {\n",
              "      border-color: transparent;\n",
              "      border-left-color: var(--fill-color);\n",
              "      border-top-color: var(--fill-color);\n",
              "      border-right-color: var(--fill-color);\n",
              "    }\n",
              "    40% {\n",
              "      border-color: transparent;\n",
              "      border-right-color: var(--fill-color);\n",
              "      border-top-color: var(--fill-color);\n",
              "    }\n",
              "    60% {\n",
              "      border-color: transparent;\n",
              "      border-right-color: var(--fill-color);\n",
              "    }\n",
              "    80% {\n",
              "      border-color: transparent;\n",
              "      border-right-color: var(--fill-color);\n",
              "      border-bottom-color: var(--fill-color);\n",
              "    }\n",
              "    90% {\n",
              "      border-color: transparent;\n",
              "      border-bottom-color: var(--fill-color);\n",
              "    }\n",
              "  }\n",
              "</style>\n",
              "\n",
              "  <script>\n",
              "    async function quickchart(key) {\n",
              "      const quickchartButtonEl =\n",
              "        document.querySelector('#' + key + ' button');\n",
              "      quickchartButtonEl.disabled = true;  // To prevent multiple clicks.\n",
              "      quickchartButtonEl.classList.add('colab-df-spinner');\n",
              "      try {\n",
              "        const charts = await google.colab.kernel.invokeFunction(\n",
              "            'suggestCharts', [key], {});\n",
              "      } catch (error) {\n",
              "        console.error('Error during call to suggestCharts:', error);\n",
              "      }\n",
              "      quickchartButtonEl.classList.remove('colab-df-spinner');\n",
              "      quickchartButtonEl.classList.add('colab-df-quickchart-complete');\n",
              "    }\n",
              "    (() => {\n",
              "      let quickchartButtonEl =\n",
              "        document.querySelector('#df-7fd87162-a71b-420f-8c83-3d4e43af74b7 button');\n",
              "      quickchartButtonEl.style.display =\n",
              "        google.colab.kernel.accessAllowed ? 'block' : 'none';\n",
              "    })();\n",
              "  </script>\n",
              "</div>\n",
              "\n",
              "  <div id=\"id_abe19148-b705-4a1a-b9b7-5dc164f87b54\">\n",
              "    <style>\n",
              "      .colab-df-generate {\n",
              "        background-color: #E8F0FE;\n",
              "        border: none;\n",
              "        border-radius: 50%;\n",
              "        cursor: pointer;\n",
              "        display: none;\n",
              "        fill: #1967D2;\n",
              "        height: 32px;\n",
              "        padding: 0 0 0 0;\n",
              "        width: 32px;\n",
              "      }\n",
              "\n",
              "      .colab-df-generate:hover {\n",
              "        background-color: #E2EBFA;\n",
              "        box-shadow: 0px 1px 2px rgba(60, 64, 67, 0.3), 0px 1px 3px 1px rgba(60, 64, 67, 0.15);\n",
              "        fill: #174EA6;\n",
              "      }\n",
              "\n",
              "      [theme=dark] .colab-df-generate {\n",
              "        background-color: #3B4455;\n",
              "        fill: #D2E3FC;\n",
              "      }\n",
              "\n",
              "      [theme=dark] .colab-df-generate:hover {\n",
              "        background-color: #434B5C;\n",
              "        box-shadow: 0px 1px 3px 1px rgba(0, 0, 0, 0.15);\n",
              "        filter: drop-shadow(0px 1px 2px rgba(0, 0, 0, 0.3));\n",
              "        fill: #FFFFFF;\n",
              "      }\n",
              "    </style>\n",
              "    <button class=\"colab-df-generate\" onclick=\"generateWithVariable('df')\"\n",
              "            title=\"Generate code using this dataframe.\"\n",
              "            style=\"display:none;\">\n",
              "\n",
              "  <svg xmlns=\"http://www.w3.org/2000/svg\" height=\"24px\"viewBox=\"0 0 24 24\"\n",
              "       width=\"24px\">\n",
              "    <path d=\"M7,19H8.4L18.45,9,17,7.55,7,17.6ZM5,21V16.75L18.45,3.32a2,2,0,0,1,2.83,0l1.4,1.43a1.91,1.91,0,0,1,.58,1.4,1.91,1.91,0,0,1-.58,1.4L9.25,21ZM18.45,9,17,7.55Zm-12,3A5.31,5.31,0,0,0,4.9,8.1,5.31,5.31,0,0,0,1,6.5,5.31,5.31,0,0,0,4.9,4.9,5.31,5.31,0,0,0,6.5,1,5.31,5.31,0,0,0,8.1,4.9,5.31,5.31,0,0,0,12,6.5,5.46,5.46,0,0,0,6.5,12Z\"/>\n",
              "  </svg>\n",
              "    </button>\n",
              "    <script>\n",
              "      (() => {\n",
              "      const buttonEl =\n",
              "        document.querySelector('#id_abe19148-b705-4a1a-b9b7-5dc164f87b54 button.colab-df-generate');\n",
              "      buttonEl.style.display =\n",
              "        google.colab.kernel.accessAllowed ? 'block' : 'none';\n",
              "\n",
              "      buttonEl.onclick = () => {\n",
              "        google.colab.notebook.generateWithVariable('df');\n",
              "      }\n",
              "      })();\n",
              "    </script>\n",
              "  </div>\n",
              "\n",
              "    </div>\n",
              "  </div>\n"
            ],
            "application/vnd.google.colaboratory.intrinsic+json": {
              "type": "dataframe",
              "variable_name": "df",
              "summary": "{\n  \"name\": \"df\",\n  \"rows\": 5572,\n  \"fields\": [\n    {\n      \"column\": \"label\",\n      \"properties\": {\n        \"dtype\": \"category\",\n        \"num_unique_values\": 2,\n        \"samples\": [\n          \"spam\",\n          \"ham\"\n        ],\n        \"semantic_type\": \"\",\n        \"description\": \"\"\n      }\n    },\n    {\n      \"column\": \"text\",\n      \"properties\": {\n        \"dtype\": \"string\",\n        \"num_unique_values\": 5169,\n        \"samples\": [\n          \"Did u download the fring app?\",\n          \"Pass dis to all ur contacts n see wat u get! Red;i'm in luv wid u. Blue;u put a smile on my face. Purple;u r realy hot. Pink;u r so swt. Orange;i thnk i lyk u. Green;i realy wana go out wid u. Yelow;i wnt u bck. Black;i'm jealous of u. Brown;i miss you Nw plz giv me one color\"\n        ],\n        \"semantic_type\": \"\",\n        \"description\": \"\"\n      }\n    }\n  ]\n}"
            }
          },
          "metadata": {},
          "execution_count": 139
        }
      ]
    },
    {
      "cell_type": "code",
      "source": [
        "\n",
        "def most_frequent_words(df, all_words, amount):\n",
        "\n",
        "  # Remove punctuation and split into words\n",
        "  words = re.findall(r'\\b\\w+\\b', all_words)\n",
        "\n",
        "  # Get the 5 most common words\n",
        "  most_common_words = Counter(words).most_common(5)\n",
        "  print(\"5 most frequent words:\")\n",
        "  for word, freq in most_common_words:\n",
        "      print(f\"{word}: {freq}\")\n",
        "\n",
        "def count_of_words_apear_once(df, all_words):\n",
        "\n",
        "  # Combine all text into a single string\n",
        "  words = re.findall(r'\\b\\w+\\b', all_words)\n",
        "  # Count word frequencies\n",
        "  word_freq = Counter(words)\n",
        "\n",
        "  # Count words that appear only once\n",
        "  unique_words = sum(1 for word, freq in word_freq.items() if freq == 1)\n",
        "  print(f\"Number of words that only appear once: {unique_words}\")\n",
        "\n",
        "def avg_words_per_message(df, column):\n",
        "  df['word_count'] = df[column].apply(lambda x: len(x.split()))\n",
        "  average_words = df['word_count'].mean()\n",
        "  print(f\"Average number of words per message: {average_words:.2f}\")\n",
        "\n",
        "def total_num_of_data(df):\n",
        "  total_messages = len(df)\n",
        "  print(f\"Total number of messages: {total_messages}\")\n",
        "\n",
        "  # Function to print word statistics\n",
        "def print_word_statistics(text):\n",
        "    str = \" \".join(text)\n",
        "    words = word_tokenize(str)\n",
        "    total_words = len(words)\n",
        "    unique_words = len(set(words))\n",
        "    word_freq = Counter(words)\n",
        "    most_common_words = word_freq.most_common(10)\n",
        "\n",
        "    print(f\"Total words: {total_words}\")\n",
        "    print(f\"Unique words: {unique_words}\")"
      ],
      "metadata": {
        "id": "8UrdsG0fpAcH"
      },
      "execution_count": 158,
      "outputs": []
    },
    {
      "cell_type": "markdown",
      "source": [
        "# **Basic Analysis - Before Proccessing**"
      ],
      "metadata": {
        "id": "Dov1qlOKgrjB"
      }
    },
    {
      "cell_type": "code",
      "source": [
        "num_spam = len(df[df['label'] == 'spam'])\n",
        "num_ham = len(df[df['label'] == 'ham'])\n",
        "print(f\"Number of spam messages: {num_spam}\")\n",
        "print(f\"Number of ham messages: {num_ham}\")"
      ],
      "metadata": {
        "colab": {
          "base_uri": "https://localhost:8080/"
        },
        "id": "pO7DNBqAq9hB",
        "outputId": "af5080d8-4e53-4820-a293-e386f369831e"
      },
      "execution_count": 141,
      "outputs": [
        {
          "output_type": "stream",
          "name": "stdout",
          "text": [
            "Number of spam messages: 747\n",
            "Number of ham messages: 4825\n"
          ]
        }
      ]
    },
    {
      "cell_type": "code",
      "source": [
        "df.label.value_counts().plot(kind='pie', figsize=(3, 3))\n",
        "plt.title('Distribution of Labels')\n",
        "plt.ylabel('')  # This removes the y-label which is not meaningful in a pie chart\n",
        "plt.show()"
      ],
      "metadata": {
        "id": "XzkVDXtM0q0h",
        "colab": {
          "base_uri": "https://localhost:8080/",
          "height": 290
        },
        "outputId": "53f67f6d-01c3-4713-fa31-4ba10eb91b56"
      },
      "execution_count": 142,
      "outputs": [
        {
          "output_type": "display_data",
          "data": {
            "text/plain": [
              "<Figure size 300x300 with 1 Axes>"
            ],
            "image/png": "[encoded data removed]"
          },
          "metadata": {}
        }
      ]
    },
    {
      "cell_type": "code",
      "source": [
        "# Combine all text into a single string\n",
        "all_words = ' '.join(df['text']).lower()\n",
        "\n",
        "print(\"---------Before Text Processing-------\")\n",
        "# Total number of messages\n",
        "total_num_of_data(df)\n",
        "\n",
        "print_word_statistics(df['text'])\n",
        "\n",
        "# Average number of words per message\n",
        "avg_words_per_message(df, 'text')\n",
        "# 5 most frequent words\n",
        "most_frequent_words(df, all_words, 5)\n",
        "# Number of words that only appear once\n",
        "count_of_words_apear_once(df, all_words)\n"
      ],
      "metadata": {
        "colab": {
          "base_uri": "https://localhost:8080/"
        },
        "id": "pbscuT5IrZLb",
        "outputId": "29458e84-c31c-44a0-838e-14801dc8fc9f"
      },
      "execution_count": 143,
      "outputs": [
        {
          "output_type": "stream",
          "name": "stdout",
          "text": [
            "---------Before Text Processing-------\n",
            "Total number of messages: 5572\n",
            "Total words: 104164\n",
            "Unique words: 11528\n",
            "Average number of words per message: 15.49\n",
            "5 most frequent words:\n",
            "i: 3001\n",
            "to: 2242\n",
            "you: 2240\n",
            "a: 1433\n",
            "the: 1328\n",
            "Number of words that only appear once: 4376\n"
          ]
        }
      ]
    },
    {
      "cell_type": "markdown",
      "source": [
        "# **Text Processing**"
      ],
      "metadata": {
        "id": "l4Y1ZbNTxsc7"
      }
    },
    {
      "cell_type": "markdown",
      "source": [
        "# Cleaning The Data"
      ],
      "metadata": {
        "id": "k_rYDIKI8WVN"
      }
    },
    {
      "cell_type": "code",
      "source": [
        "def data_cleaning(df, column):\n",
        "  # Handle missing values\n",
        "  df = df.dropna()  # Drop rows with any missing values\n",
        "\n",
        "  # Convert text to lowercase\n",
        "  df[column] = df[column].str.lower()\n",
        "\n",
        "  # Remove punctuation\n",
        "  df[column] = df[column].apply(lambda x: x.translate(str.maketrans('', '', string.punctuation)))\n",
        "\n",
        "  # Remove special characters\n",
        "  df[column] = df[column].apply(lambda x: re.sub(r'[^a-zA-Zא-ת0-9\\s]', '', x))\n",
        "\n",
        "  # Step 6: Remove stop words\n",
        "  df[column] = df[column].apply(lambda x: ' '.join(word for word in x.split() if word not in stop_words))\n",
        "\n",
        "  # Use the sub() method to replace URLs with the specified replacement text\n",
        "  df[column] =df[column].apply(lambda x : re.sub(r'https\\S*', '', x))\n",
        "\n",
        "  # Replace empty strings with NaN\n",
        "  df[column] = df[column].replace('', pd.NA)\n",
        "\n",
        "  # Drop rows with NaN values in the specified column\n",
        "  df = df.dropna(subset=[column])\n",
        "  # Display the first few rows of the cleaned DataFrame\n",
        "  print(\"Cleaned data preview:\")\n",
        "  print(df)\n",
        "  return df"
      ],
      "metadata": {
        "id": "WyyOzwaG8rT0"
      },
      "execution_count": 144,
      "outputs": []
    },
    {
      "cell_type": "code",
      "source": [
        "df = data_cleaning(df , 'text')"
      ],
      "metadata": {
        "colab": {
          "base_uri": "https://localhost:8080/"
        },
        "id": "k78Z4F0qvT21",
        "outputId": "6fd14cfd-3f7c-4eb8-db54-3fab9f02660a"
      },
      "execution_count": 145,
      "outputs": [
        {
          "output_type": "stream",
          "name": "stdout",
          "text": [
            "Cleaned data preview:\n",
            "     label  \\\n",
            "0      ham   \n",
            "1      ham   \n",
            "2     spam   \n",
            "3      ham   \n",
            "4      ham   \n",
            "...    ...   \n",
            "5567  spam   \n",
            "5568   ham   \n",
            "5569   ham   \n",
            "5570   ham   \n",
            "5571   ham   \n",
            "\n",
            "                                                                                                                                         text  \\\n",
            "0                                                          go jurong point crazy available bugis n great world la e buffet cine got amore wat   \n",
            "1                                                                                                                     ok lar joking wif u oni   \n",
            "2     free entry 2 wkly comp win fa cup final tkts 21st may 2005 text fa 87121 receive entry questionstd txt ratetcs apply 08452810075over18s   \n",
            "3                                                                                                         u dun say early hor u c already say   \n",
            "4                                                                                                 nah dont think goes usf lives around though   \n",
            "...                                                                                                                                       ...   \n",
            "5567                           2nd time tried 2 contact u u 750 pound prize 2 claim easy call 087187272008 now1 10p per minute btnationalrate   \n",
            "5568                                                                                                                b going esplanade fr home   \n",
            "5569                                                                                                              pity mood soany suggestions   \n",
            "5570                                                       guy bitching acted like id interested buying something else next week gave us free   \n",
            "5571                                                                                                                           rofl true name   \n",
            "\n",
            "      word_count  \n",
            "0             20  \n",
            "1              6  \n",
            "2             28  \n",
            "3             11  \n",
            "4             13  \n",
            "...          ...  \n",
            "5567          30  \n",
            "5568           8  \n",
            "5569          10  \n",
            "5570          26  \n",
            "5571           6  \n",
            "\n",
            "[5567 rows x 3 columns]\n"
          ]
        }
      ]
    },
    {
      "cell_type": "markdown",
      "source": [
        "# **Basic Analysis - After Proccessing**"
      ],
      "metadata": {
        "id": "8u-c4vFTrrhg"
      }
    },
    {
      "cell_type": "code",
      "source": [
        "# Combine all text into a single string\n",
        "all_words = ' '.join(df['text']).lower()\n",
        "\n",
        "print(\"---------After Text Processing-------\")\n",
        "# Total number of messages\n",
        "total_num_of_data(df)\n",
        "\n",
        "print_word_statistics(df['text'])\n",
        "\n",
        "# Average number of words per message\n",
        "avg_words_per_message(df, 'text')\n",
        "# 5 most frequent words\n",
        "most_frequent_words(df, all_words, 5)\n",
        "# Number of words that only appear once\n",
        "count_of_words_apear_once(df, all_words)"
      ],
      "metadata": {
        "colab": {
          "base_uri": "https://localhost:8080/"
        },
        "id": "aA6tX-5zroS-",
        "outputId": "3d30c9d3-b112-44c2-db04-a6a21ceb504d"
      },
      "execution_count": 146,
      "outputs": [
        {
          "output_type": "stream",
          "name": "stdout",
          "text": [
            "---------After Text Processing-------\n",
            "Total number of messages: 5567\n",
            "Total words: 52243\n",
            "Unique words: 9345\n",
            "Average number of words per message: 9.36\n",
            "5 most frequent words:\n",
            "u: 1119\n",
            "call: 576\n",
            "2: 478\n",
            "im: 471\n",
            "get: 386\n",
            "Number of words that only appear once: 5138\n"
          ]
        }
      ]
    },
    {
      "cell_type": "markdown",
      "source": [
        "# Nltk Tokenizer"
      ],
      "metadata": {
        "id": "qC9boLDd9YMy"
      }
    },
    {
      "cell_type": "code",
      "source": [
        "from nltk.tokenize import word_tokenize\n",
        "\n",
        "start_time = time.time()\n",
        "\n",
        "# Tokenize using NLTK\n",
        "df['nltk_tokens'] = df['text'].apply(word_tokenize)\n",
        "\n",
        "nltk_time = time.time() - start_time\n",
        "print(f\"NLTK tokenization time: {nltk_time} seconds\")\n",
        "print(df['nltk_tokens'].head(10))"
      ],
      "metadata": {
        "id": "xeY2Lt992au7",
        "colab": {
          "base_uri": "https://localhost:8080/"
        },
        "outputId": "822a7fcd-d6a8-41bc-b4a4-d7665f3029bd"
      },
      "execution_count": 147,
      "outputs": [
        {
          "output_type": "stream",
          "name": "stdout",
          "text": [
            "NLTK tokenization time: 0.58487868309021 seconds\n",
            "0                                                                [go, jurong, point, crazy, available, bugis, n, great, world, la, e, buffet, cine, got, amore, wat]\n",
            "1                                                                                                                                     [ok, lar, joking, wif, u, oni]\n",
            "2    [free, entry, 2, wkly, comp, win, fa, cup, final, tkts, 21st, may, 2005, text, fa, 87121, receive, entry, questionstd, txt, ratetcs, apply, 08452810075over18s]\n",
            "3                                                                                                                      [u, dun, say, early, hor, u, c, already, say]\n",
            "4                                                                                                               [nah, dont, think, goes, usf, lives, around, though]\n",
            "5                                                        [freemsg, hey, darling, 3, weeks, word, back, id, like, fun, still, tb, ok, xxx, std, chgs, send, 150, rcv]\n",
            "6                                                                                                            [even, brother, like, speak, treat, like, aids, patent]\n",
            "7                                 [per, request, melle, melle, oru, minnaminunginte, nurungu, vettam, set, callertune, callers, press, 9, copy, friends, callertune]\n",
            "8                        [winner, valued, network, customer, selected, receivea, 900, prize, reward, claim, call, 09061701461, claim, code, kl341, valid, 12, hours]\n",
            "9                                   [mobile, 11, months, u, r, entitled, update, latest, colour, mobiles, camera, free, call, mobile, update, co, free, 08002986030]\n",
            "Name: nltk_tokens, dtype: object\n"
          ]
        }
      ]
    },
    {
      "cell_type": "markdown",
      "source": [
        "# SpaCy Tokenizer\n"
      ],
      "metadata": {
        "id": "p5Bh2viW9i4R"
      }
    },
    {
      "cell_type": "code",
      "source": [
        "from spacy.tokenizer import Tokenizer\n",
        "from spacy.lang.en import English\n",
        "\n",
        "nlp = English()\n",
        "tokenizer = Tokenizer(nlp.vocab)\n",
        "start_time = time.time()\n",
        "tokens = tokenizer(all_words)\n",
        "print(list(tokens)[:30])\n",
        "\n",
        "spacy_time = time.time() - start_time\n",
        "print(f\"spaCy tokenization time: {spacy_time} seconds\")"
      ],
      "metadata": {
        "id": "ib0F1yAP2j2Z",
        "colab": {
          "base_uri": "https://localhost:8080/"
        },
        "outputId": "25084c5d-01dc-4933-834e-efc28c1e1a85"
      },
      "execution_count": 148,
      "outputs": [
        {
          "output_type": "stream",
          "name": "stdout",
          "text": [
            "[go, jurong, point, crazy, available, bugis, n, great, world, la, e, buffet, cine, got, amore, wat, ok, lar, joking, wif, u, oni, free, entry, 2, wkly, comp, win, fa, cup]\n",
            "spaCy tokenization time: 0.285876989364624 seconds\n"
          ]
        }
      ]
    },
    {
      "cell_type": "markdown",
      "source": [
        "# **NLTK and SpaCy Tokenization comparison**\n",
        "\n",
        " NLTK returns a list of strings, which represents a tokenized word, while spaCy returns a list of spaCy token objects.  spaCy's tokenization takes approximately half of the time of NLTK.      \n",
        " Language Support:\n",
        "\n",
        "NLTK:  offers support for tokenization in various languages, although it may require additional configurations or resources for some languages.\n",
        "\n",
        "spaCy: designed to support multiple languages out of the box, and its tokenization capabilities are optimized for efficiency."
      ],
      "metadata": {
        "id": "HmqBfsDSkjXL"
      }
    },
    {
      "cell_type": "markdown",
      "source": [
        "# Lemmatization with Nltk"
      ],
      "metadata": {
        "id": "TCCe1auVAAHM"
      }
    },
    {
      "cell_type": "code",
      "source": [
        "from nltk.stem import WordNetLemmatizer\n",
        "nltk.download('wordnet')\n",
        "lemmatizer = WordNetLemmatizer()\n",
        "x = all_words.split()\n",
        "start_time = time.time()\n",
        "\n",
        "for w in x:\n",
        "   (w, \" : \", lemmatizer.lemmatize(w, pos='n'))\n",
        "time = time.time() - start_time\n",
        "time"
      ],
      "metadata": {
        "id": "1YRLDqy7__cw",
        "colab": {
          "base_uri": "https://localhost:8080/"
        },
        "outputId": "8d22be38-3a3f-4c83-ca60-1703963e1947"
      },
      "execution_count": 149,
      "outputs": [
        {
          "output_type": "stream",
          "name": "stderr",
          "text": [
            "[nltk_data] Downloading package wordnet to /root/nltk_data...\n",
            "[nltk_data]   Package wordnet is already up-to-date!\n"
          ]
        },
        {
          "output_type": "execute_result",
          "data": {
            "text/plain": [
              "0.22417235374450684"
            ]
          },
          "metadata": {},
          "execution_count": 149
        }
      ]
    },
    {
      "cell_type": "code",
      "source": [
        "print('15 examples of tokens where the token text differs from its lemma')\n",
        "count = 0\n",
        "for w in x:\n",
        "    if w != lemmatizer.lemmatize(w, pos='n'):\n",
        "        print(w +':' + lemmatizer.lemmatize(w, pos='n'))\n",
        "        count += 1\n",
        "        if count >= 15:\n",
        "            break"
      ],
      "metadata": {
        "colab": {
          "base_uri": "https://localhost:8080/"
        },
        "id": "jxqW4__pV58l",
        "outputId": "ab8c8415-06d3-4b78-8494-5ab5f13b3850"
      },
      "execution_count": 150,
      "outputs": [
        {
          "output_type": "stream",
          "name": "stdout",
          "text": [
            "15 examples of tokens where the token text differs from its lemma\n",
            "goes:go\n",
            "lives:life\n",
            "weeks:week\n",
            "aids:aid\n",
            "callers:caller\n",
            "friends:friend\n",
            "hours:hour\n",
            "months:month\n",
            "mobiles:mobile\n",
            "chances:chance\n",
            "pounds:pound\n",
            "words:word\n",
            "times:time\n",
            "months:month\n",
            "sucks:suck\n"
          ]
        }
      ]
    },
    {
      "cell_type": "markdown",
      "source": [
        "# Lemmatization with SpaCy"
      ],
      "metadata": {
        "id": "JJqu60iUEF08"
      }
    },
    {
      "cell_type": "code",
      "source": [
        "import spacy\n",
        "import time\n",
        "# Load spaCy model\n",
        "nlp = spacy.load('en_core_web_sm')\n",
        "\n",
        "\n",
        "def lemmatize_with_spacy(text):\n",
        "    doc = nlp(text)\n",
        "    lemmatized_text = ' '.join([token.lemma_ for token in doc])\n",
        "    return lemmatized_text\n",
        "\n",
        "start_time = time.time()\n",
        "df['lemmatized_spacy'] = df['text'].apply(lemmatize_with_spacy)\n",
        "spacy_time = time.time() - start_time\n",
        "\n",
        "print(f\"Lemmatization time using spaCy: {spacy_time:.6f} seconds\")\n"
      ],
      "metadata": {
        "id": "6QaZPNnIG0mI",
        "colab": {
          "base_uri": "https://localhost:8080/"
        },
        "outputId": "46bda86b-0b6d-48dc-d89f-85c9ccaa1acb"
      },
      "execution_count": 151,
      "outputs": [
        {
          "output_type": "stream",
          "name": "stdout",
          "text": [
            "Lemmatization time using spaCy: 40.742224 seconds\n"
          ]
        }
      ]
    },
    {
      "cell_type": "code",
      "source": [
        "# Initialize counter\n",
        "count = 0\n",
        "print('15 examples of tokens where the token text differs from its lemma')\n",
        "\n",
        "# Print 15 examples of tokens where the token text differs from its lemma\n",
        "for token in nlp(all_words):\n",
        "    if token.text != token.lemma_:\n",
        "        print(f\"{token.text:>20} : {token.lemma_}\")\n",
        "        count += 1\n",
        "        if count >= 15:\n",
        "            break"
      ],
      "metadata": {
        "colab": {
          "base_uri": "https://localhost:8080/"
        },
        "id": "0g6bwA_jR4F6",
        "outputId": "8de28a96-05c1-4afe-aa8f-d97b124c563b"
      },
      "execution_count": 152,
      "outputs": [
        {
          "output_type": "stream",
          "name": "stdout",
          "text": [
            "15 examples of tokens where the token text differs from its lemma\n",
            "                 got : get\n",
            "              joking : joke\n",
            "                  nt : not\n",
            "                goes : go\n",
            "               lives : live\n",
            "               weeks : week\n",
            "             callers : caller\n",
            "             friends : friend\n",
            "              valued : value\n",
            "            selected : select\n",
            "               hours : hour\n",
            "              months : month\n",
            "            entitled : entitle\n",
            "              latest : late\n",
            "             mobiles : mobile\n"
          ]
        }
      ]
    },
    {
      "cell_type": "markdown",
      "source": [
        "# **NLTK and SpaCy Lemmatization comparison**\n",
        "\n",
        "The lemmatization process using spaCy took approximately 51.12 seconds, which is significantly slower compared to NLTK. This indicates that while spaCy offers robust NLP capabilities, it may require more processing time for lemmatization.\n",
        "\n",
        "**Output Format:** Both NLTK and spaCy produce lists of lemmatized words.\n",
        "However, the actual lemmas produced can differ slightly due to the\n",
        "underlying algorithms and linguistic models.\n",
        "\n",
        "**Processing Speed:** NLTK is significantly faster in lemmatization compared to spaCy for the given dataset."
      ],
      "metadata": {
        "id": "e6a7e-1XZAUP"
      }
    },
    {
      "cell_type": "markdown",
      "source": [
        "# Stemming with Nltk"
      ],
      "metadata": {
        "id": "EFqzsgA6KuSl"
      }
    },
    {
      "cell_type": "code",
      "source": [
        "import time\n",
        "from nltk.stem import PorterStemmer\n",
        "# NLTK Stemming\n",
        "def stem_with_nltk(text):\n",
        "    stemmer = PorterStemmer()\n",
        "    words = word_tokenize(text)\n",
        "    stemmed_words = [stemmer.stem(w) for w in words]\n",
        "    return ' '.join(stemmed_words)\n",
        "\n",
        "start_time = time.time()\n",
        "df['stemmed_nltk'] = df['text'].apply(stem_with_nltk)\n",
        "nltk_time = time.time() - start_time\n",
        "\n",
        "print(f\"Stemming time using NLTK: {nltk_time:.6f} seconds\")"
      ],
      "metadata": {
        "id": "qjxHaX_EK27K",
        "colab": {
          "base_uri": "https://localhost:8080/"
        },
        "outputId": "f06da1f9-ed66-4be0-8c34-08bebf627b15"
      },
      "execution_count": 153,
      "outputs": [
        {
          "output_type": "stream",
          "name": "stdout",
          "text": [
            "Stemming time using NLTK: 1.671538 seconds\n"
          ]
        }
      ]
    },
    {
      "cell_type": "markdown",
      "source": [
        "# Stemming with spaCy - SpaCy itself does not include a stemming function"
      ],
      "metadata": {
        "id": "W1gGOOz0M5_1"
      }
    },
    {
      "cell_type": "markdown",
      "source": [
        "# **Web Scraping**\n"
      ],
      "metadata": {
        "id": "BZsePLvzy0uQ"
      }
    },
    {
      "cell_type": "code",
      "source": [
        "\n",
        "url = \"https://finance.yahoo.com/?guccounter=1&guce_referrer=aHR0cHM6Ly93d3cuZ29vZ2xlLmNvbS8&guce_referrer_sig=AQAAACHRzA667AARXS__2v5de8mNTKOyFF7jW-cvNi0GO_xT-fg69PydO0Xa5iRXetlJA6ZBGR8ToumsedNBLhkHE7kaWLicN4ilmYfg8EShk1l-Suxct2famqmVFYAZhpPEHLJQLWiwAb9eATIGeIh_NniR12bb44fwIwKtuw-o1c1i\"  # Replace with the actual URL\n",
        "response = requests.get(url)\n",
        "\n",
        "if response.status_code == 200:\n",
        "    html_content = response.text\n",
        "    soup = BeautifulSoup(html_content, 'html.parser')\n",
        "\n",
        "    # Extracting post texts from a hypothetical social media profile\n",
        "    posts = soup.find_all('p')  # This will vary based on the actual HTML structure\n",
        "    for post in posts:\n",
        "        post.get_text()\n",
        "else:\n",
        "    print(f\"Failed to retrieve the page. Status code: {response.status_code}\")\n"
      ],
      "metadata": {
        "id": "Ot22e9e8H8R3"
      },
      "execution_count": 154,
      "outputs": []
    },
    {
      "cell_type": "code",
      "source": [
        "len(posts)\n",
        "df = pd.DataFrame(posts, columns=['posts'])\n",
        "print(df)"
      ],
      "metadata": {
        "colab": {
          "base_uri": "https://localhost:8080/"
        },
        "id": "cqW_DO9DuFTN",
        "outputId": "b5a1b496-592a-4654-ca82-fc29575397c4"
      },
      "execution_count": 155,
      "outputs": [
        {
          "output_type": "stream",
          "name": "stdout",
          "text": [
            "                                                                                                                                                                                                                                                                                                                                                                                                                                                                                                                                                                                                                                                                                                                                                                                                                                                                                                                                                                                                                                                                                                                                                                                                                                                                                                                                                                                                                                                                                                                                                                                                                                                                                                                                                                                                           posts\n",
            "0                                                                                                                                                                                                                                                                                                                                                                                                                                                                                                                                                                                                                                                                                                                                                                                                                                                                                                                                                                                                                                                                                                                                                                                                                                                                                                                                                                                                                                                                                                                                                                                                                                      We are experiencing some temporary issues. The market data on this page is currently delayed. Please bear with us as we address this and restore your personalized lists.\n",
            "1                                                                                                                                                                                                                                                                                                                                                                                                                                                                                                                                                                                                                                                                                                                                                                                                                                                                                                                                                                                                                                                                                                                                                                                                                                                                                                                                                                                                                                                                                                                                                                                                                                                                                                                      It's another sign that inflation is subsiding after surging in the first quarter of 2024.\n",
            "2                                                                                                                                                                                                                                                                                                                                                                                                                                                                                                                                                                                                                                                                                                                                                                                                              Shares of Broadcom (AVGO) are soaring in early trading. In addition to reporting better-than-expected Q2 results, the chip company announced a 10-for-1 stock split that will occur after the market close on July 12. Meanwhile, Tesla (TSLA) CEO Elon Musk posted on X that shareholder resolutions that would reinstate his $46 billion pay package and move the company’s incorporation to Texas are both “passing by wide margins.” Final results of the tallies are expected later today. Other trending tickers on Yahoo Finance include Nvidia (NVDA), Arm Holdings (ARM), and Adobe (ADBE).\\nTop guests today include:9:00 a.m. ET - Krishna Guha, Evercore ISI Vice Chairman9:10 a.m. ET - Garrett Nelson, CFRA Research Analyst9:35 a.m. ET - Brent Schutte, Northwestern Mutual Wealth Management Chief Investment Officer10:00 a.m. ET - Mohamed El-Erian, Allianz Chief Economic Advisor11:30 a.m. ET - Jere Doyle, BNY Mellon Wealth Management Tax and Estate Planning Strategist\n",
            "3                                                                                                                                                                                                                                                                                                                                                                                                                                                                                                                                                                                                                                                                                                                                                                                                                                                                                                                                                                                                                                                                                                                                                                                                                                                                                                                                                                                                                                                                                                                                                                                                                                                                                                   How the Fed's decision on interest rates affects savings products, various types of loans, and credit cards.\n",
            "4                                                                                                                                                                                                                                                                                                                                                                                                                                                                                                                                                                                                                                                                                                                                                                                                                                                                                                                                                                                                                                                                                                                                                                                                                                                                                                                                                                                                                                                                                                                                                                                                                                                                                                                                   Here's a look at where prices have changed the most over the past 12 months.\n",
            "5                                                                                                                                                                                                                                                                                                                                                                                                                                                                                                                                                                                                                                                                                                                                                                                                                                                                                                                                                                                                                                                                                                                                                                                                                                                                                                                                                                                                                                                                                                                                                                                                                                                                                                                               May's CPI showed inflation is cooling, raising investor hopes for Fed rate cuts.\n",
            "6                                                                                                                                                                                                                                                                                                                                                                                                                                                                                                                                                                                                                                                                                                                                                                                                                                                                                                                                                                                                                                                                                                                                                                                                                                                                                                                                                                                                                                                                                                                                                                                                                                                                                                                                    There's optimism that gas prices will continue to cool in the months ahead.\n",
            "7                                                                                                                                                                                                                                                                                                                                                                                                                                                                                                                                                                                                                                                                                                                                                                                                                                                                                                                                                                                                                                                                                                                                                                                                                                                                                                                                                                                                                                                                                                                                                                                                                                                                                                                                               Goods inflation is back to normal. Services are still a problem.\n",
            "8                                                                                                                                                                                                                                                                                                                                                                                                                                                                                                                                                                                                                                                                                                                                                                                                                                                                                                                                                                                                                                                                                                                                                                                                                                                                                                                                                                                                                                                                                                                                                                                                                                 Among stock-split stocks Nvidia, Walmart, Chipotle Mexican Grill, Lam Research, Sony Group, Amphenol, and Cintas, there's one phenomenal bargain that's hiding in plain sight.\n",
            "9                                                                                                                                                                                                                                                                                                                                                                                                                                                                                                                                                                                                                                                                                                                                                                                                                                                                                                                                                                                                                                                                                                                                                                                                                                                                                                                                                                                                                                                                                                                                                                                                                                                                                                                           Shares of the semiconductor and networking specialist are about to get much cheaper.\n",
            "10                                                                                                                                                                                                                                                                                                                                                                                                                                                                                                                                                                                                                                                                                                                                                                                                                                                                                                                                                                                                                                                                                                                                                                                                                                                                                                                                                                                                                                                                                                                                                                                                                                                                              Sam Dogen retired 12 years ago from his job at Credit Suisse. Now, with two children in school, he's looking to go back to work.\n",
            "11                                                                                                                                                                                                                                                                                                                                                                                                                                                                                                                                                                                                                                                                                                                                                                                                                                                                                                                                                                                                                                                                                                                                                                                                                                                                                                                                                                                                                                                                                                                                                         As analysts at JPMorgan predict a likely market correction this summer, income investors are preparing for the downside by investing in safe dividend stocks. These stocks have a history of good performance in all market conditions, including ...\n",
            "12                                                                                                                                                                                                                                                                                                                                                                                                                                                                                                                                                                                                                                                                                                                                                                                                                                                                                                                                                                                                                                                                                                                                                                                                                                                                                          Sandi, a resident of the quaint town of Ocean Shores, located two hours west of Olympia, recently sought financial advice on the widely-followed Dave Ramsey Show in a video titled \"I'm 70 And Only Have $900 To My Name.\" Her query revolved around a long-cherished dream to build a detached garage on her property. The house, which lacks a garage, is currently valued at approximately $190,000, with an outstanding mortgage of $136,000. Don't Miss: The average American couple has saved this much money\n",
            "13  The Federal Reserve wrapped up its latest Open Market Committee meeting yesterday and, as expected, held the federal funds rate steady at 5.25%-5.50%. The rate remains at its highest level since 2000 and is above the long-term average of 4.4%. This is the Fed's plan: keep rates high to push inflation lower. In the meantime, inflation has indeed been on a downward trek.  The latest CPI reading was 3.3%, down from 9.1% in July 2022, and the latest core PCE Price Index reading (the Fed's favorite metric) was 2.8%. Yet despite progress, both measures are still well above the Fed's target of 2.0%, and the slope of the downward trajectory has flattened lately.  Those are potential problems for a central bank that watched while inflation got out of hand in 2020-2021 and wants to rebuild its reputation as an effective inflation fighter. Here are our key takeaways from the Fed meeting, the follow-up press conference, and the release of the central bank's Summary Economic Projections, commonly referred to as \"the dot plot.\" 1) The median projection for federal funds rate cuts this year is now one, versus the prior forecast for three -- a big move in a hawkish direction. 2) The Fed appears to be trying to balance the positive impact of a restrictive policy on inflation versus the negative impact on low- and moderate-income earners. 3) The shelter component of the inflation readings remains the major problem, though the rate of shelter price increases has slowed.  We still think that two cuts is the right number for the Federal Reserve in 2024 and then two more in 2025.  We reckon the central bank wants to cut rates in order to save face after previous projections and also get one cut in prior to the presidential election.\n",
            "14                                                                                                                                                                                                                                                                                                                                                                                                                                                                                                                                                                                                                                                                                                                                                                                                                                                                                                                                                                                                                                                                                                                                                                                                                                                                                                                                                                                                                                                                                                                                                                                                                                                                         You may be eager to score a large paycheck from Social Security. But focusing on your savings could do more good for your retirement.\n",
            "15                                                                                                                                                                                                                                                                                                                                                                                                                                                                                                                                                                                                                                                                                                                                                                                                                                                                                                                                                                                                                                                                                                                                                                                                                                                                                                                                                                                                                                                                                                                                                                                                                                                                                                                                       Tepper is a \"bull in the China shop\" -- especially with one tech stock.\n",
            "16                                                                                                                                                                                                                                                                                                                                                                                                                                                                                                                                                                                                                                                                                                                                                                                                                                                                                                                                                                                                                                                                                                                                                                                                                                                                                                                                                                   A surge of trading in some short-dated GameStop options contracts on Wednesday suggested to some market participants that Keith Gill, the stock influencer known as Roaring Kitty, may have sold some of his recently-disclosed options position in the company.  Gill, who helped launch the meme-stock phenomenon in 2021, recently disclosed a sizeable GameStop stock and options position in a screen shot posted on Reddit on June 2.\n",
            "17                                                                                                                                                                                                                                                                                                                                                                                                                                                                                                                                                                                                                                                                                                                                                                                                                                                                                                                                                                                                                                                                                                                                                                                                                                                                                                                                                                                                                                                                                                                                                                                                                                                                 Today Tesla shareholders will finally answer a $56 billion question hanging over the company: Can CEO Elon Musk keep his record-breaking pay?\n",
            "18                                                                                                                                                                                                                                                                                                                                                                                                                                                                                                                                                                                                                                                                                                                                                                                                                                                                                                                                                                                                                                                                                                                                                                                                                                                                                                                                                                                                                                                                                                                                                                                                                                                                                                                                                                              Sign in to access your portfolio\n"
          ]
        }
      ]
    },
    {
      "cell_type": "markdown",
      "source": [
        "# **Basic Analysis - Before Proccessing**"
      ],
      "metadata": {
        "id": "5l37OtuDr7F8"
      }
    },
    {
      "cell_type": "code",
      "source": [
        "# Combine all text into a single string\n",
        "all_words = ' '.join(df['posts']).lower()\n",
        "\n",
        "print(\"---------Before Text Processing-------\")\n",
        "# Total number of messages\n",
        "total_num_of_data(df)\n",
        "\n",
        "print_word_statistics(df['posts'])\n",
        "\n",
        "# Average number of words per message\n",
        "avg_words_per_message(df, 'posts')\n",
        "# 5 most frequent words\n",
        "most_frequent_words(df, all_words, 5)\n",
        "# Number of words that only appear once\n",
        "count_of_words_apear_once(df, all_words)"
      ],
      "metadata": {
        "colab": {
          "base_uri": "https://localhost:8080/"
        },
        "id": "aQAAI99Gr4yP",
        "outputId": "c78d72dc-fe53-4011-f353-9a655e2d99db"
      },
      "execution_count": 159,
      "outputs": [
        {
          "output_type": "stream",
          "name": "stdout",
          "text": [
            "---------Before Text Processing-------\n",
            "Total number of messages: 19\n",
            "Total words: 1019\n",
            "Unique words: 535\n",
            "Average number of words per message: 45.95\n",
            "5 most frequent words:\n",
            "the: 51\n",
            "a: 26\n",
            "in: 23\n",
            "of: 20\n",
            "to: 20\n",
            "Number of words that only appear once: 373\n"
          ]
        }
      ]
    },
    {
      "cell_type": "markdown",
      "source": [
        "# Data cleaning"
      ],
      "metadata": {
        "id": "yVn-ZEADsSXI"
      }
    },
    {
      "cell_type": "code",
      "source": [
        "column = 'posts'\n",
        "data_cleaning(df, column)"
      ],
      "metadata": {
        "colab": {
          "base_uri": "https://localhost:8080/",
          "height": 1000
        },
        "id": "lsXBX6yOsRhf",
        "outputId": "0d6c1268-5e0b-4aa7-f7a6-4a9c4e81d0cd"
      },
      "execution_count": 160,
      "outputs": [
        {
          "output_type": "stream",
          "name": "stdout",
          "text": [
            "Cleaned data preview:\n",
            "                                                                                                                                                                                                                                                                                                                                                                                                                                                                                                                                                                                                                                                                                                                                                                                                                                                                                                                                                                                                                                                                                                                                                                                                                                                                        posts  \\\n",
            "0                                                                                                                                                                                                                                                                                                                                                                                                                                                                                                                                                                                                                                                                                                                                                                                                                                                                                                                                                                                                                                                                                                                                                          experiencing temporary issues market data page currently delayed please bear us address restore personalized lists   \n",
            "1                                                                                                                                                                                                                                                                                                                                                                                                                                                                                                                                                                                                                                                                                                                                                                                                                                                                                                                                                                                                                                                                                                                                                                                                                 another sign inflation subsiding surging first quarter 2024   \n",
            "2                                                                                                                                                                                                                                                                                                                                                                                                                                                                       shares broadcom avgo soaring early trading addition reporting betterthanexpected q2 results chip company announced 10for1 stock split occur market close july 12 meanwhile tesla tsla ceo elon musk posted x shareholder resolutions would reinstate 46 billion pay package move companys incorporation texas passing wide margins final results tallies expected later today trending tickers yahoo finance include nvidia nvda arm holdings arm adobe adbe top guests today include900 et krishna guha evercore isi vice chairman910 et garrett nelson cfra research analyst935 et brent schutte northwestern mutual wealth management chief investment officer1000 et mohamed elerian allianz chief economic advisor1130 et jere doyle bny mellon wealth management tax estate planning strategist   \n",
            "3                                                                                                                                                                                                                                                                                                                                                                                                                                                                                                                                                                                                                                                                                                                                                                                                                                                                                                                                                                                                                                                                                                                                                                                      feds decision interest rates affects savings products various types loans credit cards   \n",
            "4                                                                                                                                                                                                                                                                                                                                                                                                                                                                                                                                                                                                                                                                                                                                                                                                                                                                                                                                                                                                                                                                                                                                                                                                                                    heres look prices changed past 12 months   \n",
            "5                                                                                                                                                                                                                                                                                                                                                                                                                                                                                                                                                                                                                                                                                                                                                                                                                                                                                                                                                                                                                                                                                                                                                                                                      mays cpi showed inflation cooling raising investor hopes fed rate cuts   \n",
            "6                                                                                                                                                                                                                                                                                                                                                                                                                                                                                                                                                                                                                                                                                                                                                                                                                                                                                                                                                                                                                                                                                                                                                                                                                       theres optimism gas prices continue cool months ahead   \n",
            "7                                                                                                                                                                                                                                                                                                                                                                                                                                                                                                                                                                                                                                                                                                                                                                                                                                                                                                                                                                                                                                                                                                                                                                                                                          goods inflation back normal services still problem   \n",
            "8                                                                                                                                                                                                                                                                                                                                                                                                                                                                                                                                                                                                                                                                                                                                                                                                                                                                                                                                                                                                                                                                                                                among stocksplit stocks nvidia walmart chipotle mexican grill lam research sony group amphenol cintas theres one phenomenal bargain thats hiding plain sight   \n",
            "9                                                                                                                                                                                                                                                                                                                                                                                                                                                                                                                                                                                                                                                                                                                                                                                                                                                                                                                                                                                                                                                                                                                                                                                                                 shares semiconductor networking specialist get much cheaper   \n",
            "10                                                                                                                                                                                                                                                                                                                                                                                                                                                                                                                                                                                                                                                                                                                                                                                                                                                                                                                                                                                                                                                                                                                                                                              sam dogen retired 12 years ago job credit suisse two children school hes looking go back work   \n",
            "11                                                                                                                                                                                                                                                                                                                                                                                                                                                                                                                                                                                                                                                                                                                                                                                                                                                                                                                                                                                                                                                                                   analysts jpmorgan predict likely market correction summer income investors preparing downside investing safe dividend stocks stocks history good performance market conditions including   \n",
            "12                                                                                                                                                                                                                                                                                                                                                                                                                                                                                                                                                                                                                                                                                                                                                                                                                                                                                       sandi resident quaint town ocean shores located two hours west olympia recently sought financial advice widelyfollowed dave ramsey show video titled im 70 900 name query revolved around longcherished dream build detached garage property house lacks garage currently valued approximately 190000 outstanding mortgage 136000 dont miss average american couple saved much money   \n",
            "13  federal reserve wrapped latest open market committee meeting yesterday expected held federal funds rate steady 525550 rate remains highest level since 2000 longterm average 44 feds plan keep rates high push inflation lower meantime inflation indeed downward trek latest cpi reading 33 91 july 2022 latest core pce price index reading feds favorite metric 28 yet despite progress measures still well feds target 20 slope downward trajectory flattened lately potential problems central bank watched inflation got hand 20202021 wants rebuild reputation effective inflation fighter key takeaways fed meeting followup press conference release central banks summary economic projections commonly referred dot plot 1 median projection federal funds rate cuts year one versus prior forecast three big move hawkish direction 2 fed appears trying balance positive impact restrictive policy inflation versus negative impact low moderateincome earners 3 shelter component inflation readings remains major problem though rate shelter price increases slowed still think two cuts right number federal reserve 2024 two 2025 reckon central bank wants cut rates order save face previous projections also get one cut prior presidential election   \n",
            "14                                                                                                                                                                                                                                                                                                                                                                                                                                                                                                                                                                                                                                                                                                                                                                                                                                                                                                                                                                                                                                                                                                                                                                                      may eager score large paycheck social security focusing savings could good retirement   \n",
            "15                                                                                                                                                                                                                                                                                                                                                                                                                                                                                                                                                                                                                                                                                                                                                                                                                                                                                                                                                                                                                                                                                                                                                                                                                           tepper bull china shop especially one tech stock   \n",
            "16                                                                                                                                                                                                                                                                                                                                                                                                                                                                                                                                                                                                                                                                                                                                                                                                                                                                                                                                  surge trading shortdated gamestop options contracts wednesday suggested market participants keith gill stock influencer known roaring kitty may sold recentlydisclosed options position company gill helped launch memestock phenomenon 2021 recently disclosed sizeable gamestop stock options position screen shot posted reddit june 2   \n",
            "17                                                                                                                                                                                                                                                                                                                                                                                                                                                                                                                                                                                                                                                                                                                                                                                                                                                                                                                                                                                                                                                                                                                                                          today tesla shareholders finally answer 56 billion question hanging company ceo elon musk keep recordbreaking pay   \n",
            "18                                                                                                                                                                                                                                                                                                                                                                                                                                                                                                                                                                                                                                                                                                                                                                                                                                                                                                                                                                                                                                                                                                                                                                                                                                                      sign access portfolio   \n",
            "\n",
            "    word_count  \n",
            "0           28  \n",
            "1           15  \n",
            "2          147  \n",
            "3           17  \n",
            "4           15  \n",
            "5           13  \n",
            "6           13  \n",
            "7           11  \n",
            "8           24  \n",
            "9           13  \n",
            "10          25  \n",
            "11          38  \n",
            "12          83  \n",
            "13         298  \n",
            "14          24  \n",
            "15          14  \n",
            "16          67  \n",
            "17          22  \n",
            "18           6  \n"
          ]
        },
        {
          "output_type": "execute_result",
          "data": {
            "text/plain": [
              "                                                                                                                                                                                                                                                                                                                                                                                                                                                                                                                                                                                                                                                                                                                                                                                                                                                                                                                                                                                                                                                                                                                                                                                                                                                                        posts  \\\n",
              "0                                                                                                                                                                                                                                                                                                                                                                                                                                                                                                                                                                                                                                                                                                                                                                                                                                                                                                                                                                                                                                                                                                                                                          experiencing temporary issues market data page currently delayed please bear us address restore personalized lists   \n",
              "1                                                                                                                                                                                                                                                                                                                                                                                                                                                                                                                                                                                                                                                                                                                                                                                                                                                                                                                                                                                                                                                                                                                                                                                                                 another sign inflation subsiding surging first quarter 2024   \n",
              "2                                                                                                                                                                                                                                                                                                                                                                                                                                                                       shares broadcom avgo soaring early trading addition reporting betterthanexpected q2 results chip company announced 10for1 stock split occur market close july 12 meanwhile tesla tsla ceo elon musk posted x shareholder resolutions would reinstate 46 billion pay package move companys incorporation texas passing wide margins final results tallies expected later today trending tickers yahoo finance include nvidia nvda arm holdings arm adobe adbe top guests today include900 et krishna guha evercore isi vice chairman910 et garrett nelson cfra research analyst935 et brent schutte northwestern mutual wealth management chief investment officer1000 et mohamed elerian allianz chief economic advisor1130 et jere doyle bny mellon wealth management tax estate planning strategist   \n",
              "3                                                                                                                                                                                                                                                                                                                                                                                                                                                                                                                                                                                                                                                                                                                                                                                                                                                                                                                                                                                                                                                                                                                                                                                      feds decision interest rates affects savings products various types loans credit cards   \n",
              "4                                                                                                                                                                                                                                                                                                                                                                                                                                                                                                                                                                                                                                                                                                                                                                                                                                                                                                                                                                                                                                                                                                                                                                                                                                    heres look prices changed past 12 months   \n",
              "5                                                                                                                                                                                                                                                                                                                                                                                                                                                                                                                                                                                                                                                                                                                                                                                                                                                                                                                                                                                                                                                                                                                                                                                                      mays cpi showed inflation cooling raising investor hopes fed rate cuts   \n",
              "6                                                                                                                                                                                                                                                                                                                                                                                                                                                                                                                                                                                                                                                                                                                                                                                                                                                                                                                                                                                                                                                                                                                                                                                                                       theres optimism gas prices continue cool months ahead   \n",
              "7                                                                                                                                                                                                                                                                                                                                                                                                                                                                                                                                                                                                                                                                                                                                                                                                                                                                                                                                                                                                                                                                                                                                                                                                                          goods inflation back normal services still problem   \n",
              "8                                                                                                                                                                                                                                                                                                                                                                                                                                                                                                                                                                                                                                                                                                                                                                                                                                                                                                                                                                                                                                                                                                                among stocksplit stocks nvidia walmart chipotle mexican grill lam research sony group amphenol cintas theres one phenomenal bargain thats hiding plain sight   \n",
              "9                                                                                                                                                                                                                                                                                                                                                                                                                                                                                                                                                                                                                                                                                                                                                                                                                                                                                                                                                                                                                                                                                                                                                                                                                 shares semiconductor networking specialist get much cheaper   \n",
              "10                                                                                                                                                                                                                                                                                                                                                                                                                                                                                                                                                                                                                                                                                                                                                                                                                                                                                                                                                                                                                                                                                                                                                                              sam dogen retired 12 years ago job credit suisse two children school hes looking go back work   \n",
              "11                                                                                                                                                                                                                                                                                                                                                                                                                                                                                                                                                                                                                                                                                                                                                                                                                                                                                                                                                                                                                                                                                   analysts jpmorgan predict likely market correction summer income investors preparing downside investing safe dividend stocks stocks history good performance market conditions including   \n",
              "12                                                                                                                                                                                                                                                                                                                                                                                                                                                                                                                                                                                                                                                                                                                                                                                                                                                                                       sandi resident quaint town ocean shores located two hours west olympia recently sought financial advice widelyfollowed dave ramsey show video titled im 70 900 name query revolved around longcherished dream build detached garage property house lacks garage currently valued approximately 190000 outstanding mortgage 136000 dont miss average american couple saved much money   \n",
              "13  federal reserve wrapped latest open market committee meeting yesterday expected held federal funds rate steady 525550 rate remains highest level since 2000 longterm average 44 feds plan keep rates high push inflation lower meantime inflation indeed downward trek latest cpi reading 33 91 july 2022 latest core pce price index reading feds favorite metric 28 yet despite progress measures still well feds target 20 slope downward trajectory flattened lately potential problems central bank watched inflation got hand 20202021 wants rebuild reputation effective inflation fighter key takeaways fed meeting followup press conference release central banks summary economic projections commonly referred dot plot 1 median projection federal funds rate cuts year one versus prior forecast three big move hawkish direction 2 fed appears trying balance positive impact restrictive policy inflation versus negative impact low moderateincome earners 3 shelter component inflation readings remains major problem though rate shelter price increases slowed still think two cuts right number federal reserve 2024 two 2025 reckon central bank wants cut rates order save face previous projections also get one cut prior presidential election   \n",
              "14                                                                                                                                                                                                                                                                                                                                                                                                                                                                                                                                                                                                                                                                                                                                                                                                                                                                                                                                                                                                                                                                                                                                                                                      may eager score large paycheck social security focusing savings could good retirement   \n",
              "15                                                                                                                                                                                                                                                                                                                                                                                                                                                                                                                                                                                                                                                                                                                                                                                                                                                                                                                                                                                                                                                                                                                                                                                                                           tepper bull china shop especially one tech stock   \n",
              "16                                                                                                                                                                                                                                                                                                                                                                                                                                                                                                                                                                                                                                                                                                                                                                                                                                                                                                                                  surge trading shortdated gamestop options contracts wednesday suggested market participants keith gill stock influencer known roaring kitty may sold recentlydisclosed options position company gill helped launch memestock phenomenon 2021 recently disclosed sizeable gamestop stock options position screen shot posted reddit june 2   \n",
              "17                                                                                                                                                                                                                                                                                                                                                                                                                                                                                                                                                                                                                                                                                                                                                                                                                                                                                                                                                                                                                                                                                                                                                          today tesla shareholders finally answer 56 billion question hanging company ceo elon musk keep recordbreaking pay   \n",
              "18                                                                                                                                                                                                                                                                                                                                                                                                                                                                                                                                                                                                                                                                                                                                                                                                                                                                                                                                                                                                                                                                                                                                                                                                                                                      sign access portfolio   \n",
              "\n",
              "    word_count  \n",
              "0           28  \n",
              "1           15  \n",
              "2          147  \n",
              "3           17  \n",
              "4           15  \n",
              "5           13  \n",
              "6           13  \n",
              "7           11  \n",
              "8           24  \n",
              "9           13  \n",
              "10          25  \n",
              "11          38  \n",
              "12          83  \n",
              "13         298  \n",
              "14          24  \n",
              "15          14  \n",
              "16          67  \n",
              "17          22  \n",
              "18           6  "
            ],
            "text/html": [
              "\n",
              "  <div id=\"df-9b26d9b6-49e8-45fd-bd5a-3129ba3f9132\" class=\"colab-df-container\">\n",
              "    <div>\n",
              "<style scoped>\n",
              "    .dataframe tbody tr th:only-of-type {\n",
              "        vertical-align: middle;\n",
              "    }\n",
              "\n",
              "    .dataframe tbody tr th {\n",
              "        vertical-align: top;\n",
              "    }\n",
              "\n",
              "    .dataframe thead th {\n",
              "        text-align: right;\n",
              "    }\n",
              "</style>\n",
              "<table border=\"1\" class=\"dataframe\">\n",
              "  <thead>\n",
              "    <tr style=\"text-align: right;\">\n",
              "      <th></th>\n",
              "      <th>posts</th>\n",
              "      <th>word_count</th>\n",
              "    </tr>\n",
              "  </thead>\n",
              "  <tbody>\n",
              "    <tr>\n",
              "      <th>0</th>\n",
              "      <td>experiencing temporary issues market data page currently delayed please bear us address restore personalized lists</td>\n",
              "      <td>28</td>\n",
              "    </tr>\n",
              "    <tr>\n",
              "      <th>1</th>\n",
              "      <td>another sign inflation subsiding surging first quarter 2024</td>\n",
              "      <td>15</td>\n",
              "    </tr>\n",
              "    <tr>\n",
              "      <th>2</th>\n",
              "      <td>shares broadcom avgo soaring early trading addition reporting betterthanexpected q2 results chip company announced 10for1 stock split occur market close july 12 meanwhile tesla tsla ceo elon musk posted x shareholder resolutions would reinstate 46 billion pay package move companys incorporation texas passing wide margins final results tallies expected later today trending tickers yahoo finance include nvidia nvda arm holdings arm adobe adbe top guests today include900 et krishna guha evercore isi vice chairman910 et garrett nelson cfra research analyst935 et brent schutte northwestern mutual wealth management chief investment officer1000 et mohamed elerian allianz chief economic advisor1130 et jere doyle bny mellon wealth management tax estate planning strategist</td>\n",
              "      <td>147</td>\n",
              "    </tr>\n",
              "    <tr>\n",
              "      <th>3</th>\n",
              "      <td>feds decision interest rates affects savings products various types loans credit cards</td>\n",
              "      <td>17</td>\n",
              "    </tr>\n",
              "    <tr>\n",
              "      <th>4</th>\n",
              "      <td>heres look prices changed past 12 months</td>\n",
              "      <td>15</td>\n",
              "    </tr>\n",
              "    <tr>\n",
              "      <th>5</th>\n",
              "      <td>mays cpi showed inflation cooling raising investor hopes fed rate cuts</td>\n",
              "      <td>13</td>\n",
              "    </tr>\n",
              "    <tr>\n",
              "      <th>6</th>\n",
              "      <td>theres optimism gas prices continue cool months ahead</td>\n",
              "      <td>13</td>\n",
              "    </tr>\n",
              "    <tr>\n",
              "      <th>7</th>\n",
              "      <td>goods inflation back normal services still problem</td>\n",
              "      <td>11</td>\n",
              "    </tr>\n",
              "    <tr>\n",
              "      <th>8</th>\n",
              "      <td>among stocksplit stocks nvidia walmart chipotle mexican grill lam research sony group amphenol cintas theres one phenomenal bargain thats hiding plain sight</td>\n",
              "      <td>24</td>\n",
              "    </tr>\n",
              "    <tr>\n",
              "      <th>9</th>\n",
              "      <td>shares semiconductor networking specialist get much cheaper</td>\n",
              "      <td>13</td>\n",
              "    </tr>\n",
              "    <tr>\n",
              "      <th>10</th>\n",
              "      <td>sam dogen retired 12 years ago job credit suisse two children school hes looking go back work</td>\n",
              "      <td>25</td>\n",
              "    </tr>\n",
              "    <tr>\n",
              "      <th>11</th>\n",
              "      <td>analysts jpmorgan predict likely market correction summer income investors preparing downside investing safe dividend stocks stocks history good performance market conditions including</td>\n",
              "      <td>38</td>\n",
              "    </tr>\n",
              "    <tr>\n",
              "      <th>12</th>\n",
              "      <td>sandi resident quaint town ocean shores located two hours west olympia recently sought financial advice widelyfollowed dave ramsey show video titled im 70 900 name query revolved around longcherished dream build detached garage property house lacks garage currently valued approximately 190000 outstanding mortgage 136000 dont miss average american couple saved much money</td>\n",
              "      <td>83</td>\n",
              "    </tr>\n",
              "    <tr>\n",
              "      <th>13</th>\n",
              "      <td>federal reserve wrapped latest open market committee meeting yesterday expected held federal funds rate steady 525550 rate remains highest level since 2000 longterm average 44 feds plan keep rates high push inflation lower meantime inflation indeed downward trek latest cpi reading 33 91 july 2022 latest core pce price index reading feds favorite metric 28 yet despite progress measures still well feds target 20 slope downward trajectory flattened lately potential problems central bank watched inflation got hand 20202021 wants rebuild reputation effective inflation fighter key takeaways fed meeting followup press conference release central banks summary economic projections commonly referred dot plot 1 median projection federal funds rate cuts year one versus prior forecast three big move hawkish direction 2 fed appears trying balance positive impact restrictive policy inflation versus negative impact low moderateincome earners 3 shelter component inflation readings remains major problem though rate shelter price increases slowed still think two cuts right number federal reserve 2024 two 2025 reckon central bank wants cut rates order save face previous projections also get one cut prior presidential election</td>\n",
              "      <td>298</td>\n",
              "    </tr>\n",
              "    <tr>\n",
              "      <th>14</th>\n",
              "      <td>may eager score large paycheck social security focusing savings could good retirement</td>\n",
              "      <td>24</td>\n",
              "    </tr>\n",
              "    <tr>\n",
              "      <th>15</th>\n",
              "      <td>tepper bull china shop especially one tech stock</td>\n",
              "      <td>14</td>\n",
              "    </tr>\n",
              "    <tr>\n",
              "      <th>16</th>\n",
              "      <td>surge trading shortdated gamestop options contracts wednesday suggested market participants keith gill stock influencer known roaring kitty may sold recentlydisclosed options position company gill helped launch memestock phenomenon 2021 recently disclosed sizeable gamestop stock options position screen shot posted reddit june 2</td>\n",
              "      <td>67</td>\n",
              "    </tr>\n",
              "    <tr>\n",
              "      <th>17</th>\n",
              "      <td>today tesla shareholders finally answer 56 billion question hanging company ceo elon musk keep recordbreaking pay</td>\n",
              "      <td>22</td>\n",
              "    </tr>\n",
              "    <tr>\n",
              "      <th>18</th>\n",
              "      <td>sign access portfolio</td>\n",
              "      <td>6</td>\n",
              "    </tr>\n",
              "  </tbody>\n",
              "</table>\n",
              "</div>\n",
              "    <div class=\"colab-df-buttons\">\n",
              "\n",
              "  <div class=\"colab-df-container\">\n",
              "    <button class=\"colab-df-convert\" onclick=\"convertToInteractive('df-9b26d9b6-49e8-45fd-bd5a-3129ba3f9132')\"\n",
              "            title=\"Convert this dataframe to an interactive table.\"\n",
              "            style=\"display:none;\">\n",
              "\n",
              "  <svg xmlns=\"http://www.w3.org/2000/svg\" height=\"24px\" viewBox=\"0 -960 960 960\">\n",
              "    <path d=\"M120-120v-720h720v720H120Zm60-500h600v-160H180v160Zm220 220h160v-160H400v160Zm0 220h160v-160H400v160ZM180-400h160v-160H180v160Zm440 0h160v-160H620v160ZM180-180h160v-160H180v160Zm440 0h160v-160H620v160Z\"/>\n",
              "  </svg>\n",
              "    </button>\n",
              "\n",
              "  <style>\n",
              "    .colab-df-container {\n",
              "      display:flex;\n",
              "      gap: 12px;\n",
              "    }\n",
              "\n",
              "    .colab-df-convert {\n",
              "      background-color: #E8F0FE;\n",
              "      border: none;\n",
              "      border-radius: 50%;\n",
              "      cursor: pointer;\n",
              "      display: none;\n",
              "      fill: #1967D2;\n",
              "      height: 32px;\n",
              "      padding: 0 0 0 0;\n",
              "      width: 32px;\n",
              "    }\n",
              "\n",
              "    .colab-df-convert:hover {\n",
              "      background-color: #E2EBFA;\n",
              "      box-shadow: 0px 1px 2px rgba(60, 64, 67, 0.3), 0px 1px 3px 1px rgba(60, 64, 67, 0.15);\n",
              "      fill: #174EA6;\n",
              "    }\n",
              "\n",
              "    .colab-df-buttons div {\n",
              "      margin-bottom: 4px;\n",
              "    }\n",
              "\n",
              "    [theme=dark] .colab-df-convert {\n",
              "      background-color: #3B4455;\n",
              "      fill: #D2E3FC;\n",
              "    }\n",
              "\n",
              "    [theme=dark] .colab-df-convert:hover {\n",
              "      background-color: #434B5C;\n",
              "      box-shadow: 0px 1px 3px 1px rgba(0, 0, 0, 0.15);\n",
              "      filter: drop-shadow(0px 1px 2px rgba(0, 0, 0, 0.3));\n",
              "      fill: #FFFFFF;\n",
              "    }\n",
              "  </style>\n",
              "\n",
              "    <script>\n",
              "      const buttonEl =\n",
              "        document.querySelector('#df-9b26d9b6-49e8-45fd-bd5a-3129ba3f9132 button.colab-df-convert');\n",
              "      buttonEl.style.display =\n",
              "        google.colab.kernel.accessAllowed ? 'block' : 'none';\n",
              "\n",
              "      async function convertToInteractive(key) {\n",
              "        const element = document.querySelector('#df-9b26d9b6-49e8-45fd-bd5a-3129ba3f9132');\n",
              "        const dataTable =\n",
              "          await google.colab.kernel.invokeFunction('convertToInteractive',\n",
              "                                                    [key], {});\n",
              "        if (!dataTable) return;\n",
              "\n",
              "        const docLinkHtml = 'Like what you see? Visit the ' +\n",
              "          '<a target=\"_blank\" href=https://colab.research.google.com/notebooks/data_table.ipynb>data table notebook</a>'\n",
              "          + ' to learn more about interactive tables.';\n",
              "        element.innerHTML = '';\n",
              "        dataTable['output_type'] = 'display_data';\n",
              "        await google.colab.output.renderOutput(dataTable, element);\n",
              "        const docLink = document.createElement('div');\n",
              "        docLink.innerHTML = docLinkHtml;\n",
              "        element.appendChild(docLink);\n",
              "      }\n",
              "    </script>\n",
              "  </div>\n",
              "\n",
              "\n",
              "<div id=\"df-d32beebf-f19b-4b6f-9502-4f146e4ea128\">\n",
              "  <button class=\"colab-df-quickchart\" onclick=\"quickchart('df-d32beebf-f19b-4b6f-9502-4f146e4ea128')\"\n",
              "            title=\"Suggest charts\"\n",
              "            style=\"display:none;\">\n",
              "\n",
              "<svg xmlns=\"http://www.w3.org/2000/svg\" height=\"24px\"viewBox=\"0 0 24 24\"\n",
              "     width=\"24px\">\n",
              "    <g>\n",
              "        <path d=\"M19 3H5c-1.1 0-2 .9-2 2v14c0 1.1.9 2 2 2h14c1.1 0 2-.9 2-2V5c0-1.1-.9-2-2-2zM9 17H7v-7h2v7zm4 0h-2V7h2v10zm4 0h-2v-4h2v4z\"/>\n",
              "    </g>\n",
              "</svg>\n",
              "  </button>\n",
              "\n",
              "<style>\n",
              "  .colab-df-quickchart {\n",
              "      --bg-color: #E8F0FE;\n",
              "      --fill-color: #1967D2;\n",
              "      --hover-bg-color: #E2EBFA;\n",
              "      --hover-fill-color: #174EA6;\n",
              "      --disabled-fill-color: #AAA;\n",
              "      --disabled-bg-color: #DDD;\n",
              "  }\n",
              "\n",
              "  [theme=dark] .colab-df-quickchart {\n",
              "      --bg-color: #3B4455;\n",
              "      --fill-color: #D2E3FC;\n",
              "      --hover-bg-color: #434B5C;\n",
              "      --hover-fill-color: #FFFFFF;\n",
              "      --disabled-bg-color: #3B4455;\n",
              "      --disabled-fill-color: #666;\n",
              "  }\n",
              "\n",
              "  .colab-df-quickchart {\n",
              "    background-color: var(--bg-color);\n",
              "    border: none;\n",
              "    border-radius: 50%;\n",
              "    cursor: pointer;\n",
              "    display: none;\n",
              "    fill: var(--fill-color);\n",
              "    height: 32px;\n",
              "    padding: 0;\n",
              "    width: 32px;\n",
              "  }\n",
              "\n",
              "  .colab-df-quickchart:hover {\n",
              "    background-color: var(--hover-bg-color);\n",
              "    box-shadow: 0 1px 2px rgba(60, 64, 67, 0.3), 0 1px 3px 1px rgba(60, 64, 67, 0.15);\n",
              "    fill: var(--button-hover-fill-color);\n",
              "  }\n",
              "\n",
              "  .colab-df-quickchart-complete:disabled,\n",
              "  .colab-df-quickchart-complete:disabled:hover {\n",
              "    background-color: var(--disabled-bg-color);\n",
              "    fill: var(--disabled-fill-color);\n",
              "    box-shadow: none;\n",
              "  }\n",
              "\n",
              "  .colab-df-spinner {\n",
              "    border: 2px solid var(--fill-color);\n",
              "    border-color: transparent;\n",
              "    border-bottom-color: var(--fill-color);\n",
              "    animation:\n",
              "      spin 1s steps(1) infinite;\n",
              "  }\n",
              "\n",
              "  @keyframes spin {\n",
              "    0% {\n",
              "      border-color: transparent;\n",
              "      border-bottom-color: var(--fill-color);\n",
              "      border-left-color: var(--fill-color);\n",
              "    }\n",
              "    20% {\n",
              "      border-color: transparent;\n",
              "      border-left-color: var(--fill-color);\n",
              "      border-top-color: var(--fill-color);\n",
              "    }\n",
              "    30% {\n",
              "      border-color: transparent;\n",
              "      border-left-color: var(--fill-color);\n",
              "      border-top-color: var(--fill-color);\n",
              "      border-right-color: var(--fill-color);\n",
              "    }\n",
              "    40% {\n",
              "      border-color: transparent;\n",
              "      border-right-color: var(--fill-color);\n",
              "      border-top-color: var(--fill-color);\n",
              "    }\n",
              "    60% {\n",
              "      border-color: transparent;\n",
              "      border-right-color: var(--fill-color);\n",
              "    }\n",
              "    80% {\n",
              "      border-color: transparent;\n",
              "      border-right-color: var(--fill-color);\n",
              "      border-bottom-color: var(--fill-color);\n",
              "    }\n",
              "    90% {\n",
              "      border-color: transparent;\n",
              "      border-bottom-color: var(--fill-color);\n",
              "    }\n",
              "  }\n",
              "</style>\n",
              "\n",
              "  <script>\n",
              "    async function quickchart(key) {\n",
              "      const quickchartButtonEl =\n",
              "        document.querySelector('#' + key + ' button');\n",
              "      quickchartButtonEl.disabled = true;  // To prevent multiple clicks.\n",
              "      quickchartButtonEl.classList.add('colab-df-spinner');\n",
              "      try {\n",
              "        const charts = await google.colab.kernel.invokeFunction(\n",
              "            'suggestCharts', [key], {});\n",
              "      } catch (error) {\n",
              "        console.error('Error during call to suggestCharts:', error);\n",
              "      }\n",
              "      quickchartButtonEl.classList.remove('colab-df-spinner');\n",
              "      quickchartButtonEl.classList.add('colab-df-quickchart-complete');\n",
              "    }\n",
              "    (() => {\n",
              "      let quickchartButtonEl =\n",
              "        document.querySelector('#df-d32beebf-f19b-4b6f-9502-4f146e4ea128 button');\n",
              "      quickchartButtonEl.style.display =\n",
              "        google.colab.kernel.accessAllowed ? 'block' : 'none';\n",
              "    })();\n",
              "  </script>\n",
              "</div>\n",
              "\n",
              "    </div>\n",
              "  </div>\n"
            ],
            "application/vnd.google.colaboratory.intrinsic+json": {
              "type": "dataframe",
              "summary": "{\n  \"name\": \"data_cleaning(df, column)\",\n  \"rows\": 19,\n  \"fields\": [\n    {\n      \"column\": \"posts\",\n      \"properties\": {\n        \"dtype\": \"string\",\n        \"num_unique_values\": 19,\n        \"samples\": [\n          \"experiencing temporary issues market data page currently delayed please bear us address restore personalized lists\",\n          \"mays cpi showed inflation cooling raising investor hopes fed rate cuts\",\n          \"analysts jpmorgan predict likely market correction summer income investors preparing downside investing safe dividend stocks stocks history good performance market conditions including\"\n        ],\n        \"semantic_type\": \"\",\n        \"description\": \"\"\n      }\n    },\n    {\n      \"column\": \"word_count\",\n      \"properties\": {\n        \"dtype\": \"number\",\n        \"std\": 69,\n        \"min\": 6,\n        \"max\": 298,\n        \"num_unique_values\": 15,\n        \"samples\": [\n          83,\n          14,\n          28\n        ],\n        \"semantic_type\": \"\",\n        \"description\": \"\"\n      }\n    }\n  ]\n}"
            }
          },
          "metadata": {},
          "execution_count": 160
        }
      ]
    },
    {
      "cell_type": "markdown",
      "source": [
        "# **Basic Analysis - After Proccessing**"
      ],
      "metadata": {
        "id": "q95jKtoGsArl"
      }
    },
    {
      "cell_type": "code",
      "source": [
        "# Combine all text into a single string\n",
        "all_words = ' '.join(df['posts']).lower()\n",
        "\n",
        "print(\"---------After Text Processing-------\")\n",
        "# Total number of messages\n",
        "total_num_of_data(df)\n",
        "\n",
        "print_word_statistics(df['posts'])\n",
        "\n",
        "# Average number of words per message\n",
        "avg_words_per_message(df, 'posts')\n",
        "# 5 most frequent words\n",
        "most_frequent_words(df, all_words, 5)\n",
        "# Number of words that only appear once\n",
        "count_of_words_apear_once(df, all_words)"
      ],
      "metadata": {
        "colab": {
          "base_uri": "https://localhost:8080/"
        },
        "id": "TZyC0stqsDIK",
        "outputId": "3b637deb-b0e2-4202-e350-cb97544303d6"
      },
      "execution_count": 161,
      "outputs": [
        {
          "output_type": "stream",
          "name": "stdout",
          "text": [
            "---------After Text Processing-------\n",
            "Total number of messages: 19\n",
            "Total words: 1019\n",
            "Unique words: 535\n",
            "Average number of words per message: 45.95\n",
            "5 most frequent words:\n",
            "the: 51\n",
            "a: 26\n",
            "in: 23\n",
            "of: 20\n",
            "to: 20\n",
            "Number of words that only appear once: 373\n"
          ]
        }
      ]
    },
    {
      "cell_type": "markdown",
      "source": [
        "# **NLTK Tokenization**"
      ],
      "metadata": {
        "id": "ItY8O8Esrw4K"
      }
    },
    {
      "cell_type": "code",
      "source": [
        "\n",
        "start_time = time.time()\n",
        "\n",
        "# Tokenize using NLTK\n",
        "df['nltk_tokens'] = df['posts'].apply(word_tokenize)\n",
        "\n",
        "nltk_time = time.time() - start_time\n",
        "print(f\"NLTK tokenization time: {nltk_time} seconds\")\n",
        "print(df['nltk_tokens'].head(10))"
      ],
      "metadata": {
        "colab": {
          "base_uri": "https://localhost:8080/"
        },
        "id": "t1wrH9-yrHx_",
        "outputId": "ca0dc51e-ca0a-4f0c-e85b-ec8049622549"
      },
      "execution_count": 162,
      "outputs": [
        {
          "output_type": "stream",
          "name": "stdout",
          "text": [
            "NLTK tokenization time: 0.019848108291625977 seconds\n",
            "0                                                                                                                                                                                                                                                                                                                                                                                                                                                                             [We, are, experiencing, some, temporary, issues, ., The, market, data, on, this, page, is, currently, delayed, ., Please, bear, with, us, as, we, address, this, and, restore, your, personalized, lists, .]\n",
            "1                                                                                                                                                                                                                                                                                                                                                                                                                                                                                                                                                                            [It, 's, another, sign, that, inflation, is, subsiding, after, surging, in, the, first, quarter, of, 2024, .]\n",
            "2    [Shares, of, Broadcom, (, AVGO, ), are, soaring, in, early, trading, ., In, addition, to, reporting, better-than-expected, Q2, results, ,, the, chip, company, announced, a, 10-for-1, stock, split, that, will, occur, after, the, market, close, on, July, 12, ., Meanwhile, ,, Tesla, (, TSLA, ), CEO, Elon, Musk, posted, on, X, that, shareholder, resolutions, that, would, reinstate, his, $, 46, billion, pay, package, and, move, the, company, ’, s, incorporation, to, Texas, are, both, “, passing, by, wide, margins., ”, Final, results, of, the, tallies, are, expected, later, today, ., Other, trending, tickers, on, Yahoo, Finance, include, Nvidia, (, NVDA, ...]\n",
            "3                                                                                                                                                                                                                                                                                                                                                                                                                                                                                                                                                   [How, the, Fed, 's, decision, on, interest, rates, affects, savings, products, ,, various, types, of, loans, ,, and, credit, cards, .]\n",
            "4                                                                                                                                                                                                                                                                                                                                                                                                                                                                                                                                                                                         [Here, 's, a, look, at, where, prices, have, changed, the, most, over, the, past, 12, months, .]\n",
            "5                                                                                                                                                                                                                                                                                                                                                                                                                                                                                                                                                                                     [May, 's, CPI, showed, inflation, is, cooling, ,, raising, investor, hopes, for, Fed, rate, cuts, .]\n",
            "6                                                                                                                                                                                                                                                                                                                                                                                                                                                                                                                                                                                            [There, 's, optimism, that, gas, prices, will, continue, to, cool, in, the, months, ahead, .]\n",
            "7                                                                                                                                                                                                                                                                                                                                                                                                                                                                                                                                                                                                         [Goods, inflation, is, back, to, normal, ., Services, are, still, a, problem, .]\n",
            "8                                                                                                                                                                                                                                                                                                                                                                                                                                                              [Among, stock-split, stocks, Nvidia, ,, Walmart, ,, Chipotle, Mexican, Grill, ,, Lam, Research, ,, Sony, Group, ,, Amphenol, ,, and, Cintas, ,, there, 's, one, phenomenal, bargain, that, 's, hiding, in, plain, sight, .]\n",
            "9                                                                                                                                                                                                                                                                                                                                                                                                                                                                                                                                                                                     [Shares, of, the, semiconductor, and, networking, specialist, are, about, to, get, much, cheaper, .]\n",
            "Name: nltk_tokens, dtype: object\n"
          ]
        }
      ]
    },
    {
      "cell_type": "markdown",
      "source": [
        "# **NLTK Lemmatization**"
      ],
      "metadata": {
        "id": "JkqTsLZkr4iH"
      }
    },
    {
      "cell_type": "code",
      "source": [
        "\n",
        "# Using list comprehension to flatten the lists in the 'nltk_tokens' column\n",
        "all_tokens = [token for sublist in df['nltk_tokens'] for token in sublist]\n",
        "\n",
        "print(all_tokens)\n",
        "\n",
        "start_time = time.time()\n",
        "\n",
        "for w in all_tokens:\n",
        "   (w, \" : \", lemmatizer.lemmatize(w, pos='n'))\n",
        "time = time.time() - start_time\n",
        "time"
      ],
      "metadata": {
        "colab": {
          "base_uri": "https://localhost:8080/"
        },
        "id": "do5jZpE2rqhr",
        "outputId": "6f32131b-6ab5-4a2e-df7c-bf42effd47d3"
      },
      "execution_count": 163,
      "outputs": [
        {
          "output_type": "stream",
          "name": "stdout",
          "text": [
            "['We', 'are', 'experiencing', 'some', 'temporary', 'issues', '.', 'The', 'market', 'data', 'on', 'this', 'page', 'is', 'currently', 'delayed', '.', 'Please', 'bear', 'with', 'us', 'as', 'we', 'address', 'this', 'and', 'restore', 'your', 'personalized', 'lists', '.', 'It', \"'s\", 'another', 'sign', 'that', 'inflation', 'is', 'subsiding', 'after', 'surging', 'in', 'the', 'first', 'quarter', 'of', '2024', '.', 'Shares', 'of', 'Broadcom', '(', 'AVGO', ')', 'are', 'soaring', 'in', 'early', 'trading', '.', 'In', 'addition', 'to', 'reporting', 'better-than-expected', 'Q2', 'results', ',', 'the', 'chip', 'company', 'announced', 'a', '10-for-1', 'stock', 'split', 'that', 'will', 'occur', 'after', 'the', 'market', 'close', 'on', 'July', '12', '.', 'Meanwhile', ',', 'Tesla', '(', 'TSLA', ')', 'CEO', 'Elon', 'Musk', 'posted', 'on', 'X', 'that', 'shareholder', 'resolutions', 'that', 'would', 'reinstate', 'his', '$', '46', 'billion', 'pay', 'package', 'and', 'move', 'the', 'company', '’', 's', 'incorporation', 'to', 'Texas', 'are', 'both', '“', 'passing', 'by', 'wide', 'margins.', '”', 'Final', 'results', 'of', 'the', 'tallies', 'are', 'expected', 'later', 'today', '.', 'Other', 'trending', 'tickers', 'on', 'Yahoo', 'Finance', 'include', 'Nvidia', '(', 'NVDA', ')', ',', 'Arm', 'Holdings', '(', 'ARM', ')', ',', 'and', 'Adobe', '(', 'ADBE', ')', '.', 'Top', 'guests', 'today', 'include:9:00', 'a.m', '.', 'ET', '-', 'Krishna', 'Guha', ',', 'Evercore', 'ISI', 'Vice', 'Chairman9:10', 'a.m', '.', 'ET', '-', 'Garrett', 'Nelson', ',', 'CFRA', 'Research', 'Analyst9:35', 'a.m', '.', 'ET', '-', 'Brent', 'Schutte', ',', 'Northwestern', 'Mutual', 'Wealth', 'Management', 'Chief', 'Investment', 'Officer10:00', 'a.m', '.', 'ET', '-', 'Mohamed', 'El-Erian', ',', 'Allianz', 'Chief', 'Economic', 'Advisor11:30', 'a.m', '.', 'ET', '-', 'Jere', 'Doyle', ',', 'BNY', 'Mellon', 'Wealth', 'Management', 'Tax', 'and', 'Estate', 'Planning', 'Strategist', 'How', 'the', 'Fed', \"'s\", 'decision', 'on', 'interest', 'rates', 'affects', 'savings', 'products', ',', 'various', 'types', 'of', 'loans', ',', 'and', 'credit', 'cards', '.', 'Here', \"'s\", 'a', 'look', 'at', 'where', 'prices', 'have', 'changed', 'the', 'most', 'over', 'the', 'past', '12', 'months', '.', 'May', \"'s\", 'CPI', 'showed', 'inflation', 'is', 'cooling', ',', 'raising', 'investor', 'hopes', 'for', 'Fed', 'rate', 'cuts', '.', 'There', \"'s\", 'optimism', 'that', 'gas', 'prices', 'will', 'continue', 'to', 'cool', 'in', 'the', 'months', 'ahead', '.', 'Goods', 'inflation', 'is', 'back', 'to', 'normal', '.', 'Services', 'are', 'still', 'a', 'problem', '.', 'Among', 'stock-split', 'stocks', 'Nvidia', ',', 'Walmart', ',', 'Chipotle', 'Mexican', 'Grill', ',', 'Lam', 'Research', ',', 'Sony', 'Group', ',', 'Amphenol', ',', 'and', 'Cintas', ',', 'there', \"'s\", 'one', 'phenomenal', 'bargain', 'that', \"'s\", 'hiding', 'in', 'plain', 'sight', '.', 'Shares', 'of', 'the', 'semiconductor', 'and', 'networking', 'specialist', 'are', 'about', 'to', 'get', 'much', 'cheaper', '.', 'Sam', 'Dogen', 'retired', '12', 'years', 'ago', 'from', 'his', 'job', 'at', 'Credit', 'Suisse', '.', 'Now', ',', 'with', 'two', 'children', 'in', 'school', ',', 'he', \"'s\", 'looking', 'to', 'go', 'back', 'to', 'work', '.', 'As', 'analysts', 'at', 'JPMorgan', 'predict', 'a', 'likely', 'market', 'correction', 'this', 'summer', ',', 'income', 'investors', 'are', 'preparing', 'for', 'the', 'downside', 'by', 'investing', 'in', 'safe', 'dividend', 'stocks', '.', 'These', 'stocks', 'have', 'a', 'history', 'of', 'good', 'performance', 'in', 'all', 'market', 'conditions', ',', 'including', '...', 'Sandi', ',', 'a', 'resident', 'of', 'the', 'quaint', 'town', 'of', 'Ocean', 'Shores', ',', 'located', 'two', 'hours', 'west', 'of', 'Olympia', ',', 'recently', 'sought', 'financial', 'advice', 'on', 'the', 'widely-followed', 'Dave', 'Ramsey', 'Show', 'in', 'a', 'video', 'titled', '``', 'I', \"'m\", '70', 'And', 'Only', 'Have', '$', '900', 'To', 'My', 'Name', '.', \"''\", 'Her', 'query', 'revolved', 'around', 'a', 'long-cherished', 'dream', 'to', 'build', 'a', 'detached', 'garage', 'on', 'her', 'property', '.', 'The', 'house', ',', 'which', 'lacks', 'a', 'garage', ',', 'is', 'currently', 'valued', 'at', 'approximately', '$', '190,000', ',', 'with', 'an', 'outstanding', 'mortgage', 'of', '$', '136,000', '.', 'Do', \"n't\", 'Miss', ':', 'The', 'average', 'American', 'couple', 'has', 'saved', 'this', 'much', 'money', 'The', 'Federal', 'Reserve', 'wrapped', 'up', 'its', 'latest', 'Open', 'Market', 'Committee', 'meeting', 'yesterday', 'and', ',', 'as', 'expected', ',', 'held', 'the', 'federal', 'funds', 'rate', 'steady', 'at', '5.25', '%', '-5.50', '%', '.', 'The', 'rate', 'remains', 'at', 'its', 'highest', 'level', 'since', '2000', 'and', 'is', 'above', 'the', 'long-term', 'average', 'of', '4.4', '%', '.', 'This', 'is', 'the', 'Fed', \"'s\", 'plan', ':', 'keep', 'rates', 'high', 'to', 'push', 'inflation', 'lower', '.', 'In', 'the', 'meantime', ',', 'inflation', 'has', 'indeed', 'been', 'on', 'a', 'downward', 'trek', '.', 'The', 'latest', 'CPI', 'reading', 'was', '3.3', '%', ',', 'down', 'from', '9.1', '%', 'in', 'July', '2022', ',', 'and', 'the', 'latest', 'core', 'PCE', 'Price', 'Index', 'reading', '(', 'the', 'Fed', \"'s\", 'favorite', 'metric', ')', 'was', '2.8', '%', '.', 'Yet', 'despite', 'progress', ',', 'both', 'measures', 'are', 'still', 'well', 'above', 'the', 'Fed', \"'s\", 'target', 'of', '2.0', '%', ',', 'and', 'the', 'slope', 'of', 'the', 'downward', 'trajectory', 'has', 'flattened', 'lately', '.', 'Those', 'are', 'potential', 'problems', 'for', 'a', 'central', 'bank', 'that', 'watched', 'while', 'inflation', 'got', 'out', 'of', 'hand', 'in', '2020-2021', 'and', 'wants', 'to', 'rebuild', 'its', 'reputation', 'as', 'an', 'effective', 'inflation', 'fighter', '.', 'Here', 'are', 'our', 'key', 'takeaways', 'from', 'the', 'Fed', 'meeting', ',', 'the', 'follow-up', 'press', 'conference', ',', 'and', 'the', 'release', 'of', 'the', 'central', 'bank', \"'s\", 'Summary', 'Economic', 'Projections', ',', 'commonly', 'referred', 'to', 'as', '``', 'the', 'dot', 'plot', '.', \"''\", '1', ')', 'The', 'median', 'projection', 'for', 'federal', 'funds', 'rate', 'cuts', 'this', 'year', 'is', 'now', 'one', ',', 'versus', 'the', 'prior', 'forecast', 'for', 'three', '--', 'a', 'big', 'move', 'in', 'a', 'hawkish', 'direction', '.', '2', ')', 'The', 'Fed', 'appears', 'to', 'be', 'trying', 'to', 'balance', 'the', 'positive', 'impact', 'of', 'a', 'restrictive', 'policy', 'on', 'inflation', 'versus', 'the', 'negative', 'impact', 'on', 'low-', 'and', 'moderate-income', 'earners', '.', '3', ')', 'The', 'shelter', 'component', 'of', 'the', 'inflation', 'readings', 'remains', 'the', 'major', 'problem', ',', 'though', 'the', 'rate', 'of', 'shelter', 'price', 'increases', 'has', 'slowed', '.', 'We', 'still', 'think', 'that', 'two', 'cuts', 'is', 'the', 'right', 'number', 'for', 'the', 'Federal', 'Reserve', 'in', '2024', 'and', 'then', 'two', 'more', 'in', '2025', '.', 'We', 'reckon', 'the', 'central', 'bank', 'wants', 'to', 'cut', 'rates', 'in', 'order', 'to', 'save', 'face', 'after', 'previous', 'projections', 'and', 'also', 'get', 'one', 'cut', 'in', 'prior', 'to', 'the', 'presidential', 'election', '.', 'You', 'may', 'be', 'eager', 'to', 'score', 'a', 'large', 'paycheck', 'from', 'Social', 'Security', '.', 'But', 'focusing', 'on', 'your', 'savings', 'could', 'do', 'more', 'good', 'for', 'your', 'retirement', '.', 'Tepper', 'is', 'a', '``', 'bull', 'in', 'the', 'China', 'shop', \"''\", '--', 'especially', 'with', 'one', 'tech', 'stock', '.', 'A', 'surge', 'of', 'trading', 'in', 'some', 'short-dated', 'GameStop', 'options', 'contracts', 'on', 'Wednesday', 'suggested', 'to', 'some', 'market', 'participants', 'that', 'Keith', 'Gill', ',', 'the', 'stock', 'influencer', 'known', 'as', 'Roaring', 'Kitty', ',', 'may', 'have', 'sold', 'some', 'of', 'his', 'recently-disclosed', 'options', 'position', 'in', 'the', 'company', '.', 'Gill', ',', 'who', 'helped', 'launch', 'the', 'meme-stock', 'phenomenon', 'in', '2021', ',', 'recently', 'disclosed', 'a', 'sizeable', 'GameStop', 'stock', 'and', 'options', 'position', 'in', 'a', 'screen', 'shot', 'posted', 'on', 'Reddit', 'on', 'June', '2', '.', 'Today', 'Tesla', 'shareholders', 'will', 'finally', 'answer', 'a', '$', '56', 'billion', 'question', 'hanging', 'over', 'the', 'company', ':', 'Can', 'CEO', 'Elon', 'Musk', 'keep', 'his', 'record-breaking', 'pay', '?', 'Sign', 'in', 'to', 'access', 'your', 'portfolio']\n"
          ]
        },
        {
          "output_type": "execute_result",
          "data": {
            "text/plain": [
              "0.007044792175292969"
            ]
          },
          "metadata": {},
          "execution_count": 163
        }
      ]
    },
    {
      "cell_type": "markdown",
      "source": [
        "# **NLTK Stemming**"
      ],
      "metadata": {
        "id": "W-Wcms6RsHvv"
      }
    },
    {
      "cell_type": "code",
      "source": [
        "from nltk.stem import PorterStemmer\n",
        "import time\n",
        "# NLTK Stemming\n",
        "def stem_with_nltk(text):\n",
        "    stemmer = PorterStemmer()\n",
        "    stemmed_words = [stemmer.stem(w) for w in all_tokens]\n",
        "    return ' '.join(stemmed_words)\n",
        "\n",
        "start_time = time.time()\n",
        "stemmed_words = stem_with_nltk(all_tokens)\n",
        "nltk_time = time.time() - start_time\n",
        "\n",
        "print(\"Stemmed dataframe using NLTK:\")\n",
        "print(stemmed_words)\n",
        "print(f\"Stemming time using NLTK: {nltk_time:.6f} seconds\")"
      ],
      "metadata": {
        "colab": {
          "base_uri": "https://localhost:8080/"
        },
        "id": "VsLiGGjfsMlL",
        "outputId": "ba79d11d-9100-4142-ef1c-3ab9f3bc6c73"
      },
      "execution_count": 164,
      "outputs": [
        {
          "output_type": "stream",
          "name": "stdout",
          "text": [
            "Stemmed dataframe using NLTK:\n",
            "we are experienc some temporari issu . the market data on thi page is current delay . pleas bear with us as we address thi and restor your person list . it 's anoth sign that inflat is subsid after surg in the first quarter of 2024 . share of broadcom ( avgo ) are soar in earli trade . in addit to report better-than-expect q2 result , the chip compani announc a 10-for-1 stock split that will occur after the market close on juli 12 . meanwhil , tesla ( tsla ) ceo elon musk post on x that sharehold resolut that would reinstat hi $ 46 billion pay packag and move the compani ’ s incorpor to texa are both “ pass by wide margins. ” final result of the talli are expect later today . other trend ticker on yahoo financ includ nvidia ( nvda ) , arm hold ( arm ) , and adob ( adb ) . top guest today include:9:00 a.m . et - krishna guha , evercor isi vice chairman9:10 a.m . et - garrett nelson , cfra research analyst9:35 a.m . et - brent schutt , northwestern mutual wealth manag chief invest officer10:00 a.m . et - moham el-erian , allianz chief econom advisor11:30 a.m . et - jere doyl , bni mellon wealth manag tax and estat plan strategist how the fed 's decis on interest rate affect save product , variou type of loan , and credit card . here 's a look at where price have chang the most over the past 12 month . may 's cpi show inflat is cool , rais investor hope for fed rate cut . there 's optim that ga price will continu to cool in the month ahead . good inflat is back to normal . servic are still a problem . among stock-split stock nvidia , walmart , chipotl mexican grill , lam research , soni group , amphenol , and cinta , there 's one phenomen bargain that 's hide in plain sight . share of the semiconductor and network specialist are about to get much cheaper . sam dogen retir 12 year ago from hi job at credit suiss . now , with two children in school , he 's look to go back to work . as analyst at jpmorgan predict a like market correct thi summer , incom investor are prepar for the downsid by invest in safe dividend stock . these stock have a histori of good perform in all market condit , includ ... sandi , a resid of the quaint town of ocean shore , locat two hour west of olympia , recent sought financi advic on the widely-follow dave ramsey show in a video titl `` i 'm 70 and onli have $ 900 to my name . '' her queri revolv around a long-cherish dream to build a detach garag on her properti . the hous , which lack a garag , is current valu at approxim $ 190,000 , with an outstand mortgag of $ 136,000 . do n't miss : the averag american coupl ha save thi much money the feder reserv wrap up it latest open market committe meet yesterday and , as expect , held the feder fund rate steadi at 5.25 % -5.50 % . the rate remain at it highest level sinc 2000 and is abov the long-term averag of 4.4 % . thi is the fed 's plan : keep rate high to push inflat lower . in the meantim , inflat ha inde been on a downward trek . the latest cpi read wa 3.3 % , down from 9.1 % in juli 2022 , and the latest core pce price index read ( the fed 's favorit metric ) wa 2.8 % . yet despit progress , both measur are still well abov the fed 's target of 2.0 % , and the slope of the downward trajectori ha flatten late . those are potenti problem for a central bank that watch while inflat got out of hand in 2020-2021 and want to rebuild it reput as an effect inflat fighter . here are our key takeaway from the fed meet , the follow-up press confer , and the releas of the central bank 's summari econom project , commonli refer to as `` the dot plot . '' 1 ) the median project for feder fund rate cut thi year is now one , versu the prior forecast for three -- a big move in a hawkish direct . 2 ) the fed appear to be tri to balanc the posit impact of a restrict polici on inflat versu the neg impact on low- and moderate-incom earner . 3 ) the shelter compon of the inflat read remain the major problem , though the rate of shelter price increas ha slow . we still think that two cut is the right number for the feder reserv in 2024 and then two more in 2025 . we reckon the central bank want to cut rate in order to save face after previou project and also get one cut in prior to the presidenti elect . you may be eager to score a larg paycheck from social secur . but focus on your save could do more good for your retir . tepper is a `` bull in the china shop '' -- especi with one tech stock . a surg of trade in some short-dat gamestop option contract on wednesday suggest to some market particip that keith gill , the stock influenc known as roar kitti , may have sold some of hi recently-disclos option posit in the compani . gill , who help launch the meme-stock phenomenon in 2021 , recent disclos a sizeabl gamestop stock and option posit in a screen shot post on reddit on june 2 . today tesla sharehold will final answer a $ 56 billion question hang over the compani : can ceo elon musk keep hi record-break pay ? sign in to access your portfolio\n",
            "Stemming time using NLTK: 0.029718 seconds\n"
          ]
        }
      ]
    },
    {
      "cell_type": "markdown",
      "source": [
        "# **WhatsApp Analysis**"
      ],
      "metadata": {
        "id": "L1e9jaiEy8ue"
      }
    },
    {
      "cell_type": "code",
      "source": [
        "with open('whatsapp.txt', 'r', encoding='utf-8') as file:\n",
        "    whatsapp_data = file.read()"
      ],
      "metadata": {
        "id": "gTlAncpj8bT_"
      },
      "execution_count": 165,
      "outputs": []
    },
    {
      "cell_type": "code",
      "source": [
        "\n",
        "import pandas as pd\n",
        "import re\n",
        "\n",
        "# Split raw data by newline\n",
        "lines = whatsapp_data.strip().split('\\n')\n",
        "\n",
        "# Function to extract name and message, and remove name from message\n",
        "def process_line(line):\n",
        "    pattern = r'~\\s*(.*?):\\s*(.*)'\n",
        "    match = re.search(pattern, line)\n",
        "    if match:\n",
        "        name = match.group(1).strip()\n",
        "        message = match.group(2).strip()\n",
        "        return name, message\n",
        "    else:\n",
        "        return None, line.strip()\n",
        "\n",
        "# Process each line\n",
        "data = []\n",
        "for line in lines:\n",
        "    name, message = process_line(line)\n",
        "    if name:\n",
        "        data.append({'name': name, 'message': message})\n",
        "\n"
      ],
      "metadata": {
        "id": "7wylX4xDMqyC"
      },
      "execution_count": 166,
      "outputs": []
    },
    {
      "cell_type": "code",
      "source": [
        "# Create DataFrame\n",
        "df = pd.DataFrame(data)\n",
        "\n",
        "# Display the DataFrame\n",
        "print(df)\n",
        "df.to_csv(\"/content/whatsapp_data.csv\")"
      ],
      "metadata": {
        "colab": {
          "base_uri": "https://localhost:8080/"
        },
        "id": "LC7FQNvjolDa",
        "outputId": "febd6739-e7c7-4782-c8b4-a06867c888f1"
      },
      "execution_count": 167,
      "outputs": [
        {
          "output_type": "stream",
          "name": "stdout",
          "text": [
            "              name                                                message\n",
            "0        Bar moshe                     ‫‏הקבוצה נוצרה על ידי ~ Bar moshe‬\n",
            "1       Lil Jo’H 🎧  מישהו מכיר מורה פרטי למערכות הפעלה וגם ללמידת מכונה ?\n",
            "2       Lil Jo’H 🎧                  מישהו יודע איך להוריד Linux בMac M1 ?\n",
            "3            GabiL                                                לא צריך\n",
            "4            GabiL                    הטרמינל של מאק הוא שווה ערך ללינוקס\n",
            "..             ...                                                    ...\n",
            "742       Or Cohen           מישהו עשה את הקורס למידה חישובית ( לא סמינר)\n",
            "743  ליטל חוטיאקוב                          יש קבוצת ווצאפ של שפות תכנות?\n",
            "744      Bar Yaron                      יש בתיאור קישור מרוכז לכל הקבוצות\n",
            "745  ליטל חוטיאקוב                                                  תודה!\n",
            "746      Tom Cohen                                         ‏התמונה הושמטה\n",
            "\n",
            "[747 rows x 2 columns]\n"
          ]
        }
      ]
    },
    {
      "cell_type": "markdown",
      "source": [
        "# Basic Analysis - Before Processing"
      ],
      "metadata": {
        "id": "NRzu-YiEmrV4"
      }
    },
    {
      "cell_type": "code",
      "source": [
        "# Combine all text into a single string\n",
        "all_words = ' '.join(df['message']).lower()\n",
        "\n",
        "print(\"---------Before Text Processing-------\")\n",
        "# Total number of messages\n",
        "total_num_of_data(df)\n",
        "\n",
        "print_word_statistics(df['message'])\n",
        "\n",
        "# Average number of words per message\n",
        "avg_words_per_message(df, 'message')\n",
        "# 5 most frequent words\n",
        "most_frequent_words(df, all_words, 5)\n",
        "# Number of words that only appear once\n",
        "count_of_words_apear_once(df, all_words)"
      ],
      "metadata": {
        "colab": {
          "base_uri": "https://localhost:8080/"
        },
        "id": "_tJHh_NNnBeU",
        "outputId": "b7567ee8-873b-4140-aacb-7de1a6662d53"
      },
      "execution_count": 168,
      "outputs": [
        {
          "output_type": "stream",
          "name": "stdout",
          "text": [
            "---------Before Text Processing-------\n",
            "Total number of messages: 747\n",
            "Total words: 5015\n",
            "Unique words: 1948\n",
            "Average number of words per message: 6.00\n",
            "5 most frequent words:\n",
            "לא: 83\n",
            "התמונה: 81\n",
            "הושמטה: 80\n",
            "זה: 74\n",
            "יש: 72\n",
            "Number of words that only appear once: 1298\n"
          ]
        }
      ]
    },
    {
      "cell_type": "markdown",
      "source": [
        "# Cleaning Data"
      ],
      "metadata": {
        "id": "dd_7m1iwn-RR"
      }
    },
    {
      "cell_type": "code",
      "source": [
        "df = data_cleaning(df, 'message')\n",
        "df\n"
      ],
      "metadata": {
        "colab": {
          "base_uri": "https://localhost:8080/",
          "height": 934
        },
        "id": "aD_LQZ2LGPIb",
        "outputId": "b6e04ff8-4b1b-491b-d314-453e224fdd62"
      },
      "execution_count": 169,
      "outputs": [
        {
          "output_type": "stream",
          "name": "stdout",
          "text": [
            "Cleaned data preview:\n",
            "              name                                              message  \\\n",
            "0        Bar moshe                        הקבוצה נוצרה על ידי bar moshe   \n",
            "1       Lil Jo’H 🎧  מישהו מכיר מורה פרטי למערכות הפעלה וגם ללמידת מכונה   \n",
            "2       Lil Jo’H 🎧                  מישהו יודע איך להוריד linux בmac m1   \n",
            "3            GabiL                                              לא צריך   \n",
            "4            GabiL                  הטרמינל של מאק הוא שווה ערך ללינוקס   \n",
            "..             ...                                                  ...   \n",
            "742       Or Cohen            מישהו עשה את הקורס למידה חישובית לא סמינר   \n",
            "743  ליטל חוטיאקוב                         יש קבוצת ווצאפ של שפות תכנות   \n",
            "744      Bar Yaron                    יש בתיאור קישור מרוכז לכל הקבוצות   \n",
            "745  ליטל חוטיאקוב                                                 תודה   \n",
            "746      Tom Cohen                                        התמונה הושמטה   \n",
            "\n",
            "     word_count  \n",
            "0             7  \n",
            "1            10  \n",
            "2             8  \n",
            "3             2  \n",
            "4             7  \n",
            "..          ...  \n",
            "742           9  \n",
            "743           6  \n",
            "744           6  \n",
            "745           1  \n",
            "746           2  \n",
            "\n",
            "[713 rows x 3 columns]\n"
          ]
        },
        {
          "output_type": "execute_result",
          "data": {
            "text/plain": [
              "              name                                              message  \\\n",
              "0        Bar moshe                        הקבוצה נוצרה על ידי bar moshe   \n",
              "1       Lil Jo’H 🎧  מישהו מכיר מורה פרטי למערכות הפעלה וגם ללמידת מכונה   \n",
              "2       Lil Jo’H 🎧                  מישהו יודע איך להוריד linux בmac m1   \n",
              "3            GabiL                                              לא צריך   \n",
              "4            GabiL                  הטרמינל של מאק הוא שווה ערך ללינוקס   \n",
              "..             ...                                                  ...   \n",
              "742       Or Cohen            מישהו עשה את הקורס למידה חישובית לא סמינר   \n",
              "743  ליטל חוטיאקוב                         יש קבוצת ווצאפ של שפות תכנות   \n",
              "744      Bar Yaron                    יש בתיאור קישור מרוכז לכל הקבוצות   \n",
              "745  ליטל חוטיאקוב                                                 תודה   \n",
              "746      Tom Cohen                                        התמונה הושמטה   \n",
              "\n",
              "     word_count  \n",
              "0             7  \n",
              "1            10  \n",
              "2             8  \n",
              "3             2  \n",
              "4             7  \n",
              "..          ...  \n",
              "742           9  \n",
              "743           6  \n",
              "744           6  \n",
              "745           1  \n",
              "746           2  \n",
              "\n",
              "[713 rows x 3 columns]"
            ],
            "text/html": [
              "\n",
              "  <div id=\"df-9b1bfc3d-9ce2-4221-8b4c-a5d6d9a56b4c\" class=\"colab-df-container\">\n",
              "    <div>\n",
              "<style scoped>\n",
              "    .dataframe tbody tr th:only-of-type {\n",
              "        vertical-align: middle;\n",
              "    }\n",
              "\n",
              "    .dataframe tbody tr th {\n",
              "        vertical-align: top;\n",
              "    }\n",
              "\n",
              "    .dataframe thead th {\n",
              "        text-align: right;\n",
              "    }\n",
              "</style>\n",
              "<table border=\"1\" class=\"dataframe\">\n",
              "  <thead>\n",
              "    <tr style=\"text-align: right;\">\n",
              "      <th></th>\n",
              "      <th>name</th>\n",
              "      <th>message</th>\n",
              "      <th>word_count</th>\n",
              "    </tr>\n",
              "  </thead>\n",
              "  <tbody>\n",
              "    <tr>\n",
              "      <th>0</th>\n",
              "      <td>Bar moshe</td>\n",
              "      <td>הקבוצה נוצרה על ידי bar moshe</td>\n",
              "      <td>7</td>\n",
              "    </tr>\n",
              "    <tr>\n",
              "      <th>1</th>\n",
              "      <td>Lil Jo’H 🎧</td>\n",
              "      <td>מישהו מכיר מורה פרטי למערכות הפעלה וגם ללמידת מכונה</td>\n",
              "      <td>10</td>\n",
              "    </tr>\n",
              "    <tr>\n",
              "      <th>2</th>\n",
              "      <td>Lil Jo’H 🎧</td>\n",
              "      <td>מישהו יודע איך להוריד linux בmac m1</td>\n",
              "      <td>8</td>\n",
              "    </tr>\n",
              "    <tr>\n",
              "      <th>3</th>\n",
              "      <td>GabiL</td>\n",
              "      <td>לא צריך</td>\n",
              "      <td>2</td>\n",
              "    </tr>\n",
              "    <tr>\n",
              "      <th>4</th>\n",
              "      <td>GabiL</td>\n",
              "      <td>הטרמינל של מאק הוא שווה ערך ללינוקס</td>\n",
              "      <td>7</td>\n",
              "    </tr>\n",
              "    <tr>\n",
              "      <th>...</th>\n",
              "      <td>...</td>\n",
              "      <td>...</td>\n",
              "      <td>...</td>\n",
              "    </tr>\n",
              "    <tr>\n",
              "      <th>742</th>\n",
              "      <td>Or Cohen</td>\n",
              "      <td>מישהו עשה את הקורס למידה חישובית לא סמינר</td>\n",
              "      <td>9</td>\n",
              "    </tr>\n",
              "    <tr>\n",
              "      <th>743</th>\n",
              "      <td>ליטל חוטיאקוב</td>\n",
              "      <td>יש קבוצת ווצאפ של שפות תכנות</td>\n",
              "      <td>6</td>\n",
              "    </tr>\n",
              "    <tr>\n",
              "      <th>744</th>\n",
              "      <td>Bar Yaron</td>\n",
              "      <td>יש בתיאור קישור מרוכז לכל הקבוצות</td>\n",
              "      <td>6</td>\n",
              "    </tr>\n",
              "    <tr>\n",
              "      <th>745</th>\n",
              "      <td>ליטל חוטיאקוב</td>\n",
              "      <td>תודה</td>\n",
              "      <td>1</td>\n",
              "    </tr>\n",
              "    <tr>\n",
              "      <th>746</th>\n",
              "      <td>Tom Cohen</td>\n",
              "      <td>התמונה הושמטה</td>\n",
              "      <td>2</td>\n",
              "    </tr>\n",
              "  </tbody>\n",
              "</table>\n",
              "<p>713 rows × 3 columns</p>\n",
              "</div>\n",
              "    <div class=\"colab-df-buttons\">\n",
              "\n",
              "  <div class=\"colab-df-container\">\n",
              "    <button class=\"colab-df-convert\" onclick=\"convertToInteractive('df-9b1bfc3d-9ce2-4221-8b4c-a5d6d9a56b4c')\"\n",
              "            title=\"Convert this dataframe to an interactive table.\"\n",
              "            style=\"display:none;\">\n",
              "\n",
              "  <svg xmlns=\"http://www.w3.org/2000/svg\" height=\"24px\" viewBox=\"0 -960 960 960\">\n",
              "    <path d=\"M120-120v-720h720v720H120Zm60-500h600v-160H180v160Zm220 220h160v-160H400v160Zm0 220h160v-160H400v160ZM180-400h160v-160H180v160Zm440 0h160v-160H620v160ZM180-180h160v-160H180v160Zm440 0h160v-160H620v160Z\"/>\n",
              "  </svg>\n",
              "    </button>\n",
              "\n",
              "  <style>\n",
              "    .colab-df-container {\n",
              "      display:flex;\n",
              "      gap: 12px;\n",
              "    }\n",
              "\n",
              "    .colab-df-convert {\n",
              "      background-color: #E8F0FE;\n",
              "      border: none;\n",
              "      border-radius: 50%;\n",
              "      cursor: pointer;\n",
              "      display: none;\n",
              "      fill: #1967D2;\n",
              "      height: 32px;\n",
              "      padding: 0 0 0 0;\n",
              "      width: 32px;\n",
              "    }\n",
              "\n",
              "    .colab-df-convert:hover {\n",
              "      background-color: #E2EBFA;\n",
              "      box-shadow: 0px 1px 2px rgba(60, 64, 67, 0.3), 0px 1px 3px 1px rgba(60, 64, 67, 0.15);\n",
              "      fill: #174EA6;\n",
              "    }\n",
              "\n",
              "    .colab-df-buttons div {\n",
              "      margin-bottom: 4px;\n",
              "    }\n",
              "\n",
              "    [theme=dark] .colab-df-convert {\n",
              "      background-color: #3B4455;\n",
              "      fill: #D2E3FC;\n",
              "    }\n",
              "\n",
              "    [theme=dark] .colab-df-convert:hover {\n",
              "      background-color: #434B5C;\n",
              "      box-shadow: 0px 1px 3px 1px rgba(0, 0, 0, 0.15);\n",
              "      filter: drop-shadow(0px 1px 2px rgba(0, 0, 0, 0.3));\n",
              "      fill: #FFFFFF;\n",
              "    }\n",
              "  </style>\n",
              "\n",
              "    <script>\n",
              "      const buttonEl =\n",
              "        document.querySelector('#df-9b1bfc3d-9ce2-4221-8b4c-a5d6d9a56b4c button.colab-df-convert');\n",
              "      buttonEl.style.display =\n",
              "        google.colab.kernel.accessAllowed ? 'block' : 'none';\n",
              "\n",
              "      async function convertToInteractive(key) {\n",
              "        const element = document.querySelector('#df-9b1bfc3d-9ce2-4221-8b4c-a5d6d9a56b4c');\n",
              "        const dataTable =\n",
              "          await google.colab.kernel.invokeFunction('convertToInteractive',\n",
              "                                                    [key], {});\n",
              "        if (!dataTable) return;\n",
              "\n",
              "        const docLinkHtml = 'Like what you see? Visit the ' +\n",
              "          '<a target=\"_blank\" href=https://colab.research.google.com/notebooks/data_table.ipynb>data table notebook</a>'\n",
              "          + ' to learn more about interactive tables.';\n",
              "        element.innerHTML = '';\n",
              "        dataTable['output_type'] = 'display_data';\n",
              "        await google.colab.output.renderOutput(dataTable, element);\n",
              "        const docLink = document.createElement('div');\n",
              "        docLink.innerHTML = docLinkHtml;\n",
              "        element.appendChild(docLink);\n",
              "      }\n",
              "    </script>\n",
              "  </div>\n",
              "\n",
              "\n",
              "<div id=\"df-b9b47f9e-a981-4e3d-9e48-b84d4560927f\">\n",
              "  <button class=\"colab-df-quickchart\" onclick=\"quickchart('df-b9b47f9e-a981-4e3d-9e48-b84d4560927f')\"\n",
              "            title=\"Suggest charts\"\n",
              "            style=\"display:none;\">\n",
              "\n",
              "<svg xmlns=\"http://www.w3.org/2000/svg\" height=\"24px\"viewBox=\"0 0 24 24\"\n",
              "     width=\"24px\">\n",
              "    <g>\n",
              "        <path d=\"M19 3H5c-1.1 0-2 .9-2 2v14c0 1.1.9 2 2 2h14c1.1 0 2-.9 2-2V5c0-1.1-.9-2-2-2zM9 17H7v-7h2v7zm4 0h-2V7h2v10zm4 0h-2v-4h2v4z\"/>\n",
              "    </g>\n",
              "</svg>\n",
              "  </button>\n",
              "\n",
              "<style>\n",
              "  .colab-df-quickchart {\n",
              "      --bg-color: #E8F0FE;\n",
              "      --fill-color: #1967D2;\n",
              "      --hover-bg-color: #E2EBFA;\n",
              "      --hover-fill-color: #174EA6;\n",
              "      --disabled-fill-color: #AAA;\n",
              "      --disabled-bg-color: #DDD;\n",
              "  }\n",
              "\n",
              "  [theme=dark] .colab-df-quickchart {\n",
              "      --bg-color: #3B4455;\n",
              "      --fill-color: #D2E3FC;\n",
              "      --hover-bg-color: #434B5C;\n",
              "      --hover-fill-color: #FFFFFF;\n",
              "      --disabled-bg-color: #3B4455;\n",
              "      --disabled-fill-color: #666;\n",
              "  }\n",
              "\n",
              "  .colab-df-quickchart {\n",
              "    background-color: var(--bg-color);\n",
              "    border: none;\n",
              "    border-radius: 50%;\n",
              "    cursor: pointer;\n",
              "    display: none;\n",
              "    fill: var(--fill-color);\n",
              "    height: 32px;\n",
              "    padding: 0;\n",
              "    width: 32px;\n",
              "  }\n",
              "\n",
              "  .colab-df-quickchart:hover {\n",
              "    background-color: var(--hover-bg-color);\n",
              "    box-shadow: 0 1px 2px rgba(60, 64, 67, 0.3), 0 1px 3px 1px rgba(60, 64, 67, 0.15);\n",
              "    fill: var(--button-hover-fill-color);\n",
              "  }\n",
              "\n",
              "  .colab-df-quickchart-complete:disabled,\n",
              "  .colab-df-quickchart-complete:disabled:hover {\n",
              "    background-color: var(--disabled-bg-color);\n",
              "    fill: var(--disabled-fill-color);\n",
              "    box-shadow: none;\n",
              "  }\n",
              "\n",
              "  .colab-df-spinner {\n",
              "    border: 2px solid var(--fill-color);\n",
              "    border-color: transparent;\n",
              "    border-bottom-color: var(--fill-color);\n",
              "    animation:\n",
              "      spin 1s steps(1) infinite;\n",
              "  }\n",
              "\n",
              "  @keyframes spin {\n",
              "    0% {\n",
              "      border-color: transparent;\n",
              "      border-bottom-color: var(--fill-color);\n",
              "      border-left-color: var(--fill-color);\n",
              "    }\n",
              "    20% {\n",
              "      border-color: transparent;\n",
              "      border-left-color: var(--fill-color);\n",
              "      border-top-color: var(--fill-color);\n",
              "    }\n",
              "    30% {\n",
              "      border-color: transparent;\n",
              "      border-left-color: var(--fill-color);\n",
              "      border-top-color: var(--fill-color);\n",
              "      border-right-color: var(--fill-color);\n",
              "    }\n",
              "    40% {\n",
              "      border-color: transparent;\n",
              "      border-right-color: var(--fill-color);\n",
              "      border-top-color: var(--fill-color);\n",
              "    }\n",
              "    60% {\n",
              "      border-color: transparent;\n",
              "      border-right-color: var(--fill-color);\n",
              "    }\n",
              "    80% {\n",
              "      border-color: transparent;\n",
              "      border-right-color: var(--fill-color);\n",
              "      border-bottom-color: var(--fill-color);\n",
              "    }\n",
              "    90% {\n",
              "      border-color: transparent;\n",
              "      border-bottom-color: var(--fill-color);\n",
              "    }\n",
              "  }\n",
              "</style>\n",
              "\n",
              "  <script>\n",
              "    async function quickchart(key) {\n",
              "      const quickchartButtonEl =\n",
              "        document.querySelector('#' + key + ' button');\n",
              "      quickchartButtonEl.disabled = true;  // To prevent multiple clicks.\n",
              "      quickchartButtonEl.classList.add('colab-df-spinner');\n",
              "      try {\n",
              "        const charts = await google.colab.kernel.invokeFunction(\n",
              "            'suggestCharts', [key], {});\n",
              "      } catch (error) {\n",
              "        console.error('Error during call to suggestCharts:', error);\n",
              "      }\n",
              "      quickchartButtonEl.classList.remove('colab-df-spinner');\n",
              "      quickchartButtonEl.classList.add('colab-df-quickchart-complete');\n",
              "    }\n",
              "    (() => {\n",
              "      let quickchartButtonEl =\n",
              "        document.querySelector('#df-b9b47f9e-a981-4e3d-9e48-b84d4560927f button');\n",
              "      quickchartButtonEl.style.display =\n",
              "        google.colab.kernel.accessAllowed ? 'block' : 'none';\n",
              "    })();\n",
              "  </script>\n",
              "</div>\n",
              "\n",
              "  <div id=\"id_4e2f1632-0dc9-404a-9c03-0b50d39e5330\">\n",
              "    <style>\n",
              "      .colab-df-generate {\n",
              "        background-color: #E8F0FE;\n",
              "        border: none;\n",
              "        border-radius: 50%;\n",
              "        cursor: pointer;\n",
              "        display: none;\n",
              "        fill: #1967D2;\n",
              "        height: 32px;\n",
              "        padding: 0 0 0 0;\n",
              "        width: 32px;\n",
              "      }\n",
              "\n",
              "      .colab-df-generate:hover {\n",
              "        background-color: #E2EBFA;\n",
              "        box-shadow: 0px 1px 2px rgba(60, 64, 67, 0.3), 0px 1px 3px 1px rgba(60, 64, 67, 0.15);\n",
              "        fill: #174EA6;\n",
              "      }\n",
              "\n",
              "      [theme=dark] .colab-df-generate {\n",
              "        background-color: #3B4455;\n",
              "        fill: #D2E3FC;\n",
              "      }\n",
              "\n",
              "      [theme=dark] .colab-df-generate:hover {\n",
              "        background-color: #434B5C;\n",
              "        box-shadow: 0px 1px 3px 1px rgba(0, 0, 0, 0.15);\n",
              "        filter: drop-shadow(0px 1px 2px rgba(0, 0, 0, 0.3));\n",
              "        fill: #FFFFFF;\n",
              "      }\n",
              "    </style>\n",
              "    <button class=\"colab-df-generate\" onclick=\"generateWithVariable('df')\"\n",
              "            title=\"Generate code using this dataframe.\"\n",
              "            style=\"display:none;\">\n",
              "\n",
              "  <svg xmlns=\"http://www.w3.org/2000/svg\" height=\"24px\"viewBox=\"0 0 24 24\"\n",
              "       width=\"24px\">\n",
              "    <path d=\"M7,19H8.4L18.45,9,17,7.55,7,17.6ZM5,21V16.75L18.45,3.32a2,2,0,0,1,2.83,0l1.4,1.43a1.91,1.91,0,0,1,.58,1.4,1.91,1.91,0,0,1-.58,1.4L9.25,21ZM18.45,9,17,7.55Zm-12,3A5.31,5.31,0,0,0,4.9,8.1,5.31,5.31,0,0,0,1,6.5,5.31,5.31,0,0,0,4.9,4.9,5.31,5.31,0,0,0,6.5,1,5.31,5.31,0,0,0,8.1,4.9,5.31,5.31,0,0,0,12,6.5,5.46,5.46,0,0,0,6.5,12Z\"/>\n",
              "  </svg>\n",
              "    </button>\n",
              "    <script>\n",
              "      (() => {\n",
              "      const buttonEl =\n",
              "        document.querySelector('#id_4e2f1632-0dc9-404a-9c03-0b50d39e5330 button.colab-df-generate');\n",
              "      buttonEl.style.display =\n",
              "        google.colab.kernel.accessAllowed ? 'block' : 'none';\n",
              "\n",
              "      buttonEl.onclick = () => {\n",
              "        google.colab.notebook.generateWithVariable('df');\n",
              "      }\n",
              "      })();\n",
              "    </script>\n",
              "  </div>\n",
              "\n",
              "    </div>\n",
              "  </div>\n"
            ],
            "application/vnd.google.colaboratory.intrinsic+json": {
              "type": "dataframe",
              "variable_name": "df",
              "summary": "{\n  \"name\": \"df\",\n  \"rows\": 713,\n  \"fields\": [\n    {\n      \"column\": \"name\",\n      \"properties\": {\n        \"dtype\": \"category\",\n        \"num_unique_values\": 64,\n        \"samples\": [\n          \"Bar Yaron\",\n          \"Shahar Levi Zedek\",\n          \"Bar moshe\"\n        ],\n        \"semantic_type\": \"\",\n        \"description\": \"\"\n      }\n    },\n    {\n      \"column\": \"message\",\n      \"properties\": {\n        \"dtype\": \"string\",\n        \"num_unique_values\": 588,\n        \"samples\": [\n          \"\\u05d4\\u05d4\\u05d5\\u05d3\\u05e2\\u05d5\\u05ea \\u05e0\\u05de\\u05d7\\u05e7\\u05d5 \\u05d1\\u05e6\\u05d3\\u05e7\",\n          \"\\u05db\\u05e9\\u05ea\\u05d1\\u05d5\\u05d0 \\u05dc\\u05d6\\u05e8\\u05d5\\u05e7 \\u05d0\\u05ea \\u05d4\\u05db\\u05d5\\u05d1\\u05e2 \\u05d1\\u05d8\\u05e7\\u05e1 \\u05d4\\u05e2\\u05e0\\u05e7\\u05ea \\u05ea\\u05d0\\u05e8\\u05d9\\u05dd \\u05d0\\u05e0\\u05d9 \\u05de\\u05d0\\u05de\\u05d9\\u05df \\u05e9\\u05ea\\u05e7\\u05d1\\u05dc \\u05de\\u05d9\\u05d9\\u05dc \\u05e2\\u05dd \\u05e6\\u05d9\\u05d5\\u05df \\u05dc\\u05d0 \\u05dc\\u05e4\\u05e0\\u05d9\",\n          \"\\u05dc\\u05d2\\u05d3\\u05d5\\u05d3 \\u05e9\\u05dc \\u05d0\\u05d7\\u05d9 \\u05d7\\u05e1\\u05e8 \\u05e6\\u05d9\\u05d5\\u05d3 \\u05dc\\u05d7\\u05d9\\u05de\\u05d4 \\u05d4\\u05db\\u05e8\\u05d7\\u05d9 \\u05d5\\u05e0\\u05e4\\u05ea\\u05d7\\u05d4 \\u05e7\\u05d1\\u05d5\\u05e6\\u05d4 \\u05dc\\u05d2\\u05d9\\u05d5\\u05e1 \\u05db\\u05e1\\u05e4\\u05d9\\u05dd \\u05dc\\u05e9\\u05dd\"\n        ],\n        \"semantic_type\": \"\",\n        \"description\": \"\"\n      }\n    },\n    {\n      \"column\": \"word_count\",\n      \"properties\": {\n        \"dtype\": \"number\",\n        \"std\": 5,\n        \"min\": 1,\n        \"max\": 47,\n        \"num_unique_values\": 28,\n        \"samples\": [\n          15,\n          26,\n          4\n        ],\n        \"semantic_type\": \"\",\n        \"description\": \"\"\n      }\n    }\n  ]\n}"
            }
          },
          "metadata": {},
          "execution_count": 169
        }
      ]
    },
    {
      "cell_type": "code",
      "source": [
        "len(df)"
      ],
      "metadata": {
        "colab": {
          "base_uri": "https://localhost:8080/"
        },
        "id": "4BsQytNrmUU2",
        "outputId": "e2a74e0e-8e78-44b9-c46d-ca22f1c1ba7a"
      },
      "execution_count": 170,
      "outputs": [
        {
          "output_type": "execute_result",
          "data": {
            "text/plain": [
              "713"
            ]
          },
          "metadata": {},
          "execution_count": 170
        }
      ]
    },
    {
      "cell_type": "code",
      "source": [
        "pd.set_option('display.max_colwidth', None)\n",
        "df\n",
        "df.to_csv(\"/content/whatsapp_data_clean.csv\", index=False)"
      ],
      "metadata": {
        "id": "pQwW5WXwNLnc"
      },
      "execution_count": 171,
      "outputs": []
    },
    {
      "cell_type": "markdown",
      "source": [
        "# Basic Analysis - After Processing"
      ],
      "metadata": {
        "id": "Tt3UXu1QoHyv"
      }
    },
    {
      "cell_type": "code",
      "source": [
        "# Combine all text into a single string\n",
        "all_words = ' '.join(df['message']).lower()\n",
        "\n",
        "print(\"---------After Text Processing-------\")\n",
        "# Total number of messages\n",
        "total_num_of_data(df)\n",
        "\n",
        "print_word_statistics(df['message'])\n",
        "\n",
        "# Average number of words per message\n",
        "avg_words_per_message(df, 'message')\n",
        "# 5 most frequent words\n",
        "most_frequent_words(df, all_words, 5)\n",
        "# Number of words that only appear once\n",
        "count_of_words_apear_once(df, all_words)"
      ],
      "metadata": {
        "colab": {
          "base_uri": "https://localhost:8080/"
        },
        "id": "HFym7kV1qzbZ",
        "outputId": "6c3c46e9-5035-4741-c86a-d604a4ca9165"
      },
      "execution_count": 172,
      "outputs": [
        {
          "output_type": "stream",
          "name": "stdout",
          "text": [
            "---------After Text Processing-------\n",
            "Total number of messages: 713\n",
            "Total words: 4338\n",
            "Unique words: 1808\n",
            "Average number of words per message: 6.08\n",
            "5 most frequent words:\n",
            "לא: 83\n",
            "התמונה: 81\n",
            "הושמטה: 80\n",
            "זה: 74\n",
            "יש: 72\n",
            "Number of words that only appear once: 1233\n"
          ]
        }
      ]
    },
    {
      "cell_type": "markdown",
      "source": [
        "# **whatapp tokenazition**"
      ],
      "metadata": {
        "id": "JpJRiD6MQhTM"
      }
    },
    {
      "cell_type": "code",
      "source": [
        "start_time = time.time()\n",
        "\n",
        "# Tokenize using NLTK\n",
        "df['nltk_tokens'] = df['message'].apply(word_tokenize)\n",
        "\n",
        "nltk_time = time.time() - start_time\n",
        "print(f\"NLTK tokenization time: {nltk_time} seconds\")\n",
        "print(df['nltk_tokens'].head(10))"
      ],
      "metadata": {
        "id": "bj3QqcvG-I7v",
        "outputId": "131f0f9d-6231-4332-9f2d-2baa53787f7c",
        "colab": {
          "base_uri": "https://localhost:8080/"
        }
      },
      "execution_count": 173,
      "outputs": [
        {
          "output_type": "stream",
          "name": "stdout",
          "text": [
            "NLTK tokenization time: 0.5628550052642822 seconds\n",
            "0                              [הקבוצה, נוצרה, על, ידי, bar, moshe]\n",
            "1     [מישהו, מכיר, מורה, פרטי, למערכות, הפעלה, וגם, ללמידת, מכונה]\n",
            "2                       [מישהו, יודע, איך, להוריד, linux, בmac, m1]\n",
            "3                                                        [לא, צריך]\n",
            "4                       [הטרמינל, של, מאק, הוא, שווה, ערך, ללינוקס]\n",
            "7                                                        [ערב, טוב]\n",
            "8                                      [עד, מתי, יש, היום, לימודים]\n",
            "9                                                              [17]\n",
            "10                                                           [תודה]\n",
            "11                               [מחר, לומדים, כרגיל, או, חצי, יום]\n",
            "Name: nltk_tokens, dtype: object\n"
          ]
        }
      ]
    },
    {
      "cell_type": "code",
      "source": [
        "import time\n",
        "# Using list comprehension to flatten the lists in the 'nltk_tokens' column\n",
        "all_tokens = [token for sublist in df['nltk_tokens'] for token in sublist]\n",
        "\n",
        "print(all_tokens)\n",
        "\n",
        "start_time = time.time()\n",
        "\n",
        "for w in all_tokens:\n",
        "   (w, \" : \", lemmatizer.lemmatize(w, pos='v'))\n",
        "time = time.time() - start_time\n",
        "time"
      ],
      "metadata": {
        "id": "VpB14_r7-s8C",
        "colab": {
          "base_uri": "https://localhost:8080/"
        },
        "outputId": "70f19786-90c1-4e15-f3d5-69f79c21a179"
      },
      "execution_count": 174,
      "outputs": [
        {
          "output_type": "stream",
          "name": "stdout",
          "text": [
            "['הקבוצה', 'נוצרה', 'על', 'ידי', 'bar', 'moshe', 'מישהו', 'מכיר', 'מורה', 'פרטי', 'למערכות', 'הפעלה', 'וגם', 'ללמידת', 'מכונה', 'מישהו', 'יודע', 'איך', 'להוריד', 'linux', 'בmac', 'm1', 'לא', 'צריך', 'הטרמינל', 'של', 'מאק', 'הוא', 'שווה', 'ערך', 'ללינוקס', 'ערב', 'טוב', 'עד', 'מתי', 'יש', 'היום', 'לימודים', '17', 'תודה', 'מחר', 'לומדים', 'כרגיל', 'או', 'חצי', 'יום', 'אין', 'לימודים', 'מחר', 'סגור', 'תודה', 'התמונה', 'הושמטה', 'מישהו', 'מכיר', 'את', 'השגיאה', 'שמופיע', 'פתאום', 'בהרצה', 'של', 'הפרויקט', 'במקבילי', 'לא', 'חושב', 'שזה', 'טעות', 'או', 'שלא', 'ראיתי', 'טוב', 'ואני', 'מתבלבל', 'זה', 'שגיאה', 'זה', 'לא', 'מריץ', 'את', 'הפרויקט', 'פתאום', 'זה', 'קרה', 'לעוד', 'אנשים', '972525757622', 'הודעה', 'זו', 'נמחקה', 'הכל', 'טוב', 'הסתדר', 'זה', 'עובד', 'גם', 'בלי', 'לעשות', 'כלום', 'סליחה', 'פשוט', 'לא', 'מובן', 'לנה', 'מופיע', 'למישהו', 'קרה', 'שלא', 'עבד', 'לו', 'ההרצה', 'על', 'שני', 'מחשבים', 'ועל', 'כל', 'אחד', 'בנפרד', 'כן', 'עובד', 'כן', 'קרה', 'לי', 'אותו', 'דבר', 'בוריס', 'אמר', 'להתעלם', 'תודה', 'זה', 'שגיאה', 'של', 'ה', 'vlab', 'בוריס', 'אמר', 'לא', 'להתייחס', 'התמונה', 'הושמטה', 'החל', 'משבוע', 'הבא', 'בימי', 'שני', 'דינה', 'תעשה', 'לנו', 'את', 'ההגנות', 'לפרוייקטי', 'גמר', 'למה', 'היא', 'לא', 'מודיע', 'מראש', 'בדרך', 'כלל', 'היא', 'אומרת', 'לנו', 'בראשון', 'בלילה', 'אז', 'זה', 'כבר', 'התקדמות', 'למרות', 'שזה', 'הכי', 'טוב', 'שאפשר', 'לקבל', 'מדינה', 'בשעות', '811', 'או', '1417', 'קיבלנו', 'אישור', 'כזה', 'או', 'שמחכים', 'שהמכללה', 'תאשר', 'שאלתי', 'את', 'דינה', 'מבחינתה', 'אין', 'שינוי', 'וזה', 'קורה', 'רגיל', 'ב16', 'נעשה', 'לה', 'הקיץ', 'של', 'אביה', 'התמונה', 'הושמטה', 'התמונה', 'הושמטה', 'יש', 'קבוצת', 'וואטסאפ', 'לc', 'תודהה', 'אה', 'רגע', 'זה', 'לא', 'הקורס', 'של', 'אפרת', 'יש', 'מישהו', 'שעושה', 'cpp', 'עם', 'קרן', 'ואין', 'לו', 'פארטנר', 'לפרוייקט', 'מאיפה', 'אתה', 'יודע', 'יש', 'לי', 'סמינר', 'איתה', 'בימי', 'שני', 'אז', 'היא', 'שאלנו', 'אולי', 'תגידו', 'לה', 'להתחבר', 'לטימס', 'נראה', 'לי', 'היא', 'שכחה', 'שהוא', 'קיים', 'היא', 'שכחה', 'שאנחנו', 'קיימים', 'עם', 'דינה', 'אני', 'בטוח', 'שהיא', 'שכחה', 'את', 'הססמא', 'למייל', 'ששולח', 'סיסמא', 'חדשה', 'לטימס', 'התמונה', 'הושמטה', 'מישהו', 'יודע', 'האם', 'בכל', 'מצב', 'אפשר', 'לבטל', 'בוחן', 'אמצע', 'או', 'שזה', 'מעל', 'ציון', 'עובר', 'או', 'משהו', 'כזה', 'יש', 'מכסה', 'של', 'שלושה', 'בשנה', 'ללא', 'סיבה', 'תודה', 'תופס', 'גם', 'לבוחן', 'אמצע', 'בלמידת', 'מכונה', 'נכון', 'תופס', 'לכל', 'בוחן', 'אמצע', 'שמופיע', 'בלוח', 'המבחנים', 'אש', 'יש', 'ציונים', 'בפרוייקט', 'במחשוב', 'מקבילי', 'באפקה', 'נט', 'הודעה', 'זו', 'נמחקה', 'התמונה', 'הושמטה', 'עוד', 'קצת', 'ודי', 'יש', 'לך', '4', 'נסיונות', 'לבוחן', 'וזה', '20', 'מהציון', 'לא', 'שווה', 'לך', 'לוותר', 'על', 'זה', 'אמורים', 'להיות', '3', 'בחנים', 'בלמידת', 'מכונה', 'לא', 'משום', 'מה', 'זכור', 'לי', 'משהו', 'שזרקו', 'על', 'זה', 'מילה', 'זה', 'לא', 'הולך', 'אחכ', 'למטלות', 'מישהו', 'זוכר', 'מה', 'החלוקה', 'של', 'הציון', 'הסופי', 'במקבילי', '40', '40', '20', 'מטלות', '20', 'כן', 'ממה', 'שזכור', 'לי', 'אין', 'על', 'הסנכרון', 'של', 'אפקה', 'עוד', 'מישהו', 'שהגיש', 'פרוייקט', 'וגם', 'עשה', 'הגנה', 'עם', 'בוריס', 'וקיבל', '1', 'מה', 'קורה', 'עם', 'ההודעות', 'מאפקה', 'אני', 'עוד', 'שניה', 'תובע', 'אותם', 'על', 'ספאם', 'חחחחחחחח', 'זה', 'קיצוני', 'מעל', '10', 'כבר', 'השרת', 'התחיל', 'לשמור', 'שבת', 'נראה', 'ככה', 'איזה', 'טראגי', 'הסר', 'התמונה', 'הושמטה', 'פרסמו', 'בטימס', 'את', 'הקובץ', 'של', 'השיבוץ', 'שעות', 'לבחינה', 'של', 'הפרויקט', 'גמר', 'התמונה', 'הושמטה', 'התמונה', 'הושמטה', 'אפשר', 'לרכוש', 'כרטיסים', 'בלי', 'קשר', 'ליוניק', 'מהקישור', 'הזה', 'אני', 'במקומך', 'הייתי', 'מחכה', 'כי', 'כרגע', 'דינה', 'אמרה', 'שהיא', 'לא', 'קיבלה', 'שום', 'הוראה', 'להזיז', 'את', 'ההצגת', 'פרוייקטים', 'וזה', 'ב16', 'היא', 'תקבל', 'זו', 'תהיה', 'הפסקת', 'לימודים', 'מוגדרת', 'דינה', 'בגדול', 'תצטרך', 'להתיישר', 'איך', 'דואגים', 'שזה', 'יקרה', 'יוציאו', 'לנו', 'הודעה', 'בימים', 'הקרובים', 'התמונה', 'הושמטה', 'מישהו', 'יודע', 'אם', 'יש', 'איך', 'לבדוק', 'במודל', 'כמה', 'פעמים', 'נעדרתי', 'משיעור', 'אין', 'בקורס', 'אנגלית', 'יש', 'נוכחות', 'במודל', 'שאפשר', 'לראות', 'איפה', 'ללחוץ', 'על', 'התמונה', 'בפינה', 'במודל', 'ציונים', 'לבחור', 'את', 'הקורס', 'attendance', 'מחר', 'לימודים', 'כרגיל', 'היום', 'לימודים', 'כרגיל', 'חכה', 'לדקה', 'ה90', 'רק', 'אז', 'יגידו', 'התמונה', 'הושמטה', 'לא', 'נראלי', 'שכדאי', 'לכם', 'שהמחזור', 'שלנו', 'יגיע', 'מוקדם', 'מדי', 'להגיד', 'כרגע', 'עוד', 'אין', 'שינוי', 'אההההה', 'אז', 'בסדר', 'עדיין', 'מוקדם', 'מדי', 'אין', 'שינוי', 'למישהו', 'יש', 'את', 'המייל', 'של', 'דר', 'שהם', 'יקותיאל', 'הוא', 'מעביר', 'קורס', 'כללי', 'שנקרא', 'מאמרי', 'דעה', 'יש', 'אפשרות', 'לשנות', 'משהו', 'בהגדות', 'של', 'הוילאב', 'כדי', 'שיהיה', 'אפשר', 'להעתיק', 'מהוינדוס', 'לוילאב', 'ולהיפך', 'תתחיל', 'ליצור', 'pipe', 'אבאלה', 'יש', 'קבוצה', 'ל', 'c', 'של', 'הסמסטר', 'יצאה', 'סיום', 'לימודים', 'ב1400', 'יש', 'לשחרר', 'סטודנטים', 'בשעה', 'זו', 'מה', 'זה', 'יום', 'סטודנט', 'זה', 'בהקשר', 'של', 'דינה', 'אה', 'סבבה', 'התמונה', 'הושמטה', 'אצלי', 'עובד', 'תקין', 'עם', 'איזה', 'יוזר', 'אתה', 'מתחבר', 'אותו', 'אחד', 'שאני', 'מתחבר', 'לאפקה', 'נט', 'אז', 'רגע', 'אני', 'אנסה', 'להתחבר', 'מהיוזר', 'שלי', 'ולא', 'מהכללי', 'גם', 'האישי', 'מתחבר', 'שלי', 'מישהו', 'שעושה', 'אלגוריתם', 'מתקדם', 'והתחיל', 'את', 'המטלה', 'בשאלה', '1', 'צריך', 'לבנות', 'אלגוריתם', 'עם', 'מכונת', 'מצבים', 'למישהו', 'יצא', 'לעשות', 'מרתון', 'כלשהו', 'עם', 'יצחק', 'צוברה', 'התמונה', 'הושמטה', 'חברים', 'יש', 'פה', 'סקר', 'עם', '3', 'שאלות', 'קצרות', 'למישהו', 'יש', 'את', 'המייל', 'של', 'דוד', 'שטטר', 'אני', 'צריך', 'עוד', '2', 'תגובות', 'זה', 'היה', 'מהיר', 'תודה', 'stattergmailcom', 'מישהו', 'פה', 'לומד', 'עם', 'שלום', 'מנדל', 'אתיקה', 'בהנדסת', 'תוכנה', 'דחוף', 'לשאלה', 'קטנה', 'קטנה', 'אני', 'מה', 'זה', 'השטיח', 'המעופף', 'הנדסה', 'מדמח', 'איפה', 'רשום', 'שם', 'תאריך', 'אין', 'לי', 'מושג', 'זה', 'של', 'הנדסה', 'אנחנו', 'אולי', 'יכולים', 'לצפות', 'לאיזה', 'פוסט', 'מוסתר', 'בלינקדין', 'של', 'אפקה', 'בסוף', 'הכל', 'זה', 'כסף', 'הכנס', 'ב16', 'תגיד', 'לה', 'שהיא', 'חייבת', 'לעדכן', 'אותנו', 'בטימס', 'זה', 'לא', 'עובד', 'ככה', 'שמי', 'שנמצא', 'בקורס', 'אחר', 'מקבל', 'עדכונים', 'וצריך', 'להעביר', 'את', 'זה', 'לכולם', 'א', 'אתה', 'צודק', 'לגמרי', 'מנדבת', 'הכנס', 'לא', 'חובה', 'בכל', 'מקרה', 'כנס', 'הצגת', 'פרויקטי', 'גמר', 'למה', 'לא', 'חובה', 'לפי', 'מה', 'שהיא', 'אמרה', 'בפגישה', 'הזאת', 'שהיא', 'עשתה', 'בטימס', 'חובה', 'להיות', 'לא', 'חובה', 'להציג', 'או', 'משהו', 'כזה', 'לא', 'ממה', 'שאני', 'הבנתי', 'היא', 'ממש', 'רוצה', 'שנבוא', 'אבל', 'זה', 'לא', 'חובה', 'אלא', 'אם', 'היא', 'תכתוב', 'הודעה', 'מסודרת', 'שזה', 'מוריד', 'ציון', 'אני', 'לא', 'מתכוון', 'לבוא', 'בכל', 'מקרה', 'חחח', 'אני', 'הבנתי', 'ממנה', 'שזה', 'חובה', 'מקווה', 'שהבנתי', 'לא', 'נכון', 'תערוכת', 'פרויקטי', 'גמר', 'תוכנה', 'מדמח', 'מתי', 'זה', 'מישהו', 'יודע', 'התמונה', 'הושמטה', 'זה', 'הנדסה', 'לא', 'כתוב', 'גם', 'מדעי', 'המחשב', 'gif', 'הושמט', 'מה', 'למישהו', 'יש', 'את', 'המייל', 'של', 'דינה', 'גורן', 'בר', 'dianagafekaacil', 'כן', 'תודה', 'הלוואי', 'שהיא', 'פשוט', 'תוציא', 'הודעה', 'מסודרת', 'gif', 'הושמט', 'מיותר', 'לשלוח', 'אין', 'לי', 'ברירה', 'אחרת', 'בכל', 'הפלטפורמות', 'היא', 'לא', 'זמינה', 'למישהו', 'יש', 'את', 'תרגיל', '3', 'במודלים', 'אין', 'בדריב', 'אין', 'למטלה', '3', 'לא', 'תרגיל', '3', 'תכנותי', 'אאאה', 'השיט', 'הזה', 'אני', 'אחפש', 'אצלי', 'כשאגיע', 'לבית', 'אבל', 'היה', 'חסר', 'אצלי', 'משהו', 'אז', 'קיבלתי', '90', 'אם', 'זה', 'מתאים', 'לך', 'תחפש', 'בגיט', 'למחפשי', 'עבודה', 'ראשונה', 'בתחום', 'אבטחת', 'מידע', '0502131926', 'אין', 'לי', 'שום', 'קשר', 'למשרה', 'מישהו', 'עשה', 'את', 'תרגיל', '3', 'באלגוריתם', 'מתקדם', 'אם', 'למישהו', 'יש', 'חומר', 'מודפס', 'במחשוב', 'מקבילי', 'או', 'בקומפלציה', 'אני', 'ממש', 'אשמח', 'מכתב', 'לסטודנטים', 'מדעי', 'המחשב', 'הנחיות', 'אחרונות', 'לקראת', 'התערוכהdocx', 'מסמך', 'הושמט', 'מישהו', 'הבין', 'אם', 'ההצגה', 'הזאת', 'היא', 'חובה', 'ממה', 'שרשום', 'אני', 'מבין', 'שכן', 'מה', 'חחחח', 'התמונה', 'הושמטה', 'למי', 'שרלוונטי', 'לה', 'queenb', 'פותחות', 'מיונים', '972546561465', 'בהצלחה', 'נסיכה', 'gif', 'הושמט', 'יש', 'מרתון', 'במודלים', 'חישוביים', 'התמונה', 'הושמטה', 'התמונה', 'הושמטה', 'שלוש', 'שנים', 'אני', 'לומד', 'באפקה', 'וכל', 'המסיבות', 'יוצאות', 'על', 'יום', 'רביעי', 'כשאני', 'לא', 'לומד', 'ברביעי', 'לא', 'רק', 'אתה', 'אח', 'מי', 'שבמכללה', 'שתדעו', 'שיש', 'חסימות', 'ליד', 'קניון', 'איילון', 'בגלל', 'מרוץ', 'רמת', 'גן', 'שתדעו', 'לפני', 'שאתם', 'נוסעים', 'הביתה', 'אשרייךך', 'מישהו', 'יודע', 'למה', 'פתחו', 'עוד', 'בוחן', 'בלמידת', 'מכונה', 'למי', 'שעבר', 'את', 'ההגנה', 'של', 'הפרוייקט', 'עם', 'דינה', 'היא', 'ביקשה', 'לראות', 'את', 'הדאטה', 'סט', 'לא', 'מישהו', 'ניתקל', 'בבעיה', 'שmatplotlib', 'לא', 'עובד', 'ספציפית', 'בגופיטר', 'בכל', 'מקום', 'אחר', 'עובד', 'בגופיטר', 'לא', 'עובד', 'אפילו', 'במחברות', 'שפעם', 'עבד', 'בהם', 'עידכון', 'לגירסה', 'של', 'הכל', 'גם', 'לא', 'עוזר', 'תוסיף', 'matplotlib', 'inline', 'איפה', 'דינה', 'מקבלת', 'על', 'הפרויקט', 'באיזה', 'חדר', 'לנו', 'זה', 'היה', 'למעלה', 'בסגל', 'בפיקוס', 'בחדר', 'מורים', 'כזה', 'וכמה', 'זמן', 'כל', 'אחד', 'בערך', 'חצי', 'שעה', '40', 'דקות', 'בלי', 'נדר', 'מי', 'קבוצה', 't9', 'שמציגה', 'היום', 'ב1600', '307', 'התמונה', 'הושמטה', 'יש', 'קבוצה', 'לשפות', 'תכנות', 'תגידו', 'יום', 'ראשון', 'הצגת', 'הפרויקטיפ', 'זה', 'חובה', 'אם', 'לא', 'רוצים', 'להציג', 'על', 'פי', 'מה', 'שדינה', 'אמרה', 'זה', 'חובה', 'אני', 'דווקא', 'הבנתי', 'שזה', 'לא', 'במחלקות', 'אחרות', 'הבנתי', 'שרק', 'פרוייקטים', 'מצטיינים', 'מציגים', 'איך', 'יהיה', 'מקום', 'לפרוייקטים', 'של', '3', 'מחלקות', 'בפיקוס', 'יש', 'אולי', '40', 'עמדות', 'בחוץ', 'ממש', 'שאני', 'שומע', 'ונראה', 'שדינה', 'היחידה', 'שהולכת', 'להיות', 'שם', 'היא', 'והפוסטרים', 'ממה', 'לא', 'הוציאו', 'ממש', 'הבהרה', 'בנושא', 'ושינו', 'את', 'התאריך', 'בהתראה', 'קצרה', 'מדי', 'ולחלקנו', 'זה', 'נפל', 'על', 'דברים', '972549732210', '97237688699', 'מול', 'מי', 'אפשר', 'לברר', 'את', 'הסיפור', 'הפרויקטור', 'של', 'המחלקה', 'כלומר', 'דינה', 'חחחחחחחח', 'סליחה', 'שאין', 'לי', 'תשובה', 'טובה', 'יותר', 'אני', 'לא', 'בטוח', 'כמה', 'זה', 'מחובר', 'למינהלת', 'הפרויקטים', 'הרי', 'ברור', 'שבכל', 'פלטורמה', 'שנפנה', 'אליה', 'כרגע', 'הפעם', 'הבאה', 'שתענה', 'תהיה', 'ביום', 'ראשון', 'פרונטלית', 'בהצגה', 'של', 'הפרויקטים', 'יום', 'ראשון', 'הגזמת', 'מינימום', 'חמישי', 'הבא', 'בהתחלה', 'אמרו', 'שמציגים', 'את', 'כל', 'הפוסטרים', 'אבל', 'לא', 'חייב', 'להגיע', 'ולעמוד', 'פיזית', 'ליד', 'הפוסטר', 'משום', 'מקום', 'התחילה', 'לרוץ', 'הודעה', 'שחייב', 'להגיע', 'התמונה', 'הושמטה', 'מה', 'המחירים', 'שהיו', 'לפני', 'בקובץ', 'בsubmission', 'מישו', 'יש', 'מושג', 'למה', 'אני', 'מנסה', 'לפתוח', 'local', 'serverbased', 'database', 'ב', 'vs', '2022', 'net', 'windows', 'form', 'אני', 'מקבל', 'את', 'השגיאה', 'הבאה', 'התמונה', 'הושמטה', 'פתחת', 'פורט', 'לשרת', 'אם', 'איזה', 'שרת', 'ניסית', 'להתחבר', 'לעוד', 'מישהו', 'הוילאב', 'קצת', 'תקוע', 'וואלה', 'זה', 'הדבר', 'היחיד', 'שפתוח', 'לי', 'במחשב', 'והמחשב', 'חזק', 'והאינטרנט', 'אחלה', 'וזה', 'לא', 'זז', 'מישהו', 'שעשה', 'סמינר', 'עם', 'דינה', 'כן', 'טוב', 'חברים', 'מישהו', 'השיג', 'תשובות', 'חובה', 'או', 'לא', 'חובה', 'מרגיש', 'כאילו', 'אני', 'לפני', 'מסע', 'בטירונות', 'אני', 'הבנתי', 'מדינה', 'שזה', 'חובה', 'אבל', 'לא', 'ראיתי', 'את', 'זה', 'כתוב', 'בשום', 'מקום', 'אני', 'יודע', 'שדינה', 'העבירה', 'רשימת', 'שמות', 'של', '27', 'צוותים', 'שאמורים', 'להציג', 'איפה', 'רואים', 'את', 'זה', 'שמונה', 'שעות', 'עומדים', 'ומציגים', 'איך', 'זה', 'עובד', 'מה', 'זה', 'החרא', 'הזה', 'אני', 'לא', 'יודע', 'בזמני', 'התערוכה', 'לא', 'הייתה', 'קיימת', 'כי', 'הייתה', 'קורונה', 'אני', 'רק', 'יודע', 'שיש', '27', 'צוותים', 'שנשלחו', 'למינהלת', 'הפרויקטים', 'כי', 'זה', 'מה', 'שניר', 'אמר', 'לי', 'לפני', 'חודש', 'בעפ', 'כששאלתי', 'אותו', 'על', 'זה', 'משהו', 'באים', 'סקאוטרים', 'ממיקרוסופט', 'אז', 'תגיעו', 'בואו', 'נעשה', 'צאווזי', 'חחחחחחחח', 'רמת', 'אמינות', 'סנסור', 'זה', 'entity', 'סטיקר', 'הושמט', 'סטיקר', 'הושמט', 'יש', 'ציונים', 'על', 'הפרויקטים', 'דינה', 'לא', 'אמרה', 'שיהיו', 'ישר', 'אחרי', 'הקבוצה', 'האחרונה', 'מאמין', 'שיש', 'לנו', 'איזה', 'חודשיים', 'ככה', 'בכיף', '27', 'צוותים', 'זה', 'כולם', 'נראה', 'לי', 'חח', 'זה', '3', 'עד', '7', 'כתוב', 'שצריך', 'להגיע', 'ב13', 'כנראה', 'להתארגן', 'על', 'העמדה', 'או', 'משהו', 'מישהו', 'עושה', 'חדוא', '2', 'ורוצה', 'ללמוד', 'ביחד', 'סטודנטים', 'יקרים', 'מקפיץ', 'לטובת', 'הכלל', 'השבוע', 'בזמן', 'אפקה', 'נציגת', 'ביטוח', 'לאומי', 'תסביר', 'בזום', 'מי', 'זכאי', 'להכרה', 'בנכות', 'ולשיקום', 'מקצועי', 'ניתן', 'לקבל', 'סיוע', 'כגון', 'מימון', 'שנת', 'לימודים', 'ובמקרים', 'מסויימים', 'גם', 'את', 'כל', 'שנות', 'הלימודים', 'ותשלומים', 'נוספים', 'התמונה', 'הושמטה', 'אחרי', 'דינה', 'כולנו', 'צריכים', 'הכרה', 'ושיקום', 'מקצועי', 'רלוונטי', 'למישהו', 'פה', 'מלגות', 'שנפתחות', 'והדקנאט', 'מפרסם', 'להעביר', 'בקבוצות', 'אתם', 'שנה', 'אחרונה', 'ולא', 'בא', 'לי', 'להספים', 'אתכם', 'סתם', 'למישהו', 'יש', 'את', 'המייל', 'של', 'שלום', 'מנדל', 'במקרה', 'למה', 'אוהד', 'עושה', 'אצלו', 'בסיסי', 'נתונים', 'צריך', 'לשלוח', 'ובאפקה', 'נט', 'אין', 'לו', 'מייל', 'משתתף', 'בצערך', 'mendelafekaacil', 'קיבלתי', 'שיהיה', 'למי', 'שצריך', 'ממש', 'משתתפת', 'בצערך', 'מישהו', 'עושה', 'שפות', 'תכנות', 'לשאלה', 'קטנה', 'יש', 'למשהו', 'אולי', 'סיכום', 'טוב', 'בלמידת', 'מכונה', 'סיכום', 'יעליpdf', '58', 'דפים', 'מסמך', 'הושמט', 'התמונה', 'הושמטה', 'זה', 'מיועד', 'א', 'או', 'ב', 'מועד', 'א', 'מישהו', 'נמצא', 'בקורס', 'כללי', 'שנקרא', 'ממאמרי', 'דעה', 'לפרקטיקה', 'הודעה', 'זו', 'נמחקה', 'מישהו', 'שעשה', 'פיתוח', 'משחקים', 'בעבר', 'אם', 'זה', 'עדיין', 'רלוונטי', 'דבר', 'איתי', 'אחי', 'כן', 'יש', 'כאן', 'מישהו', 'שעושה', 'קורס', 'כללי', 'עם', 'אבי', 'בלאו', 'הסמסטר', 'תגידווו', 'חברים', 'יש', 'למישהו', 'אולי', 'את', 'המבחן', 'במודלים', 'חישוביים', '2022', 'סמסטר', 'ב', 'מועד', 'ב', 'בלי', 'תשובות', 'אולי', 'לי', 'אני', 'בודק', 'עדיין', 'רלוונטי', 'למי', 'שיש', 'מישהו', 'שניגש', 'מחר', 'למבחן', 'בלמידת', 'מכונה', 'קיבל', 'שיבוץ', 'לכיתה', 'בה', 'הוא', 'נבחן', 'זה', 'קורה', 'באיזור', 'ה4', 'שעות', 'עד', 'שעתיים', 'לפני', 'בחינב', 'לא', 'זה', 'לא', 'כן', 'זה', 'כן', 'עובדתית', 'זה', 'כן', 'זו', 'ההתחייבות', 'מצד', 'מדור', 'בחינות', 'חחחחחחחחח', '3', 'שנים', 'במכללה', 'פתאום', 'זה', 'הנורמה', '9', 'שנים', 'במכללה', 'אני', 'חושב', 'שאני', 'קצת', 'יותר', 'יכול', 'להגיד', 'מה', 'הנורמה', 'תמיד', 'היה', 'יום', 'לפני', 'בלחץ', 'ערב', 'לפני', 'מסתבר', 'שזה', 'היה', 'פנטזיה', 'אני', 'פשוט', 'ממש', 'מרגיש', 'מוכן', 'ובטוח', 'בעצמי', 'לקראת', 'המבחן', 'מחר', 'אז', 'אני', 'סקרן', 'מבין', 'ההתחייבות', 'של', 'מדור', 'בחינות', 'היא', 'לפרסם', 'את', 'זה', 'לכל', 'המאוחר', 'שעתיים', 'לפני', 'הבחינה', 'זה', 'שיצא', 'לא', 'מעט', 'שזה', 'עלה', 'גם', 'לפני', 'כן', 'לא', 'אומר', 'שזה', 'הכלל', 'יש', 'חומר', 'פתוח', 'במבחן', 'של', 'בסיסי', 'נתונים', 'הסמסטר', 'כן', 'בלי', 'הגבלה', 'הודעה', 'זו', 'נמחקה', 'הודעה', 'זו', 'נמחקה', 'יש', 'למישהו', 'את', 'המבחנים', 'של', '2021', 'סמסטר', 'ב', 'ויכול', 'לשלוח', 'בבקשה', 'מישהו', 'יכול', 'לשלוח', 'בבקשה', 'את', 'המבחנים', 'של', 'קומפלציה', 'סמסטר', 'קודם', 'מנושא', '10334', 'קומפילציה', 'מועד', '2zip', 'מסמך', 'הושמט', 'זה', 'המועד', 'ב', 'בנים', 'זכרים', 'עוד', 'השנה', 'אמן', 'תגידו', 'החניה', 'ליד', 'הקריה', 'היא', 'כחול', 'לבן', 'או', 'שלא', 'צריך', 'שם', 'פנגו', 'שואל', 'סטודנט', 'שנה', 'שלישית', 'שלא', 'בא', 'עם', 'רכב', 'למכללה', 'אף', 'פעם', 'בחניה', 'של', 'הקריה', 'לא', 'בכביש', 'ליד', 'כן', 'ואל', 'תחנה', 'אחרי', '17', 'בחניה', 'של', 'הקריה', 'במקומות', 'שצמוד', 'לכביש', 'ליד', 'מסתבר', 'שאסור', 'מזתומרת', 'תראה', 'אם', 'זה', 'חניה', 'עד', '17', 'בתשלום', 'ואחכ', 'לתושבי', 'האיזור', 'או', 'שזה', 'עד', '19', 'בתשלום', 'ואחכ', 'בחינם', 'במתחם', 'של', 'הקריה', 'איפה', 'שהחניה', 'הגדולה', 'לא', 'ברחובות', 'ליד', 'הכוונה', 'ליד', 'מפט', 'וכאלה', 'סבבה', 'תודה', 'מישהו', 'יודע', 'כמה', 'עולה', 'להדפיס', 'במדפסות', 'בפיקוס', 'הדפסתי', 'רביעי', 'שעבר', 'איזה', '20', 'דפים', 'יצא', 'פחות', 'מ5', 'שקל', 'מישהו', 'שעושה', 'עם', 'מריה', 'אלגוריתם', 'מתקדם', 'ויודע', 'אם', 'היא', 'אמרה', 'משהו', 'על', 'איך', 'יהיה', 'בנוי', 'המבחן', 'איציק', 'כותב', 'את', 'המבחן', '3233', 'שאלות', 'אמריקאיות', 'שאלה', 'אחת', 'פתוחה', 'תודה', 'רבה', 'תבורכי', 'שלא', 'תדעו', 'עוד', 'צער', 'למה', 'ככה', 'הוא', 'דווקא', 'כותב', 'הוגן', 'השאלות', 'שלו', 'לא', 'קשות', 'תגידו', 'מה', 'הדיבור', 'לגבי', 'ציונים', 'בפרויקט', 'גמר', 'יש', 'לה', 'איזשהו', 'דדליין', 'או', 'שהיא', 'יכולה', 'למשוך', 'אותנו', 'עד', 'שנה', 'הבאה', 'כשתבוא', 'לזרוק', 'את', 'הכובע', 'בטקס', 'הענקת', 'תארים', 'אני', 'מאמין', 'שתקבל', 'מייל', 'עם', 'ציון', 'לא', 'לפני', 'בפרויקטי', 'גמר', 'הדדליין', 'הוא', 'באוקטובר', 'אבל', 'ההגשה', 'כבר', 'היתה', 'במאי', 'אז', 'עד', 'אוקטובר', 'כן', 'זה', 'דרך', 'מינהלת', 'הפרויקטים', 'ככה', 'זה', 'עובד', 'חחח', 'אז', 'אין', 'תואר', 'עד', 'אוקטובר', 'גם', 'ככה', 'הטקס', 'הוא', 'רק', 'בדצמבר', 'או', 'ינואר', 'והבחינות', 'האחרונות', 'השנה', 'הם', 'באוקטובר', 'כן', 'אבל', 'אפשר', 'להוציא', 'טופס', 'זכאות', 'התמונה', 'הושמטה', 'קשה', 'לדעת', 'עם', 'דינה', 'ההודעה', 'נערכה', 'היא', 'אמרה', 'יום', 'ראשון', 'לא', 'אמרה', 'איזה', 'ראשון', 'בוקר', 'טוב', 'מישהו', 'שלומד', 'סטטיסטיקה', 'הסמסטר', 'יודע', 'אם', 'המבחן', 'חומר', 'פתוח', 'או', 'עם', 'נוסחאות', 'ואם', 'נוסחאות', 'אז', 'איזה', 'מישהו', 'יודע', 'איך', 'אפשר', 'להחזיר', 'את', 'המודל', 'לגרסה', 'הישנה', 'מאיזה', 'בחינה', 'לחזור', 'לקורסים', 'של', 'סמסטר', 'קודם', 'או', 'שיראה', 'כמו', 'המודל', 'הקודם', 'הם', 'עשו', 'עדכון', 'למודל', 'נכון', 'מה', 'אתה', 'רוצה', 'לעשות', 'התמונה', 'הושמטה', 'תלחץ', 'שם', 'יעביר', 'אותך', 'למודל', 'הקודם', 'עם', 'הקורסים', 'שלך', 'מישהו', 'שעשה', 'הסמסטר', 'c', 'לעזרה', 'קטנה', 'היי', 'מישהו', 'יודע', 'אפ', 'יש', 'קבוצה', 'ל', 'c', 'הסמסטר', 'מישהו', 'עשה', 'סמסטר', 'קודם', 'מערכות', 'הפעלה', 'או', 'עושה', 'הסמסטר', 'לא', 'יאומן', 'אבל', 'יש', 'ציונים', 'על', 'הפרוייקטי', 'גמר', '2', 'ביולי', 'אחי', 'ההודעה', 'נערכה', 'כאילו', 'לא', '1', 'באפריל', 'אחרי', 'שהסיוט', 'הזה', 'נגמר', '972549732210', 'יש', 'איזשהו', 'דדליין', 'לציונים', 'על', 'הסמינרים', 'איך', 'זה', 'עובד', 'שם', 'חודש', 'אחרי', 'ההגה', 'שלו', 'בעקרון', 'יש', 'מי', 'שדואג', 'שזה', 'יאכף', 'אם', 'מי', 'צריך', 'לדבר', 'על', 'זה', 'מישהו', 'נמצא', 'מחר', 'בבוקר', 'ב8', 'במכללה', 'ויש', 'לו', 'יוזר', 'להדפיס', 'במדפסות', 'במכללה', 'מתי', 'מתחיל', 'סמסטר', 'קיץ', 'שני', 'מחר', 'מחר', 'סמסטר', 'לא', 'מתחיל', 'ביום', 'שהוא', 'לא', 'יום', 'ראשון', 'הודעה', 'זו', 'נמחקה', 'למישהו', 'יש', 'במקרה', 'מייל', 'של', 'גדי', 'איזה', 'מהשניים', 'אה', 'קומפילציה', 'ואם', 'יש', 'עוד', 'אנשים', 'שבמקרה', 'קיבלו', '0', 'על', 'חלק', 'מההגשות', 'אפילו', 'שהם', 'הגישו', 'gadipafekaacil', 'מחפשת', 'אייפד', 'יד', 'שניה', 'אם', 'מישהו', 'מוכר', 'מישהו', 'מכירעשה', 'יודע', 'את', 'הקורס', 'בחירה', 'מערכות', 'סייבר', 'פיזיקליות', 'לשאלה', 'דחופה', 'זה', 'קורס', 'חדש', 'לפי', 'מה', 'שאני', 'יודע', 'אולי', 'אני', 'טועה', 'יש', 'מישהו', 'שנרשם', 'לזה', 'בקיץ', 'לא', 'טועה', 'מישהו', 'במקרה', 'יודע', 'אם', 'יש', 'קבוצה', 'לקורס', 'c', 'סמסטר', 'ב', 'או', 'מכיר', 'מישהו', 'שנה', 'ב', 'מתוכנה', 'ויכול', 'לשאול', 'אותו', 'מישהו', 'עושה', 'c', 'והציג', 'את', 'הפרוייקט', 'כבר', 'לשאלה', 'קטנה', 'אם', 'מישהוי', 'יודע', 'על', 'שותף', 'שעוזבחדר', 'שמתפנה', 'בקרבת', 'המכללה', 'אני', 'אשמח', 'לדעת', 'בפרטי', 'יש', 'קבוצה', 'לבסיסי', 'נתונים', 'אורקל', 'לסמסטר', 'אם', 'מישהו', 'צריך', 'בהזדמנות', 'זאת', 'אשאל', 'אם', 'יש', 'קבוצה', 'לאסמבלי', 'שימו', 'לב', 'התמונה', 'הושמטה', 'מישהו', 'עושה', 'את', 'הקורס', 'היזמים', 'ששינו', 'את', 'העולם', 'בסמסטר', 'קיץ', 'מישהו', 'עושה', 'מועד', 'ב', 'במחשוב', 'איזה', 'קור', 'הוא', 'העביר', 'ממה', 'שאני', 'מכיר', 'היו', 'עוד', 'במהלך', 'השנים', 'אותי', 'הוא', 'לימד', 'לינוקס', 'סמסטר', 'שעבר', 'מישהו', 'נימצא', 'לייד', 'עירית', 'יש', 'למישהו', 'סיכום', 'ללינארית', '2', 'מישהו', 'יודע', 'איך', 'קובעים', 'פגישה', 'עם', 'דוד', 'פייטלסון', 'הראש', 'חוג', 'הולכים', 'למעלה', 'ודופקים', 'בדלת', 'או', 'ששולחים', 'מייל', 'או', 'פניה', 'לראשי', 'מחלקות', 'ההודעה', 'נערכה', 'כן', 'צריכה', 'אותו', 'פנים', 'אל', 'פנים', 'או', 'לתפוס', 'אותו', 'בפיקוס', 'בזמן', 'אוכל', 'הודעה', 'זו', 'נמחקה', 'מישהו', 'במקרה', 'דיבר', 'עם', 'גדי', 'על', 'הציונים', 'של', 'ההגשות', 'והוא', 'ענה', 'לועדכן', 'לא', 'את', 'הציון', 'למישהו', 'האתר', 'של', 'האגודה', 'עובד', 'העלו', 'באינסטגרם', 'שיש', 'בעיה', 'להתנתק', 'מהוייפיי', 'סבבה', 'תודה', 'הודעה', 'זו', 'נמחקה', 'מישהו', 'מכיר', 'את', 'המרצה', 'פסטרנק', 'טל', 'לא', 'שמעתי', 'עליו', 'בחיים', 'מרצה', 'חדש', 'ממה', 'שידוע', 'לי', 'אמת', 'גם', 'הקורס', 'חדש', 'הוא', 'מלמד', 'גם', 'באוניברסיטה', 'העברית', 'את', 'אותו', 'הקורס', 'איזה', 'קורס', 'הוא', 'מלמד', 'מערכות', 'סייבר', 'פיזיקליות', 'יש', 'למישהו', 'את', 'הסילבוס', 'של', 'הקורס', 'שניה', 'אני', 'אחפש', 'הוא', 'שלח', 'לי', 'פעם', 'סילבוסpdf', '4', 'דפים', 'מסמך', 'הושמט', 'תודות', 'סקר', 'נראלי', 'שווה', 'לשאול', 'אולי', 'שנה', 'א', 'ירון', 'גם', 'שם', 'שואלים', 'אח', 'למישהו', 'גדי', 'ענה', 'על', 'ערעור', 'במקרה', 'קומפילציה', 'מחכה', 'שיענה', 'לי', 'למייל', 'מתחילת', 'שבוע', 'כן', 'לי', 'לוקח', 'לו', 'זמן', 'למישהו', 'יש', 'את', 'המבחן', 'של', 'אלגוריתם', 'מתקדם', 'במועד', 'א', 'yedionzipfile0168701357zip', 'מסמך', 'הושמט', 'מישהו', 'התחיל', 'את', 'הפרויקט', 'במקבילי', 'לכמה', 'שאלות', 'למישהו', 'יש', 'את', 'המספר', 'במקרה', 'של', 'שירה', 'המתרגלת', 'בלמידת', 'מכונה', 'כרטיס', 'איש', 'קשר', 'הושמט', 'מתי', 'נפתחת', 'הרשמה', 'לשנה', 'הבאה', 'חודש', 'לפני', 'הסמסטר', 'בערך', '972549732210', 'לימודים', 'כרגיל', 'מחר', 'תמיד', 'שואלים', 'ותמיד', 'זה', 'כן', 'כל', 'עוד', 'לא', 'שלחו', 'הודעה', 'מהמכללה', 'זה', 'רגיל', 'זה', 'חריג', 'שבמצב', 'שהולך', 'להיות', 'מחר', 'מאלצים', 'אותנו', 'להגיע', 'זה', 'היה', 'גם', 'שבוע', 'שעבר', 'זה', 'לא', 'אותו', 'דבר', 'בדיוק', 'אותו', 'דבר', 'ללא', 'שינוי', 'זה', 'הולך', 'להיות', 'יותר', 'גדול', 'ממה', 'שהיה', 'בשבוע', 'שעבר', 'ועדיין', 'מצד', 'נשיא', 'המכללה', 'אין', 'שינוי', 'חחחחח', 'איך', 'אמורים', 'להגיע', 'למכללה', 'מישהו', 'יודע', 'קורקינט', 'חשמלי', 'רגיל', 'אין', 'הפגנות', 'כל', 'כך', 'כרגע', 'לוח', 'הפגנות', 'מלא', 'לפי', 'שעות', 'מוזמנים', 'להתעדכן', 'תודה', 'התמונה', 'הושמטה', '972528691500', 'זה', 'הסטאר', 'שלכם', 'התמונה', 'הושמטה', 'הודעה', 'זו', 'נמחקה', 'מישהו', 'יודע', 'לאן', 'אפשר', 'להעביר', 'הלאה', 'מליון', 'סיכומים', 'שנאספו', 'ונכתבו', 'לאורך', 'התואר', 'ומי', 'אחראי', 'על', 'הדרייב', 'לדעתי', 'עדיין', 'דימיטרי', 'אחראי', 'על', 'הדרייב', 'אפשר', 'לבדוק', 'איתו', 'ובאותה', 'הזדמנות', 'להגיד', 'לו', 'לתת', 'הרשאה', 'למישהו', 'מהחברה', 'שפותח', 'עוד', 'שנה', 'שלפחות', 'יהיה', 'מישהו', 'אחראי', '972526345354', 'דרייב', 'חומרי', 'לימוד', 'בין', 'חברים', 'בפייסבוק', 'אני', 'לא', 'יודעת', 'אם', 'עוד', 'יש', 'לי', 'גישה', 'לערוך', 'אני', 'יכולה', 'לבדוק', 'תודה', 'לכם', 'תוך', 'כמה', 'זמן', 'מסוף', 'הסמסטר', 'אמורים', 'לקבל', 'ציון', 'בקורס', 'שאין', 'בו', 'מבחן', 'חודש', 'מיום', 'הגשת', 'הפרויקט', 'וכשזה', 'לא', 'קורה', 'מה', 'עושים', 'מדובר', 'כמובן', 'בסמינר', 'מדמח', 'עם', 'דינה', 'מחכים', 'מדור', 'בחינות', 'רודף', 'אחריה', 'תודה', 'אפשר', 'גם', 'לשלוח', 'למנהל', 'הסטודנטים', 'פנייה', 'והם', 'יסננו', 'אותך', 'ליותר', 'משבוע', 'יש', 'למישהו', 'את', 'מבחן', 'מועד', 'א', 'של', 'ארכיטקטורהאסמבלי', 'התמונה', 'הושמטה', 'לא', 'יאמן', 'שסיימנו', 'תואר', 'ודינה', 'עדיין', 'מרצה', 'במכללה', 'פרוטקשין', 'אל', 'תדאג', 'היא', 'יוצאת', 'לפנסיה', 'עוד', 'רגע', 'לא', 'יודע', 'למה', 'אני', 'מחכה', 'יותר', 'לזה', 'או', 'לציונים', 'בסלולאר', 'אני', 'מקווה', 'שהשבוע', 'אשב', 'לסגור', 'הכל', 'עם', 'גיא', 'מישהו', 'יודע', 'אם', 'כבר', 'פתחו', 'את', 'המערכת', 'למועדים', 'מיוחדים', 'ואם', 'לא', 'מתי', 'זה', 'יקרה', 'רק', 'אחרי', 'כל', 'ציוני', 'הבחינות', 'של', 'הסמסטר', 'זה', 'לא', 'יכול', 'לקרות', 'לפני', 'הם', 'צריכים', 'לוודא', 'שלא', 'ניגשתם', 'ללפחות', 'מועד', 'אחד', 'תודה', 'מי', 'שהיה', 'במקבילי', 'בסמסטר', 'האחרון', 'וכתב', 'את', 'הפרויקט', 'עם', 'mpiopenmp', 'לשאלה', 'בפרטי', 'עשית', 'קודא', 'שקרן', 'עשיתי', 'הכל', 'מישהו', 'מכיר', 'אולי', 'אפשרות', 'לשליחה', 'אוטומטית', 'של', 'הודעה', 'אם', 'מתקשרים', 'אליי', 'ואני', 'לא', 'זמין', 'כמו', 'עקוב', 'אחריי', 'כזה', 'אבל', 'ששולח', 'הודעה', 'תיאור', 'הקבוצה', 'שונה', 'על', 'ידי', 'heelee', 'היי', 'ריכזתי', 'את', 'כל', 'הקישורים', 'של', 'קבוצות', 'הוואטסאפ', 'של', 'קורסים', 'במקום', 'אחד', 'במקום', 'להצטרך', 'לשאול', 'כל', 'הזמן', 'מישהו', 'מכיר', 'תוכנה', 'להקלטת', 'מסך', 'חינמית', 'תודההה', 'מישהו', 'עושה', 'קורס', 'עם', 'ויקטור', 'הסמסטר', 'גרפיקה', 'ממוחשבת', 'כן', 'תודה', 'אחי', 'הסתדרתי', 'למישהו', 'יש', 'את', 'המספר', 'המייל', 'של', 'ירד', 'קרני', 'yardenkaafekaacil', 'תודה', 'מישהו', 'במקרה', 'עובד', 'או', 'יצא', 'לו', 'לעבוד', 'עם', 'php', 'מישהו', 'פה', 'מתעסק', 'בתכנות', 'עם', 'מק', 'לכמה', 'שאלות', 'כן', 'אחי', 'מישהו', 'התעסק', 'עם', 'uipath', 'studio', 'לכמה', 'שאלות', 'סטודנטים', 'של', 'קורסי', 'קיץ', 'התמונה', 'הושמטה', 'התמונה', 'הושמטה', 'לא', 'קשור', 'לפה', 'אשמח', 'לדעה', 'ממי', 'שכבר', 'עשה', 'כנראה', 'הרוב', 'מבוא', 'להנדסת', 'תוכנה', 'שמואל', 'או', 'יצחק', 'איציק', 'מלמד', 'את', 'זה', 'פעם', 'ראשונה', 'השנה', 'דינה', 'הכי', 'טוב', 'דינה', 'כבר', 'לא', 'מלמדת', 'ניראלי', 'חחח', 'שמואל', 'חד', 'וחלק', 'לא', 'אופציה', 'יותר', 'יום', 'אבל', 'לאומי', 'לכל', 'סטודנט', 'בישראל', 'מצטרף', 'שתהיה', 'ברכה', 'על', 'ראשכם', 'שמואל', 'חמוד', 'חברים', 'יש', 'היום', 'יומולדת', 'לדן', 'שלנו', 'תאחלו', 'לו', 'מזל', 'טוב', '972526294832', 'מזלל', 'טוב', 'לדןןן', 'מה', 'הוא', 'סיים', 'תואר', 'סטיקר', 'הושמט', 'מזל', 'טוב', 'לדנוסס', 'היקרר', 'הודעה', 'זו', 'נמחקה', 'מזל', 'טובבבבבב', 'סטיקר', 'הושמט', 'תודה', 'רבהה', 'מזל', 'טוב', 'מלך', 'מישהו', 'עשה', 'סמינר', 'במדעי', 'המחשב', 'כן', 'יודע', 'להגיד', 'מבחינת', 'הקושי', 'מה', 'הנוכחות', 'שדרשו', 'כמה', 'זמן', 'בערך', 'לוקח', 'לעבוד', 'על', 'הפרוייקט', 'באיזה', 'שפה', 'דרשו', 'העבודה', 'בקבוצות', 'דרשו', 'נוכחות', 'בערך', '50', 'מהשיעורים', 'כי', 'יש', 'הצגות', 'של', 'הפרויקטים', 'לנו', 'לקח', 'בערך', 'שבועיים', 'לעבוד', 'על', 'זה', 'וזה', 'בפייתון', 'בזוגות', 'מדהים', 'תודה', 'התמונה', 'הושמטה', 'התמונה', 'הושמטה', 'יום', 'ראשון', 'שמח', 'לכל', 'המהנדסים', 'שהם', 'לא', 'רובוטים', 'התמונה', 'הושמטה', 'התמונה', 'הושמטה', 'סרטון', 'הווידאו', 'הושמט', 'אנחנו', 'פותחים', 'קבוצה', 'בשביל', 'המסיבה', 'כדי', 'לא', 'לחפור', 'לכם', 'פה', 'מישהו', 'עשה', 'קורס', 'ראייה', 'ממוחשבת', 'התמונה', 'הושמטה', 'חברים', 'יקרים', 'ובהזדמנות', 'זו', 'אם', 'מישהו', 'מכיר', 'דיגיי', 'תותח', 'במחיר', 'טוב', 'נשמח', 'לשמוע', 'כדי', 'לסגור', 'גם', 'את', 'הפינה', 'הזאת', 'תודהה', 'במבוא', 'להנדסת', 'תוכנה', 'באמת', 'בודקים', 'נוכחות', 'דינה', 'הייתה', 'בודקת', 'שמואל', 'לא', 'בדק', 'ממה', 'שאני', 'זוכר', 'ונגיד', 'שלא', 'בודקים', 'שמות', 'זה', 'קורס', 'שאתם', 'ממליצים', 'להיכנס', 'אליו', 'מבחינת', 'הרמה', 'שלו', 'אה', 'נכון', 'התבלבלתי', 'עם', 'הסמינר', 'לא', 'בודקים', 'נוכחים', 'ואין', 'מה', 'להיכנס', 'בגדול', 'אפשר', 'להסתדר', 'בלי', 'זה', 'מבחן', 'אמריקאי', 'עם', 'חומר', 'פתוח', 'בקטן', 'כל', 'קשר', 'בין', 'החומר', 'למבחן', 'מקרי', 'בהחלט', 'לדעתי', 'מבטלים', 'את', 'זה', 'מהקורסים', 'הבאים', 'למישהו', 'יש', 'דף', 'נוסחאות', 'של', 'c', 'זה', 'לא', 'הכנה', 'עצמית', 'למי', 'שצריך', 'כן', 'יש', 'קבוצת', 'וואטסאפ', 'ל', 'c', 'קיץ', 'של', 'איזה', 'קובצה', 'לא', 'משנה', 'יש', 'לי', 'כמה', 'שאלות', 'אני', 'עושה', 'מועד', 'מיוחד', 'אם', 'מישהו', 'בקורס', 'ויכול', 'לעזור', 'תשלחו', 'לפרטי', 'יש', 'בdescription', 'קישור', 'לעמוד', 'שעשיתי', 'עם', 'קישורים', 'לכל', 'קבוצות', 'הוואטסאפ', 'שפתחו', 'לקורסים', 'בקיץ', 'שבוע', 'טוב', 'חברים', 'סרטון', 'הווידאו', 'הושמט', 'התמונה', 'הושמטה', 'אם', 'היה', 'לי', 'שקל', 'על', 'כל', 'פעם', 'שסטפניה', 'אמרה', 'שהבת', 'שלה', 'בהיריון', 'הייתי', 'יכול', 'לממן', 'את', 'כל', 'האירוע', 'הזה', 'כולל', 'היאכטה', 'תזמין', 'גם', 'את', 'דינה', 'בשביל', 'אמיר', 'של', 'מי', 'אתה', 'חושב', 'היאכטה', 'שלך', 'במימון', 'התמונה', 'הושמטה', 'יש', 'ציונים', 'לפרוייקט', 'במחשוב', 'סמסטר', 'ב', 'בשעה', 'טובה', 'יש', 'כבר', 'מזמן', 'הוא', 'עדין', 'לא', 'אעלה', 'ציון', 'סופי', 'הודעה', 'זו', 'נמחקה', 'התמונה', 'הושמטה', 'למישהו', 'יש', 'בעיה', 'בהתחברות', 'לפורטל', 'אפקה', 'עכשיו', 'צריך', 'לשנות', 'סיסמא', 'עשיתי', 'אתמול', 'אז', 'לא', 'יודע', 'מעבר', 'וואלה', 'התחבר', 'לי', 'דיי', 'מהר', 'ואני', 'במדינה', 'אחרת', 'סודרה', 'הבעיה', 'תודה', 'למישהו', 'יש', 'את', 'הפיתרון', 'של', 'המבחן', 'של', 'אתמול', 'קומפילציה', 'אהלן', 'חברים', 'אני', 'מחפש', 'מתפעלים', 'לגבי', 'ראיונות', 'במשחקי', 'כדורגל', 'וכדורסל', 'באיזור', 'המרכז', 'פתח', 'תקוה', 'חולון', 'תל', 'אביב', 'רמת', 'גן', 'נתניה', 'למישהו', 'יש', 'את', 'המספר', 'או', 'המייל', 'של', 'התמיכה', 'טכנית', 'באפקה', '037688688', 'תודה', 'helpdeskafekaacil', 'מישהו', 'מכיר', 'מורה', 'טוב', 'למערכות', 'הפעלה', 'יוטיוב', 'גוגל', 'אתם', 'אינפורמטיבים', 'לאללה', 'היום', 'מדע', 'מדוייק', 'אחשלי', 'סטודנטיות', 'וסטודנטים', 'יקרות', 'ויקרים', 'התמונה', 'הושמטה', 'מידע', 'על', 'הזכויות', 'של', 'משרתי', 'מילואים', 'בקישור', 'הבא', 'סטודנטיות', 'וסטודנטים', 'יקרות', 'ויקרים', 'לוח', 'מבחנים', 'של', 'סמסטר', 'א', 'גם', 'נדחה', 'בשבוע', 'כל', 'השנה', 'זזה', 'לוח', 'הבחינות', 'איתה', 'אשמח', 'לדבר', 'עם', 'סטודנטים', 'שעשו', 'פרויקט', 'גמר', 'לזיהוי', 'פנים', 'במיידי', 'לצורך', 'פרויקט', 'התנדבותי', 'איתן', 'פורת', 'הקים', 'אתר', 'שמאמת', 'את', 'הקישורים', 'לתרומות', 'כספיות', 'שאנו', 'מרבים', 'לקבל', 'קבוצה', 'שחבר', 'טוב', 'שלי', 'פתח', 'התמונה', 'הושמטה', 'התמונה', 'הושמטה', 'לגדוד', 'של', 'אחי', 'חסר', 'ציוד', 'לחימה', 'הכרחי', 'ונפתחה', 'קבוצה', 'לגיוס', 'כספים', 'לשם', 'בנימה', 'זאת', 'אם', 'יש', 'מישהו', 'יוצא', 'תקשוב', 'שרוצה', 'לעשות', 'מילואים', 'בבית', 'חולים', 'על', 'אזרחי', 'בצפוןדרוםירושלים', 'מוזמנים', 'לפנות', 'אליי', 'בפרטי', 'ההגדרה', 'לאישור', 'הצטרפות', 'לקבוצה', 'על', 'ידי', 'מנהלת', 'הופעלה', 'על', 'ידי', 'tom', 'cohen', 'לאור', 'המצב', 'הודעת', 'עדכון', 'מנשיא', 'המכללה', 'פרופ', 'עמי', 'מויאל', 'ההודעה', 'נמחקה', 'על', 'ידי', 'heelee', 'מנהלת', 'הקבוצה', 'אפשר', 'להפסיק', 'להעביר', 'את', 'ההודעות', 'האלה', 'בקבוצות', 'של', 'התואר', 'בבקשה', 'יש', 'את', 'פיקוד', 'העורף', 'בשביל', 'הודעות', 'כאלה', 'ההודעה', 'נמחקה', 'על', 'ידי', 'heelee', 'מנהלת', 'הקבוצה', 'לא', 'ראיתי', 'מה', 'שלחו', 'אבל', 'למה', 'שתמחקי', 'לאנשים', 'הודעות', 'ההודעות', 'נמחקו', 'בצדק', 'אני', 'הייתי', 'מוחק', 'אותם', 'באותה', 'המידה', 'במקרה', 'הזה', 'אוקיי', 'ההודעה', 'הראשונה', 'הודעת', 'בהלה', 'כל', 'המטרה', 'שלה', 'היה', 'לזרוע', 'בהלה', 'על', 'דברים', 'שאתם', 'גם', 'ככה', 'יודעים', 'יש', 'גבול', 'למה', 'אפשר', 'לכתוב', 'ומה', 'לשלוח', 'בקבוצה', 'זה', 'נכון', 'שהקבוצה', 'היא', 'גם', 'שלכם', 'אבל', 'אין', 'שום', 'סיבה', 'לפרסם', 'בה', 'הודעות', 'שכל', 'מטרתן', 'הוא', 'לזרוע', 'בהלה', 'מעבר', 'למה', 'שכבר', 'קיים', 'בייחוד', 'שיש', 'עשרות', 'גורמים', 'נוספים', 'שקשה', 'להתעלם', 'מהם', 'שמפרסמים', 'את', 'אותה', 'ההודעה', 'ובמקרה', 'הספציפי', 'הזה', 'ההודעה', 'היא', 'אינה', 'הודעה', 'רשמית', 'אלא', 'הודעת', 'שרשרת', 'שמועברת', 'בצורה', 'ספוראדית', 'בדיוק', 'בצורה', 'הזו', 'ההודעה', 'נערכה', 'אנחנו', 'תת', 'ארגון', 'של', 'יוצאי', '8200', 'ו81', 'התמונה', 'הושמטה', 'שלום', 'חברים', 'התמונה', 'הושמטה', 'היי', 'אבא', 'שלי', 'ואנשים', 'בעיר', 'הקימו', 'פלטפורמה', 'לגיוס', 'כספים', 'עבור', 'מקומות', 'שונים', 'בארץ', 'ניתן', 'ליצור', 'קשר', 'עם', 'אחד', 'האנשים', 'שרשומים', 'מטה', 'ולהגיד', 'להם', 'לאן', 'רוצים', 'לתרום', 'קומנדו', 'ההסברה', 'של', 'אגודת', 'הסטודנטים', 'וקהילת', 'הבוגרים', 'של', 'אפקה', 'קורא', 'לכם', 'ולכן', 'לדגל', 'התמונה', 'הושמטה', 'התמונה', 'הושמטה', 'נובההלפ', 'ההתארגנות', 'המדהימה', 'של', 'מטפליםות', 'לסיוע', 'לנפגעים', 'שהיו', 'מסיבת', 'הנובה', 'עורכים', 'מחר', 'שיחת', 'זום', 'לקרובי', 'משפחה', 'וקרובים', 'של', 'הנפגעים', 'התמונה', 'הושמטה', 'היי', 'מי', 'שמעוניין', 'להתנדב', 'בפרוייקט', 'להקמת', 'מערכת', 'לניהול', 'תרומות', 'דם', 'במדא', 'מוזמן', 'לדבר', 'איתי', 'בפרטי', 'סטודנטיות', 'וסטודנטים', 'יקרות', 'ויקרים', 'אהלן', 'חבריםות', 'אשמח', 'לדבר', 'בפרטי', 'עם', 'אנשים', 'שיודעים', 'אם', 'צריך', 'מילואימניקים', 'ליחידה', 'שלהם', 'חמליסטיםמשקים', 'וכו', 'באיזור', 'המרכז', 'סטודנטיות', 'וסטודנטים', 'יקרות', 'ויקרים', 'סטודנטיות', 'וסטודנטים', 'יקרות', 'ויקרים', 'התאחדות', 'הסטודנטים', 'והסטודנטיות', 'הארצית', 'יזמו', 'את', 'מלגת', 'קטיף', 'לאומי', 'במטרה', 'לסייע', 'לחקלאים', 'בקטיף', 'ולצלוח', 'את', 'התקופה', 'המאתגרת', 'הזו', 'התמונה', 'הושמטה', 'קבוצת', 'הריצה', 'של', 'אפקה', 'מזמינה', 'אתכם', 'לאימון', 'ריצה', 'לזכר', 'הנופלים', 'סטודנטיות', 'וסטודנטים', 'יקרות', 'ויקרים', 'התמונה', 'הושמטה', 'הודעה', 'זו', 'נמחקה', 'צהריים', 'טובים', 'מעורבות', 'בקהילהpdf', 'דף', 'אחד', 'מסמך', 'הושמט', 'התמונה', 'הושמטה', 'פרויקטים', 'נז', 'מעורבות', 'חברתית', 'תשפדpdf', '2', 'דפים', 'מסמך', 'הושמט', 'התמונה', 'הושמטה', 'ממש', 'מומלץ', 'גם', 'הפודקאסט', 'שלו', 'מומלץ', 'בטירוף', 'סטודנטים', 'יקרים', 'התמונה', 'הושמטה', 'השימוש', 'בpaybox', 'חינם', 'מכיר', 'את', 'המקור', 'התמונה', 'הושמטה', 'פתיחת', 'שנת', 'הלימודים', 'נדחתה', 'ל311223', 'תאריכי', 'הסמסטרים', 'משתנים', 'בהתאם', 'הודעה', 'עדכנית', 'באפקה', 'נט', 'קול', 'קורא', 'חונכויותpdf', 'דף', 'אחד', 'מסמך', 'הושמט', 'התמונה', 'הושמטה', 'לא', 'ניסיתי', 'עדיין', 'אבל', 'זה', 'אתר', 'של', 'הכנה', 'לראיונות', 'עבודה', 'של', 'מטא', 'פייסבוק', 'קבוצה', 'תורת', 'המידע', 'התמונה', 'הושמטה', 'התמונה', 'הושמטה', 'התמונה', 'הושמטה', 'התמונה', 'הושמטה', 'התמונה', 'הושמטה', 'האם', 'יש', 'אפשרות', 'לקבל', 'אישור', 'לימודים', 'בשפה', 'האנגלית', 'דרך', 'האפקה', 'נט', 'לא', 'אפשר', 'לקבל', 'גליון', 'ציונים', 'באנגלית', 'אם', 'זה', 'עוזר', 'בכלל', 'אני', 'חייב', 'אישור', 'לימודים', 'או', 'שכר', 'לימוד', 'תודה', 'בכל', 'אופן', 'פניה', 'למדור', 'ההכוון', 'האקדמי', 'והם', 'יפיקו', 'לך', 'אחד', 'כזה', 'היי', 'אני', 'חושב', 'ששכחתי', 'את', 'המטען', 'למחשב', 'בקיריה', 'בכיתה', 'ה11', 'איפה', 'זה', 'יכול', 'להיות', 'תודה', 'לעוזרים', 'יש', 'עמדת', 'שומר', 'בכניסה', 'הראשית', 'בני', 'אפרים', 'לא', 'החניה', 'עד', 'מתי', 'היא', 'פתוחה', 'שם', 'אתה', 'יודע', 'בגדול', 'כל', 'עוד', 'המבנה', 'פתוח', 'אמור', 'להיות', 'שם', 'שומר', 'התמונה', 'הושמטה', 'אהלן', 'אנשים', 'אני', 'אנסה', 'את', 'מזלי', 'בקבוצה', 'הזו', 'היי', 'תגידו', 'מישהו', 'שעשה', 'סמינר', 'בלמידה', 'חישובית', 'עם', 'עמית', 'שטקל', 'או', 'אולי', 'עושה', 'עכשיו', 'אם', 'יש', 'כאלה', 'תמליצו', 'בבקשה', 'איך', 'הסמינר', 'איך', 'עמית', 'סמינר', 'עצמו', 'בסדר', 'אז', 'אם', 'אתה', 'עושה', 'אותו', 'תצפה', 'ללמוד', 'לא', 'מעט', 'לבד', 'מיוטיוב', 'ההודעה', 'נערכה', 'תודה', 'רבה', 'אחי', 'מישהו', 'יודע', 'אם', 'יש', 'תקלה', 'בכניסה', 'לאפקה', 'נט', 'התמונה', 'הושמטה', 'התמונה', 'הושמטה', 'סטודנטים', 'יקרים', 'אהלן', 'חברים', 'למישהו', 'יש', 'סיכום', 'של', 'cpp', 'התמונה', 'הושמטה', 'התמונה', 'הושמטה', 'התמונה', 'הושמטה', 'התמונה', 'הושמטה', 'למישהו', 'יש', 'מורה', 'פרטי', 'בלינארית', '2', 'התמונה', 'הושמטה', 'כמיטב', 'המסורת', 'ועל', 'אף', 'המצב', 'מחלקת', 'אקדמיה', 'של', 'האגודה', 'משתדלת', 'לדאוג', 'לכם', 'לתקופת', 'מבחנים', 'מוצלחת', 'החל', 'מהעלאת', 'מבחנים', 'קודמים', 'עם', 'פתרונות', 'המרצים', 'לאתר', 'האגודה', 'ועד', 'שיעורי', 'הכנה', 'ממוקדים', 'למבחן', 'שירגישו', 'לכם', 'ממש', 'כמו', 'מרתון', 'היישר', 'למבחן', 'התמונה', 'הושמטה', 'התמונה', 'הושמטה', '972546208698', 'קיבלת', 'ציון', 'מפחיד', 'בלמידת', 'מכונה', 'לא', 'הוא', 'אכן', 'הפחיד', 'אותי', 'סטיקר', 'הושמט', 'היי', 'אשמח', 'לעזרה', 'ממישהו', 'שמבין', 'בפייתון', 'בסיוט', 'הזה', 'שנקרא', 'django', 'rest', 'framework', 'התמונה', 'הושמטה', 'התמונה', 'הושמטה', 'מישהו', 'פה', 'מתכנת', 'ב', 'c', 'ב', 'vs', 'code', 'התמונה', 'הושמטה', 'התמונה', 'הושמטה', 'מישהו', 'עשה', 'בינה', 'מלאכותית', 'ויכול', 'לעזור', 'בבקשה', 'גם', 'אני', 'אנסה', 'התמונה', 'הושמטה', 'היי', 'לכולם', 'התמונה', 'הושמטה', 'התמונה', 'הושמטה', 'התמונה', 'הושמטה', 'הודעה', 'זו', 'נמחקה', 'התמונה', 'הושמטה', 'התמונה', 'הושמטה', 'מישהו', 'יודע', 'אם', 'יש', 'לנו', 'אפשרות', 'לגשת', 'איכשהו', 'למייל', 'אפקה', 'או', 'שהוא', 'נסגר', 'אחרי', 'התואר', 'כי', 'לאפקה', 'נט', 'אי', 'אפשר', 'להתחבר', 'אפשר', 'תאפס', 'סיסמה', 'המייל', 'סטודנט', 'שלי', 'שהוקם', 'ב2015', 'עדיין', 'פעיל', 'המייל', 'של', 'כל', 'מי', 'שלמד', 'איתי', 'שסיים', 'ב2020', 'עדיין', 'פעיל', 'כשאני', 'מנסה', 'להיכנס', 'לאפקה', 'נט', 'ואז', 'משם', 'למייל', 'אפקה', 'זה', 'רושם', 'לי', 'שם', 'מתחם', 'שגוי', 'או', 'משהו', 'כזה', 'פנה', 'לתמיכה', 'היי', 'גם', 'הרישיון', 'של', 'אופיס', 'והonedrive', 'כל', 'עוד', 'המייל', 'פעיל', 'הרישיון', 'קיים', 'התמונה', 'הושמטה', 'tom', 'cohen', 'צירףה', 'את', 'דגנית', 'ציטרין', 'בראון', 'מישהו', 'מכיר', 'מורה', 'פרטי', 'למערכות', 'הפעלה', 'היי', 'אם', 'יש', 'כאן', 'מפתחות', 'שמעוניינות', 'להכיר', 'סי', 'שארפ', 'או', 'להעמיק', 'בו', 'ולהשתמש', 'בזה', 'גם', 'לפיתוח', 'משחקים', 'ביוניטי', 'היי', 'איך', 'אני', 'מגיעה', 'למנהל', 'הסטודנטים', 'בטלפון', 'יש', 'קבוצה', 'לאלגוריתם', 'מתקדם', 'סמסטר', 'ב', 'כן', 'מעודכן', 'בדף', 'של', 'הקישורים', 'לקבוצות', 'מישהו', 'עשה', 'את', 'הקורס', 'למידה', 'חישובית', 'לא', 'סמינר', 'יש', 'קבוצת', 'ווצאפ', 'של', 'שפות', 'תכנות', 'יש', 'בתיאור', 'קישור', 'מרוכז', 'לכל', 'הקבוצות', 'תודה', 'התמונה', 'הושמטה']\n"
          ]
        },
        {
          "output_type": "execute_result",
          "data": {
            "text/plain": [
              "0.030585289001464844"
            ]
          },
          "metadata": {},
          "execution_count": 174
        }
      ]
    },
    {
      "cell_type": "code",
      "source": [
        "from nltk.stem import PorterStemmer\n",
        "import time\n",
        "# NLTK Stemming\n",
        "def stem_with_nltk(text):\n",
        "    stemmer = PorterStemmer()\n",
        "    stemmed_words = [stemmer.stem(w) for w in all_tokens]\n",
        "    return ' '.join(stemmed_words)\n",
        "\n",
        "start_time = time.time()\n",
        "stemmed_words = stem_with_nltk(all_tokens)\n",
        "nltk_time = time.time() - start_time\n",
        "\n",
        "print(\"Stemmed dataframe using NLTK:\")\n",
        "print(stemmed_words)\n",
        "print(f\"Stemming time using NLTK: {nltk_time:.6f} seconds\")"
      ],
      "metadata": {
        "id": "KGZBeMA_-yp_",
        "colab": {
          "base_uri": "https://localhost:8080/"
        },
        "outputId": "5c289923-2a01-429b-ba8a-8696e82bb1e6"
      },
      "execution_count": 175,
      "outputs": [
        {
          "output_type": "stream",
          "name": "stdout",
          "text": [
            "Stemmed dataframe using NLTK:\n",
            "הקבוצה נוצרה על ידי bar mosh מישהו מכיר מורה פרטי למערכות הפעלה וגם ללמידת מכונה מישהו יודע איך להוריד linux בmac m1 לא צריך הטרמינל של מאק הוא שווה ערך ללינוקס ערב טוב עד מתי יש היום לימודים 17 תודה מחר לומדים כרגיל או חצי יום אין לימודים מחר סגור תודה התמונה הושמטה מישהו מכיר את השגיאה שמופיע פתאום בהרצה של הפרויקט במקבילי לא חושב שזה טעות או שלא ראיתי טוב ואני מתבלבל זה שגיאה זה לא מריץ את הפרויקט פתאום זה קרה לעוד אנשים 972525757622 הודעה זו נמחקה הכל טוב הסתדר זה עובד גם בלי לעשות כלום סליחה פשוט לא מובן לנה מופיע למישהו קרה שלא עבד לו ההרצה על שני מחשבים ועל כל אחד בנפרד כן עובד כן קרה לי אותו דבר בוריס אמר להתעלם תודה זה שגיאה של ה vlab בוריס אמר לא להתייחס התמונה הושמטה החל משבוע הבא בימי שני דינה תעשה לנו את ההגנות לפרוייקטי גמר למה היא לא מודיע מראש בדרך כלל היא אומרת לנו בראשון בלילה אז זה כבר התקדמות למרות שזה הכי טוב שאפשר לקבל מדינה בשעות 811 או 1417 קיבלנו אישור כזה או שמחכים שהמכללה תאשר שאלתי את דינה מבחינתה אין שינוי וזה קורה רגיל ב16 נעשה לה הקיץ של אביה התמונה הושמטה התמונה הושמטה יש קבוצת וואטסאפ לc תודהה אה רגע זה לא הקורס של אפרת יש מישהו שעושה cpp עם קרן ואין לו פארטנר לפרוייקט מאיפה אתה יודע יש לי סמינר איתה בימי שני אז היא שאלנו אולי תגידו לה להתחבר לטימס נראה לי היא שכחה שהוא קיים היא שכחה שאנחנו קיימים עם דינה אני בטוח שהיא שכחה את הססמא למייל ששולח סיסמא חדשה לטימס התמונה הושמטה מישהו יודע האם בכל מצב אפשר לבטל בוחן אמצע או שזה מעל ציון עובר או משהו כזה יש מכסה של שלושה בשנה ללא סיבה תודה תופס גם לבוחן אמצע בלמידת מכונה נכון תופס לכל בוחן אמצע שמופיע בלוח המבחנים אש יש ציונים בפרוייקט במחשוב מקבילי באפקה נט הודעה זו נמחקה התמונה הושמטה עוד קצת ודי יש לך 4 נסיונות לבוחן וזה 20 מהציון לא שווה לך לוותר על זה אמורים להיות 3 בחנים בלמידת מכונה לא משום מה זכור לי משהו שזרקו על זה מילה זה לא הולך אחכ למטלות מישהו זוכר מה החלוקה של הציון הסופי במקבילי 40 40 20 מטלות 20 כן ממה שזכור לי אין על הסנכרון של אפקה עוד מישהו שהגיש פרוייקט וגם עשה הגנה עם בוריס וקיבל 1 מה קורה עם ההודעות מאפקה אני עוד שניה תובע אותם על ספאם חחחחחחחח זה קיצוני מעל 10 כבר השרת התחיל לשמור שבת נראה ככה איזה טראגי הסר התמונה הושמטה פרסמו בטימס את הקובץ של השיבוץ שעות לבחינה של הפרויקט גמר התמונה הושמטה התמונה הושמטה אפשר לרכוש כרטיסים בלי קשר ליוניק מהקישור הזה אני במקומך הייתי מחכה כי כרגע דינה אמרה שהיא לא קיבלה שום הוראה להזיז את ההצגת פרוייקטים וזה ב16 היא תקבל זו תהיה הפסקת לימודים מוגדרת דינה בגדול תצטרך להתיישר איך דואגים שזה יקרה יוציאו לנו הודעה בימים הקרובים התמונה הושמטה מישהו יודע אם יש איך לבדוק במודל כמה פעמים נעדרתי משיעור אין בקורס אנגלית יש נוכחות במודל שאפשר לראות איפה ללחוץ על התמונה בפינה במודל ציונים לבחור את הקורס attend מחר לימודים כרגיל היום לימודים כרגיל חכה לדקה ה90 רק אז יגידו התמונה הושמטה לא נראלי שכדאי לכם שהמחזור שלנו יגיע מוקדם מדי להגיד כרגע עוד אין שינוי אההההה אז בסדר עדיין מוקדם מדי אין שינוי למישהו יש את המייל של דר שהם יקותיאל הוא מעביר קורס כללי שנקרא מאמרי דעה יש אפשרות לשנות משהו בהגדות של הוילאב כדי שיהיה אפשר להעתיק מהוינדוס לוילאב ולהיפך תתחיל ליצור pipe אבאלה יש קבוצה ל c של הסמסטר יצאה סיום לימודים ב1400 יש לשחרר סטודנטים בשעה זו מה זה יום סטודנט זה בהקשר של דינה אה סבבה התמונה הושמטה אצלי עובד תקין עם איזה יוזר אתה מתחבר אותו אחד שאני מתחבר לאפקה נט אז רגע אני אנסה להתחבר מהיוזר שלי ולא מהכללי גם האישי מתחבר שלי מישהו שעושה אלגוריתם מתקדם והתחיל את המטלה בשאלה 1 צריך לבנות אלגוריתם עם מכונת מצבים למישהו יצא לעשות מרתון כלשהו עם יצחק צוברה התמונה הושמטה חברים יש פה סקר עם 3 שאלות קצרות למישהו יש את המייל של דוד שטטר אני צריך עוד 2 תגובות זה היה מהיר תודה stattergmailcom מישהו פה לומד עם שלום מנדל אתיקה בהנדסת תוכנה דחוף לשאלה קטנה קטנה אני מה זה השטיח המעופף הנדסה מדמח איפה רשום שם תאריך אין לי מושג זה של הנדסה אנחנו אולי יכולים לצפות לאיזה פוסט מוסתר בלינקדין של אפקה בסוף הכל זה כסף הכנס ב16 תגיד לה שהיא חייבת לעדכן אותנו בטימס זה לא עובד ככה שמי שנמצא בקורס אחר מקבל עדכונים וצריך להעביר את זה לכולם א אתה צודק לגמרי מנדבת הכנס לא חובה בכל מקרה כנס הצגת פרויקטי גמר למה לא חובה לפי מה שהיא אמרה בפגישה הזאת שהיא עשתה בטימס חובה להיות לא חובה להציג או משהו כזה לא ממה שאני הבנתי היא ממש רוצה שנבוא אבל זה לא חובה אלא אם היא תכתוב הודעה מסודרת שזה מוריד ציון אני לא מתכוון לבוא בכל מקרה חחח אני הבנתי ממנה שזה חובה מקווה שהבנתי לא נכון תערוכת פרויקטי גמר תוכנה מדמח מתי זה מישהו יודע התמונה הושמטה זה הנדסה לא כתוב גם מדעי המחשב gif הושמט מה למישהו יש את המייל של דינה גורן בר dianagafekaacil כן תודה הלוואי שהיא פשוט תוציא הודעה מסודרת gif הושמט מיותר לשלוח אין לי ברירה אחרת בכל הפלטפורמות היא לא זמינה למישהו יש את תרגיל 3 במודלים אין בדריב אין למטלה 3 לא תרגיל 3 תכנותי אאאה השיט הזה אני אחפש אצלי כשאגיע לבית אבל היה חסר אצלי משהו אז קיבלתי 90 אם זה מתאים לך תחפש בגיט למחפשי עבודה ראשונה בתחום אבטחת מידע 0502131926 אין לי שום קשר למשרה מישהו עשה את תרגיל 3 באלגוריתם מתקדם אם למישהו יש חומר מודפס במחשוב מקבילי או בקומפלציה אני ממש אשמח מכתב לסטודנטים מדעי המחשב הנחיות אחרונות לקראת התערוכהdocx מסמך הושמט מישהו הבין אם ההצגה הזאת היא חובה ממה שרשום אני מבין שכן מה חחחח התמונה הושמטה למי שרלוונטי לה queenb פותחות מיונים 972546561465 בהצלחה נסיכה gif הושמט יש מרתון במודלים חישוביים התמונה הושמטה התמונה הושמטה שלוש שנים אני לומד באפקה וכל המסיבות יוצאות על יום רביעי כשאני לא לומד ברביעי לא רק אתה אח מי שבמכללה שתדעו שיש חסימות ליד קניון איילון בגלל מרוץ רמת גן שתדעו לפני שאתם נוסעים הביתה אשרייךך מישהו יודע למה פתחו עוד בוחן בלמידת מכונה למי שעבר את ההגנה של הפרוייקט עם דינה היא ביקשה לראות את הדאטה סט לא מישהו ניתקל בבעיה שmatplotlib לא עובד ספציפית בגופיטר בכל מקום אחר עובד בגופיטר לא עובד אפילו במחברות שפעם עבד בהם עידכון לגירסה של הכל גם לא עוזר תוסיף matplotlib inlin איפה דינה מקבלת על הפרויקט באיזה חדר לנו זה היה למעלה בסגל בפיקוס בחדר מורים כזה וכמה זמן כל אחד בערך חצי שעה 40 דקות בלי נדר מי קבוצה t9 שמציגה היום ב1600 307 התמונה הושמטה יש קבוצה לשפות תכנות תגידו יום ראשון הצגת הפרויקטיפ זה חובה אם לא רוצים להציג על פי מה שדינה אמרה זה חובה אני דווקא הבנתי שזה לא במחלקות אחרות הבנתי שרק פרוייקטים מצטיינים מציגים איך יהיה מקום לפרוייקטים של 3 מחלקות בפיקוס יש אולי 40 עמדות בחוץ ממש שאני שומע ונראה שדינה היחידה שהולכת להיות שם היא והפוסטרים ממה לא הוציאו ממש הבהרה בנושא ושינו את התאריך בהתראה קצרה מדי ולחלקנו זה נפל על דברים 972549732210 97237688699 מול מי אפשר לברר את הסיפור הפרויקטור של המחלקה כלומר דינה חחחחחחחח סליחה שאין לי תשובה טובה יותר אני לא בטוח כמה זה מחובר למינהלת הפרויקטים הרי ברור שבכל פלטורמה שנפנה אליה כרגע הפעם הבאה שתענה תהיה ביום ראשון פרונטלית בהצגה של הפרויקטים יום ראשון הגזמת מינימום חמישי הבא בהתחלה אמרו שמציגים את כל הפוסטרים אבל לא חייב להגיע ולעמוד פיזית ליד הפוסטר משום מקום התחילה לרוץ הודעה שחייב להגיע התמונה הושמטה מה המחירים שהיו לפני בקובץ בsubmiss מישו יש מושג למה אני מנסה לפתוח local serverbas databas ב vs 2022 net window form אני מקבל את השגיאה הבאה התמונה הושמטה פתחת פורט לשרת אם איזה שרת ניסית להתחבר לעוד מישהו הוילאב קצת תקוע וואלה זה הדבר היחיד שפתוח לי במחשב והמחשב חזק והאינטרנט אחלה וזה לא זז מישהו שעשה סמינר עם דינה כן טוב חברים מישהו השיג תשובות חובה או לא חובה מרגיש כאילו אני לפני מסע בטירונות אני הבנתי מדינה שזה חובה אבל לא ראיתי את זה כתוב בשום מקום אני יודע שדינה העבירה רשימת שמות של 27 צוותים שאמורים להציג איפה רואים את זה שמונה שעות עומדים ומציגים איך זה עובד מה זה החרא הזה אני לא יודע בזמני התערוכה לא הייתה קיימת כי הייתה קורונה אני רק יודע שיש 27 צוותים שנשלחו למינהלת הפרויקטים כי זה מה שניר אמר לי לפני חודש בעפ כששאלתי אותו על זה משהו באים סקאוטרים ממיקרוסופט אז תגיעו בואו נעשה צאווזי חחחחחחחח רמת אמינות סנסור זה entiti סטיקר הושמט סטיקר הושמט יש ציונים על הפרויקטים דינה לא אמרה שיהיו ישר אחרי הקבוצה האחרונה מאמין שיש לנו איזה חודשיים ככה בכיף 27 צוותים זה כולם נראה לי חח זה 3 עד 7 כתוב שצריך להגיע ב13 כנראה להתארגן על העמדה או משהו מישהו עושה חדוא 2 ורוצה ללמוד ביחד סטודנטים יקרים מקפיץ לטובת הכלל השבוע בזמן אפקה נציגת ביטוח לאומי תסביר בזום מי זכאי להכרה בנכות ולשיקום מקצועי ניתן לקבל סיוע כגון מימון שנת לימודים ובמקרים מסויימים גם את כל שנות הלימודים ותשלומים נוספים התמונה הושמטה אחרי דינה כולנו צריכים הכרה ושיקום מקצועי רלוונטי למישהו פה מלגות שנפתחות והדקנאט מפרסם להעביר בקבוצות אתם שנה אחרונה ולא בא לי להספים אתכם סתם למישהו יש את המייל של שלום מנדל במקרה למה אוהד עושה אצלו בסיסי נתונים צריך לשלוח ובאפקה נט אין לו מייל משתתף בצערך mendelafekaacil קיבלתי שיהיה למי שצריך ממש משתתפת בצערך מישהו עושה שפות תכנות לשאלה קטנה יש למשהו אולי סיכום טוב בלמידת מכונה סיכום יעליpdf 58 דפים מסמך הושמט התמונה הושמטה זה מיועד א או ב מועד א מישהו נמצא בקורס כללי שנקרא ממאמרי דעה לפרקטיקה הודעה זו נמחקה מישהו שעשה פיתוח משחקים בעבר אם זה עדיין רלוונטי דבר איתי אחי כן יש כאן מישהו שעושה קורס כללי עם אבי בלאו הסמסטר תגידווו חברים יש למישהו אולי את המבחן במודלים חישוביים 2022 סמסטר ב מועד ב בלי תשובות אולי לי אני בודק עדיין רלוונטי למי שיש מישהו שניגש מחר למבחן בלמידת מכונה קיבל שיבוץ לכיתה בה הוא נבחן זה קורה באיזור ה4 שעות עד שעתיים לפני בחינב לא זה לא כן זה כן עובדתית זה כן זו ההתחייבות מצד מדור בחינות חחחחחחחחח 3 שנים במכללה פתאום זה הנורמה 9 שנים במכללה אני חושב שאני קצת יותר יכול להגיד מה הנורמה תמיד היה יום לפני בלחץ ערב לפני מסתבר שזה היה פנטזיה אני פשוט ממש מרגיש מוכן ובטוח בעצמי לקראת המבחן מחר אז אני סקרן מבין ההתחייבות של מדור בחינות היא לפרסם את זה לכל המאוחר שעתיים לפני הבחינה זה שיצא לא מעט שזה עלה גם לפני כן לא אומר שזה הכלל יש חומר פתוח במבחן של בסיסי נתונים הסמסטר כן בלי הגבלה הודעה זו נמחקה הודעה זו נמחקה יש למישהו את המבחנים של 2021 סמסטר ב ויכול לשלוח בבקשה מישהו יכול לשלוח בבקשה את המבחנים של קומפלציה סמסטר קודם מנושא 10334 קומפילציה מועד 2zip מסמך הושמט זה המועד ב בנים זכרים עוד השנה אמן תגידו החניה ליד הקריה היא כחול לבן או שלא צריך שם פנגו שואל סטודנט שנה שלישית שלא בא עם רכב למכללה אף פעם בחניה של הקריה לא בכביש ליד כן ואל תחנה אחרי 17 בחניה של הקריה במקומות שצמוד לכביש ליד מסתבר שאסור מזתומרת תראה אם זה חניה עד 17 בתשלום ואחכ לתושבי האיזור או שזה עד 19 בתשלום ואחכ בחינם במתחם של הקריה איפה שהחניה הגדולה לא ברחובות ליד הכוונה ליד מפט וכאלה סבבה תודה מישהו יודע כמה עולה להדפיס במדפסות בפיקוס הדפסתי רביעי שעבר איזה 20 דפים יצא פחות מ5 שקל מישהו שעושה עם מריה אלגוריתם מתקדם ויודע אם היא אמרה משהו על איך יהיה בנוי המבחן איציק כותב את המבחן 3233 שאלות אמריקאיות שאלה אחת פתוחה תודה רבה תבורכי שלא תדעו עוד צער למה ככה הוא דווקא כותב הוגן השאלות שלו לא קשות תגידו מה הדיבור לגבי ציונים בפרויקט גמר יש לה איזשהו דדליין או שהיא יכולה למשוך אותנו עד שנה הבאה כשתבוא לזרוק את הכובע בטקס הענקת תארים אני מאמין שתקבל מייל עם ציון לא לפני בפרויקטי גמר הדדליין הוא באוקטובר אבל ההגשה כבר היתה במאי אז עד אוקטובר כן זה דרך מינהלת הפרויקטים ככה זה עובד חחח אז אין תואר עד אוקטובר גם ככה הטקס הוא רק בדצמבר או ינואר והבחינות האחרונות השנה הם באוקטובר כן אבל אפשר להוציא טופס זכאות התמונה הושמטה קשה לדעת עם דינה ההודעה נערכה היא אמרה יום ראשון לא אמרה איזה ראשון בוקר טוב מישהו שלומד סטטיסטיקה הסמסטר יודע אם המבחן חומר פתוח או עם נוסחאות ואם נוסחאות אז איזה מישהו יודע איך אפשר להחזיר את המודל לגרסה הישנה מאיזה בחינה לחזור לקורסים של סמסטר קודם או שיראה כמו המודל הקודם הם עשו עדכון למודל נכון מה אתה רוצה לעשות התמונה הושמטה תלחץ שם יעביר אותך למודל הקודם עם הקורסים שלך מישהו שעשה הסמסטר c לעזרה קטנה היי מישהו יודע אפ יש קבוצה ל c הסמסטר מישהו עשה סמסטר קודם מערכות הפעלה או עושה הסמסטר לא יאומן אבל יש ציונים על הפרוייקטי גמר 2 ביולי אחי ההודעה נערכה כאילו לא 1 באפריל אחרי שהסיוט הזה נגמר 972549732210 יש איזשהו דדליין לציונים על הסמינרים איך זה עובד שם חודש אחרי ההגה שלו בעקרון יש מי שדואג שזה יאכף אם מי צריך לדבר על זה מישהו נמצא מחר בבוקר ב8 במכללה ויש לו יוזר להדפיס במדפסות במכללה מתי מתחיל סמסטר קיץ שני מחר מחר סמסטר לא מתחיל ביום שהוא לא יום ראשון הודעה זו נמחקה למישהו יש במקרה מייל של גדי איזה מהשניים אה קומפילציה ואם יש עוד אנשים שבמקרה קיבלו 0 על חלק מההגשות אפילו שהם הגישו gadipafekaacil מחפשת אייפד יד שניה אם מישהו מוכר מישהו מכירעשה יודע את הקורס בחירה מערכות סייבר פיזיקליות לשאלה דחופה זה קורס חדש לפי מה שאני יודע אולי אני טועה יש מישהו שנרשם לזה בקיץ לא טועה מישהו במקרה יודע אם יש קבוצה לקורס c סמסטר ב או מכיר מישהו שנה ב מתוכנה ויכול לשאול אותו מישהו עושה c והציג את הפרוייקט כבר לשאלה קטנה אם מישהוי יודע על שותף שעוזבחדר שמתפנה בקרבת המכללה אני אשמח לדעת בפרטי יש קבוצה לבסיסי נתונים אורקל לסמסטר אם מישהו צריך בהזדמנות זאת אשאל אם יש קבוצה לאסמבלי שימו לב התמונה הושמטה מישהו עושה את הקורס היזמים ששינו את העולם בסמסטר קיץ מישהו עושה מועד ב במחשוב איזה קור הוא העביר ממה שאני מכיר היו עוד במהלך השנים אותי הוא לימד לינוקס סמסטר שעבר מישהו נימצא לייד עירית יש למישהו סיכום ללינארית 2 מישהו יודע איך קובעים פגישה עם דוד פייטלסון הראש חוג הולכים למעלה ודופקים בדלת או ששולחים מייל או פניה לראשי מחלקות ההודעה נערכה כן צריכה אותו פנים אל פנים או לתפוס אותו בפיקוס בזמן אוכל הודעה זו נמחקה מישהו במקרה דיבר עם גדי על הציונים של ההגשות והוא ענה לועדכן לא את הציון למישהו האתר של האגודה עובד העלו באינסטגרם שיש בעיה להתנתק מהוייפיי סבבה תודה הודעה זו נמחקה מישהו מכיר את המרצה פסטרנק טל לא שמעתי עליו בחיים מרצה חדש ממה שידוע לי אמת גם הקורס חדש הוא מלמד גם באוניברסיטה העברית את אותו הקורס איזה קורס הוא מלמד מערכות סייבר פיזיקליות יש למישהו את הסילבוס של הקורס שניה אני אחפש הוא שלח לי פעם סילבוסpdf 4 דפים מסמך הושמט תודות סקר נראלי שווה לשאול אולי שנה א ירון גם שם שואלים אח למישהו גדי ענה על ערעור במקרה קומפילציה מחכה שיענה לי למייל מתחילת שבוע כן לי לוקח לו זמן למישהו יש את המבחן של אלגוריתם מתקדם במועד א yedionzipfile0168701357zip מסמך הושמט מישהו התחיל את הפרויקט במקבילי לכמה שאלות למישהו יש את המספר במקרה של שירה המתרגלת בלמידת מכונה כרטיס איש קשר הושמט מתי נפתחת הרשמה לשנה הבאה חודש לפני הסמסטר בערך 972549732210 לימודים כרגיל מחר תמיד שואלים ותמיד זה כן כל עוד לא שלחו הודעה מהמכללה זה רגיל זה חריג שבמצב שהולך להיות מחר מאלצים אותנו להגיע זה היה גם שבוע שעבר זה לא אותו דבר בדיוק אותו דבר ללא שינוי זה הולך להיות יותר גדול ממה שהיה בשבוע שעבר ועדיין מצד נשיא המכללה אין שינוי חחחחח איך אמורים להגיע למכללה מישהו יודע קורקינט חשמלי רגיל אין הפגנות כל כך כרגע לוח הפגנות מלא לפי שעות מוזמנים להתעדכן תודה התמונה הושמטה 972528691500 זה הסטאר שלכם התמונה הושמטה הודעה זו נמחקה מישהו יודע לאן אפשר להעביר הלאה מליון סיכומים שנאספו ונכתבו לאורך התואר ומי אחראי על הדרייב לדעתי עדיין דימיטרי אחראי על הדרייב אפשר לבדוק איתו ובאותה הזדמנות להגיד לו לתת הרשאה למישהו מהחברה שפותח עוד שנה שלפחות יהיה מישהו אחראי 972526345354 דרייב חומרי לימוד בין חברים בפייסבוק אני לא יודעת אם עוד יש לי גישה לערוך אני יכולה לבדוק תודה לכם תוך כמה זמן מסוף הסמסטר אמורים לקבל ציון בקורס שאין בו מבחן חודש מיום הגשת הפרויקט וכשזה לא קורה מה עושים מדובר כמובן בסמינר מדמח עם דינה מחכים מדור בחינות רודף אחריה תודה אפשר גם לשלוח למנהל הסטודנטים פנייה והם יסננו אותך ליותר משבוע יש למישהו את מבחן מועד א של ארכיטקטורהאסמבלי התמונה הושמטה לא יאמן שסיימנו תואר ודינה עדיין מרצה במכללה פרוטקשין אל תדאג היא יוצאת לפנסיה עוד רגע לא יודע למה אני מחכה יותר לזה או לציונים בסלולאר אני מקווה שהשבוע אשב לסגור הכל עם גיא מישהו יודע אם כבר פתחו את המערכת למועדים מיוחדים ואם לא מתי זה יקרה רק אחרי כל ציוני הבחינות של הסמסטר זה לא יכול לקרות לפני הם צריכים לוודא שלא ניגשתם ללפחות מועד אחד תודה מי שהיה במקבילי בסמסטר האחרון וכתב את הפרויקט עם mpiopenmp לשאלה בפרטי עשית קודא שקרן עשיתי הכל מישהו מכיר אולי אפשרות לשליחה אוטומטית של הודעה אם מתקשרים אליי ואני לא זמין כמו עקוב אחריי כזה אבל ששולח הודעה תיאור הקבוצה שונה על ידי heele היי ריכזתי את כל הקישורים של קבוצות הוואטסאפ של קורסים במקום אחד במקום להצטרך לשאול כל הזמן מישהו מכיר תוכנה להקלטת מסך חינמית תודההה מישהו עושה קורס עם ויקטור הסמסטר גרפיקה ממוחשבת כן תודה אחי הסתדרתי למישהו יש את המספר המייל של ירד קרני yardenkaafekaacil תודה מישהו במקרה עובד או יצא לו לעבוד עם php מישהו פה מתעסק בתכנות עם מק לכמה שאלות כן אחי מישהו התעסק עם uipath studio לכמה שאלות סטודנטים של קורסי קיץ התמונה הושמטה התמונה הושמטה לא קשור לפה אשמח לדעה ממי שכבר עשה כנראה הרוב מבוא להנדסת תוכנה שמואל או יצחק איציק מלמד את זה פעם ראשונה השנה דינה הכי טוב דינה כבר לא מלמדת ניראלי חחח שמואל חד וחלק לא אופציה יותר יום אבל לאומי לכל סטודנט בישראל מצטרף שתהיה ברכה על ראשכם שמואל חמוד חברים יש היום יומולדת לדן שלנו תאחלו לו מזל טוב 972526294832 מזלל טוב לדןןן מה הוא סיים תואר סטיקר הושמט מזל טוב לדנוסס היקרר הודעה זו נמחקה מזל טובבבבבב סטיקר הושמט תודה רבהה מזל טוב מלך מישהו עשה סמינר במדעי המחשב כן יודע להגיד מבחינת הקושי מה הנוכחות שדרשו כמה זמן בערך לוקח לעבוד על הפרוייקט באיזה שפה דרשו העבודה בקבוצות דרשו נוכחות בערך 50 מהשיעורים כי יש הצגות של הפרויקטים לנו לקח בערך שבועיים לעבוד על זה וזה בפייתון בזוגות מדהים תודה התמונה הושמטה התמונה הושמטה יום ראשון שמח לכל המהנדסים שהם לא רובוטים התמונה הושמטה התמונה הושמטה סרטון הווידאו הושמט אנחנו פותחים קבוצה בשביל המסיבה כדי לא לחפור לכם פה מישהו עשה קורס ראייה ממוחשבת התמונה הושמטה חברים יקרים ובהזדמנות זו אם מישהו מכיר דיגיי תותח במחיר טוב נשמח לשמוע כדי לסגור גם את הפינה הזאת תודהה במבוא להנדסת תוכנה באמת בודקים נוכחות דינה הייתה בודקת שמואל לא בדק ממה שאני זוכר ונגיד שלא בודקים שמות זה קורס שאתם ממליצים להיכנס אליו מבחינת הרמה שלו אה נכון התבלבלתי עם הסמינר לא בודקים נוכחים ואין מה להיכנס בגדול אפשר להסתדר בלי זה מבחן אמריקאי עם חומר פתוח בקטן כל קשר בין החומר למבחן מקרי בהחלט לדעתי מבטלים את זה מהקורסים הבאים למישהו יש דף נוסחאות של c זה לא הכנה עצמית למי שצריך כן יש קבוצת וואטסאפ ל c קיץ של איזה קובצה לא משנה יש לי כמה שאלות אני עושה מועד מיוחד אם מישהו בקורס ויכול לעזור תשלחו לפרטי יש בdescript קישור לעמוד שעשיתי עם קישורים לכל קבוצות הוואטסאפ שפתחו לקורסים בקיץ שבוע טוב חברים סרטון הווידאו הושמט התמונה הושמטה אם היה לי שקל על כל פעם שסטפניה אמרה שהבת שלה בהיריון הייתי יכול לממן את כל האירוע הזה כולל היאכטה תזמין גם את דינה בשביל אמיר של מי אתה חושב היאכטה שלך במימון התמונה הושמטה יש ציונים לפרוייקט במחשוב סמסטר ב בשעה טובה יש כבר מזמן הוא עדין לא אעלה ציון סופי הודעה זו נמחקה התמונה הושמטה למישהו יש בעיה בהתחברות לפורטל אפקה עכשיו צריך לשנות סיסמא עשיתי אתמול אז לא יודע מעבר וואלה התחבר לי דיי מהר ואני במדינה אחרת סודרה הבעיה תודה למישהו יש את הפיתרון של המבחן של אתמול קומפילציה אהלן חברים אני מחפש מתפעלים לגבי ראיונות במשחקי כדורגל וכדורסל באיזור המרכז פתח תקוה חולון תל אביב רמת גן נתניה למישהו יש את המספר או המייל של התמיכה טכנית באפקה 037688688 תודה helpdeskafekaacil מישהו מכיר מורה טוב למערכות הפעלה יוטיוב גוגל אתם אינפורמטיבים לאללה היום מדע מדוייק אחשלי סטודנטיות וסטודנטים יקרות ויקרים התמונה הושמטה מידע על הזכויות של משרתי מילואים בקישור הבא סטודנטיות וסטודנטים יקרות ויקרים לוח מבחנים של סמסטר א גם נדחה בשבוע כל השנה זזה לוח הבחינות איתה אשמח לדבר עם סטודנטים שעשו פרויקט גמר לזיהוי פנים במיידי לצורך פרויקט התנדבותי איתן פורת הקים אתר שמאמת את הקישורים לתרומות כספיות שאנו מרבים לקבל קבוצה שחבר טוב שלי פתח התמונה הושמטה התמונה הושמטה לגדוד של אחי חסר ציוד לחימה הכרחי ונפתחה קבוצה לגיוס כספים לשם בנימה זאת אם יש מישהו יוצא תקשוב שרוצה לעשות מילואים בבית חולים על אזרחי בצפוןדרוםירושלים מוזמנים לפנות אליי בפרטי ההגדרה לאישור הצטרפות לקבוצה על ידי מנהלת הופעלה על ידי tom cohen לאור המצב הודעת עדכון מנשיא המכללה פרופ עמי מויאל ההודעה נמחקה על ידי heele מנהלת הקבוצה אפשר להפסיק להעביר את ההודעות האלה בקבוצות של התואר בבקשה יש את פיקוד העורף בשביל הודעות כאלה ההודעה נמחקה על ידי heele מנהלת הקבוצה לא ראיתי מה שלחו אבל למה שתמחקי לאנשים הודעות ההודעות נמחקו בצדק אני הייתי מוחק אותם באותה המידה במקרה הזה אוקיי ההודעה הראשונה הודעת בהלה כל המטרה שלה היה לזרוע בהלה על דברים שאתם גם ככה יודעים יש גבול למה אפשר לכתוב ומה לשלוח בקבוצה זה נכון שהקבוצה היא גם שלכם אבל אין שום סיבה לפרסם בה הודעות שכל מטרתן הוא לזרוע בהלה מעבר למה שכבר קיים בייחוד שיש עשרות גורמים נוספים שקשה להתעלם מהם שמפרסמים את אותה ההודעה ובמקרה הספציפי הזה ההודעה היא אינה הודעה רשמית אלא הודעת שרשרת שמועברת בצורה ספוראדית בדיוק בצורה הזו ההודעה נערכה אנחנו תת ארגון של יוצאי 8200 ו81 התמונה הושמטה שלום חברים התמונה הושמטה היי אבא שלי ואנשים בעיר הקימו פלטפורמה לגיוס כספים עבור מקומות שונים בארץ ניתן ליצור קשר עם אחד האנשים שרשומים מטה ולהגיד להם לאן רוצים לתרום קומנדו ההסברה של אגודת הסטודנטים וקהילת הבוגרים של אפקה קורא לכם ולכן לדגל התמונה הושמטה התמונה הושמטה נובההלפ ההתארגנות המדהימה של מטפליםות לסיוע לנפגעים שהיו מסיבת הנובה עורכים מחר שיחת זום לקרובי משפחה וקרובים של הנפגעים התמונה הושמטה היי מי שמעוניין להתנדב בפרוייקט להקמת מערכת לניהול תרומות דם במדא מוזמן לדבר איתי בפרטי סטודנטיות וסטודנטים יקרות ויקרים אהלן חבריםות אשמח לדבר בפרטי עם אנשים שיודעים אם צריך מילואימניקים ליחידה שלהם חמליסטיםמשקים וכו באיזור המרכז סטודנטיות וסטודנטים יקרות ויקרים סטודנטיות וסטודנטים יקרות ויקרים התאחדות הסטודנטים והסטודנטיות הארצית יזמו את מלגת קטיף לאומי במטרה לסייע לחקלאים בקטיף ולצלוח את התקופה המאתגרת הזו התמונה הושמטה קבוצת הריצה של אפקה מזמינה אתכם לאימון ריצה לזכר הנופלים סטודנטיות וסטודנטים יקרות ויקרים התמונה הושמטה הודעה זו נמחקה צהריים טובים מעורבות בקהילהpdf דף אחד מסמך הושמט התמונה הושמטה פרויקטים נז מעורבות חברתית תשפדpdf 2 דפים מסמך הושמט התמונה הושמטה ממש מומלץ גם הפודקאסט שלו מומלץ בטירוף סטודנטים יקרים התמונה הושמטה השימוש בpaybox חינם מכיר את המקור התמונה הושמטה פתיחת שנת הלימודים נדחתה ל311223 תאריכי הסמסטרים משתנים בהתאם הודעה עדכנית באפקה נט קול קורא חונכויותpdf דף אחד מסמך הושמט התמונה הושמטה לא ניסיתי עדיין אבל זה אתר של הכנה לראיונות עבודה של מטא פייסבוק קבוצה תורת המידע התמונה הושמטה התמונה הושמטה התמונה הושמטה התמונה הושמטה התמונה הושמטה האם יש אפשרות לקבל אישור לימודים בשפה האנגלית דרך האפקה נט לא אפשר לקבל גליון ציונים באנגלית אם זה עוזר בכלל אני חייב אישור לימודים או שכר לימוד תודה בכל אופן פניה למדור ההכוון האקדמי והם יפיקו לך אחד כזה היי אני חושב ששכחתי את המטען למחשב בקיריה בכיתה ה11 איפה זה יכול להיות תודה לעוזרים יש עמדת שומר בכניסה הראשית בני אפרים לא החניה עד מתי היא פתוחה שם אתה יודע בגדול כל עוד המבנה פתוח אמור להיות שם שומר התמונה הושמטה אהלן אנשים אני אנסה את מזלי בקבוצה הזו היי תגידו מישהו שעשה סמינר בלמידה חישובית עם עמית שטקל או אולי עושה עכשיו אם יש כאלה תמליצו בבקשה איך הסמינר איך עמית סמינר עצמו בסדר אז אם אתה עושה אותו תצפה ללמוד לא מעט לבד מיוטיוב ההודעה נערכה תודה רבה אחי מישהו יודע אם יש תקלה בכניסה לאפקה נט התמונה הושמטה התמונה הושמטה סטודנטים יקרים אהלן חברים למישהו יש סיכום של cpp התמונה הושמטה התמונה הושמטה התמונה הושמטה התמונה הושמטה למישהו יש מורה פרטי בלינארית 2 התמונה הושמטה כמיטב המסורת ועל אף המצב מחלקת אקדמיה של האגודה משתדלת לדאוג לכם לתקופת מבחנים מוצלחת החל מהעלאת מבחנים קודמים עם פתרונות המרצים לאתר האגודה ועד שיעורי הכנה ממוקדים למבחן שירגישו לכם ממש כמו מרתון היישר למבחן התמונה הושמטה התמונה הושמטה 972546208698 קיבלת ציון מפחיד בלמידת מכונה לא הוא אכן הפחיד אותי סטיקר הושמט היי אשמח לעזרה ממישהו שמבין בפייתון בסיוט הזה שנקרא django rest framework התמונה הושמטה התמונה הושמטה מישהו פה מתכנת ב c ב vs code התמונה הושמטה התמונה הושמטה מישהו עשה בינה מלאכותית ויכול לעזור בבקשה גם אני אנסה התמונה הושמטה היי לכולם התמונה הושמטה התמונה הושמטה התמונה הושמטה הודעה זו נמחקה התמונה הושמטה התמונה הושמטה מישהו יודע אם יש לנו אפשרות לגשת איכשהו למייל אפקה או שהוא נסגר אחרי התואר כי לאפקה נט אי אפשר להתחבר אפשר תאפס סיסמה המייל סטודנט שלי שהוקם ב2015 עדיין פעיל המייל של כל מי שלמד איתי שסיים ב2020 עדיין פעיל כשאני מנסה להיכנס לאפקה נט ואז משם למייל אפקה זה רושם לי שם מתחם שגוי או משהו כזה פנה לתמיכה היי גם הרישיון של אופיס והonedr כל עוד המייל פעיל הרישיון קיים התמונה הושמטה tom cohen צירףה את דגנית ציטרין בראון מישהו מכיר מורה פרטי למערכות הפעלה היי אם יש כאן מפתחות שמעוניינות להכיר סי שארפ או להעמיק בו ולהשתמש בזה גם לפיתוח משחקים ביוניטי היי איך אני מגיעה למנהל הסטודנטים בטלפון יש קבוצה לאלגוריתם מתקדם סמסטר ב כן מעודכן בדף של הקישורים לקבוצות מישהו עשה את הקורס למידה חישובית לא סמינר יש קבוצת ווצאפ של שפות תכנות יש בתיאור קישור מרוכז לכל הקבוצות תודה התמונה הושמטה\n",
            "Stemming time using NLTK: 0.118221 seconds\n"
          ]
        }
      ]
    }
  ]
}